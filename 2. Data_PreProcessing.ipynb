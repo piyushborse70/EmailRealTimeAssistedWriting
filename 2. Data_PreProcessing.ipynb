{
 "cells": [
  {
   "cell_type": "markdown",
   "id": "a9e70e74",
   "metadata": {},
   "source": [
    "### 3. Data Preprocessing"
   ]
  },
  {
   "cell_type": "markdown",
   "id": "c713d908",
   "metadata": {},
   "source": [
    "**Steps for Text pre processing**\n",
    "\n",
    "- Remove special chars and letters with those special chars\n",
    "- Numbers and numbers with letters\n",
    "- remove names\n",
    "- not include links like start with http\n",
    "- Not include words with :, to:, id:, pass:\n",
    "- remove anything in brackets (){}[]\n",
    "- remove comma's?(,) i think yes.\n",
    "- For Forwarded Emails:- \n",
    " - starts with -----\n",
    " - Return-Path: is last line\n",
    " - so removing it"
   ]
  },
  {
   "cell_type": "code",
   "execution_count": 98,
   "id": "dece66de",
   "metadata": {},
   "outputs": [],
   "source": [
    "import os\n",
    "import email # to process email more effectively and easily\n",
    "from prettytable import PrettyTable\n",
    "from tqdm import tqdm\n",
    "import pandas as pd\n",
    "import os\n",
    "import numpy as np\n",
    "import matplotlib.pyplot as plt\n",
    "import seaborn as sns\n",
    "import re #regex\n",
    "from tqdm import tqdm"
   ]
  },
  {
   "cell_type": "code",
   "execution_count": 99,
   "id": "7bda6c56",
   "metadata": {
    "scrolled": false
   },
   "outputs": [
    {
     "data": {
      "text/html": [
       "<div>\n",
       "<style scoped>\n",
       "    .dataframe tbody tr th:only-of-type {\n",
       "        vertical-align: middle;\n",
       "    }\n",
       "\n",
       "    .dataframe tbody tr th {\n",
       "        vertical-align: top;\n",
       "    }\n",
       "\n",
       "    .dataframe thead th {\n",
       "        text-align: right;\n",
       "    }\n",
       "</style>\n",
       "<table border=\"1\" class=\"dataframe\">\n",
       "  <thead>\n",
       "    <tr style=\"text-align: right;\">\n",
       "      <th></th>\n",
       "      <th>EmailText</th>\n",
       "      <th>Subject</th>\n",
       "      <th>Day</th>\n",
       "      <th>Hour_periods</th>\n",
       "      <th>Seasons</th>\n",
       "    </tr>\n",
       "  </thead>\n",
       "  <tbody>\n",
       "    <tr>\n",
       "      <th>0</th>\n",
       "      <td>Message-ID: &lt;7452188.1075855667684.JavaMail.ev...</td>\n",
       "      <td>Consolidated positions: Issues &amp; To Do list</td>\n",
       "      <td>Mon</td>\n",
       "      <td>Morning</td>\n",
       "      <td>Autumn</td>\n",
       "    </tr>\n",
       "    <tr>\n",
       "      <th>1</th>\n",
       "      <td>Message-ID: &lt;23790115.1075855667708.JavaMail.e...</td>\n",
       "      <td>Consolidated positions: Issues &amp; To Do list</td>\n",
       "      <td>Mon</td>\n",
       "      <td>Morning</td>\n",
       "      <td>Autumn</td>\n",
       "    </tr>\n",
       "    <tr>\n",
       "      <th>3</th>\n",
       "      <td>Message-ID: &lt;14670081.1075855667751.JavaMail.e...</td>\n",
       "      <td>Re: 2001 Margin Plan</td>\n",
       "      <td>Thu</td>\n",
       "      <td>Morning</td>\n",
       "      <td>Autumn</td>\n",
       "    </tr>\n",
       "    <tr>\n",
       "      <th>4</th>\n",
       "      <td>Message-ID: &lt;2101427.1075855667773.JavaMail.ev...</td>\n",
       "      <td>Var, Reporting and Resources Meeting</td>\n",
       "      <td>Wed</td>\n",
       "      <td>Morning</td>\n",
       "      <td>Autumn</td>\n",
       "    </tr>\n",
       "    <tr>\n",
       "      <th>5</th>\n",
       "      <td>Message-ID: &lt;19431120.1075855667795.JavaMail.e...</td>\n",
       "      <td>Westgate</td>\n",
       "      <td>Tue</td>\n",
       "      <td>Morning</td>\n",
       "      <td>Autumn</td>\n",
       "    </tr>\n",
       "  </tbody>\n",
       "</table>\n",
       "</div>"
      ],
      "text/plain": [
       "                                           EmailText  \\\n",
       "0  Message-ID: <7452188.1075855667684.JavaMail.ev...   \n",
       "1  Message-ID: <23790115.1075855667708.JavaMail.e...   \n",
       "3  Message-ID: <14670081.1075855667751.JavaMail.e...   \n",
       "4  Message-ID: <2101427.1075855667773.JavaMail.ev...   \n",
       "5  Message-ID: <19431120.1075855667795.JavaMail.e...   \n",
       "\n",
       "                                       Subject  Day Hour_periods Seasons  \n",
       "0  Consolidated positions: Issues & To Do list  Mon      Morning  Autumn  \n",
       "1  Consolidated positions: Issues & To Do list  Mon      Morning  Autumn  \n",
       "3                         Re: 2001 Margin Plan  Thu      Morning  Autumn  \n",
       "4         Var, Reporting and Resources Meeting  Wed      Morning  Autumn  \n",
       "5                                     Westgate  Tue      Morning  Autumn  "
      ]
     },
     "execution_count": 99,
     "metadata": {},
     "output_type": "execute_result"
    }
   ],
   "source": [
    "EmailData = pd.read_pickle('EmailData_AfterEDA.pkl')\n",
    "EmailData.head()"
   ]
  },
  {
   "cell_type": "code",
   "execution_count": 100,
   "id": "d21fe360",
   "metadata": {},
   "outputs": [
    {
     "name": "stdout",
     "output_type": "stream",
     "text": [
      "Dataset Contains 498207 Rows and 5 Columns\n"
     ]
    }
   ],
   "source": [
    "print(\"Dataset Contains {r} Rows and {c} Columns\".format(r=EmailData.shape[0],c=EmailData.shape[1]))"
   ]
  },
  {
   "cell_type": "code",
   "execution_count": 101,
   "id": "f0c843b5",
   "metadata": {},
   "outputs": [
    {
     "name": "stdout",
     "output_type": "stream",
     "text": [
      "Message-ID: <7452188.1075855667684.JavaMail.evans@thyme>\n",
      "Date: Mon, 9 Oct 2000 07:16:00 -0700 (PDT)\n",
      "From: phillip.allen@enron.com\n",
      "To: keith.holst@enron.com\n",
      "Subject: Consolidated positions: Issues & To Do list\n",
      "Mime-Version: 1.0\n",
      "Content-Type: text/plain; charset=us-ascii\n",
      "Content-Transfer-Encoding: 7bit\n",
      "X-From: Phillip K Allen\n",
      "X-To: Keith Holst\n",
      "X-cc: \n",
      "X-bcc: \n",
      "X-Folder: \\Phillip_Allen_Dec2000\\Notes Folders\\All documents\n",
      "X-Origin: Allen-P\n",
      "X-FileName: pallen.nsf\n",
      "\n",
      "---------------------- Forwarded by Phillip K Allen/HOU/ECT on 10/09/2000 \n",
      "02:16 PM ---------------------------\n",
      "\n",
      "\n",
      "Richard Burchfield\n",
      "10/06/2000 06:59 AM\n",
      "To: Phillip K Allen/HOU/ECT@ECT\n",
      "cc: Beth Perlman/HOU/ECT@ECT \n",
      "Subject: Consolidated positions: Issues & To Do list\n",
      "\n",
      "Phillip,\n",
      " Below is the issues & to do list as we go forward with documenting the \n",
      "requirements for consolidated physical/financial positions and transport \n",
      "trade capture. What we need to focus on is the first bullet in Allan's list; \n",
      "the need for a single set of requirements. Although the meeting with Keith, \n",
      "on Wednesday,  was informative the solution of creating a infinitely dynamic \n",
      "consolidated position screen, will be extremely difficult and time \n",
      "consuming.  Throughout the meeting on Wednesday, Keith alluded to the \n",
      "inability to get consensus amongst the traders on the presentation of the \n",
      "consolidated position, so the solution was to make it so that a trader can \n",
      "arrange the position screen to their liking (much like Excel). What needs to \n",
      "happen on Monday from 3 - 5 is a effort to design a desired layout for the \n",
      "consolidated position screen, this is critical. This does not exclude \n",
      "building a capability to create a more flexible position presentation for the \n",
      "future, but in order to create a plan that can be measured we need firm \n",
      "requirements. Also, to reiterate that the goals of this project is a project \n",
      "plan on consolidate physical/financial positions and transport trade capture. \n",
      "The other issues that have been raised will be capture as projects on to \n",
      "themselves, and will need to be prioritised as efforts outside of this \n",
      "project.\n",
      "\n",
      "I have been involved in most of the meetings and the discussions have been \n",
      "good. I believe there has been good communication between the teams, but now \n",
      "we need to have focus on the objectives we set out to solve.\n",
      "\n",
      "Richard  \n",
      "---------------------- Forwarded by Richard Burchfield/HOU/ECT on 10/06/2000 \n",
      "08:34 AM ---------------------------\n",
      "\n",
      "\n",
      "Allan Severude\n",
      "10/05/2000 06:03 PM\n",
      "To: Richard Burchfield/HOU/ECT@ECT\n",
      "cc: Peggy Alix/HOU/ECT@ECT, Russ Severson/HOU/ECT@ECT, Scott \n",
      "Mills/HOU/ECT@ECT, Kenny Ha/HOU/ECT@ECT \n",
      "Subject: Consolidated positions: Issues & To Do list\n",
      "\n",
      "\n",
      "From our initial set of meetings with the traders regarding consolidated \n",
      "positions, I think we still have the following issues:\n",
      "We don't have a single point of contact from the trading group.  We've had \n",
      "three meetings which brought out very different issues from different \n",
      "traders.  We really need a single point of contact to help drive the trader \n",
      "requirements and help come to a consensus regarding the requirements.\n",
      "We're getting hit with a lot of different requests, many of which appear to \n",
      "be outside the scope of position consolidation.\n",
      "\n",
      "Things left to do:\n",
      "I think it may be useful to try to formulate a high level project goal to \n",
      "make it as clear as possible what we're trying to accomplish with this \n",
      "project.  It'll help determine which requests fall under the project scope.\n",
      "Go through the list of requests to determine which are in scope for this \n",
      "project and which fall out of scope.\n",
      "For those in scope, work to define relative importance (priority) of each and \n",
      "work with traders to define the exact requirements of each.\n",
      "Define the desired lay out of the position manager screen: main view and all \n",
      "drill downs.\n",
      "Use the above to formulate a project plan.\n",
      "\n",
      "Things requested thus far (no particular order):\n",
      "Inclusion of Sitara physical deals into the TDS position manager and deal \n",
      "ticker.\n",
      "Customized rows and columns in the position manager (ad hoc rows/columns that \n",
      "add up existing position manager rows/columns).\n",
      "New drill down in the position manager to break out positions by: physical, \n",
      "transport, swaps, options, ...\n",
      "Addition of a curve tab to the position manager to show the real-time values \n",
      "of all curves on which the desk has a position.\n",
      "Ability to split the current position grid to allow daily positions to be \n",
      "shown directly above monthly positions.  Each grouped column in the top grid \n",
      "would be tied to a grouped column in the bottom grid.\n",
      "Ability to properly show curve shift for float-for-float deals; determine the \n",
      "appropriate positions to show for each:\n",
      "Gas Daily for monthly index,\n",
      "Physical gas for Nymex,\n",
      "Physical gas for Inside Ferc,\n",
      "Physical gas for Mid market.\n",
      "Ability for TDS to pull valuation results based on a TDS flag instead of \n",
      "using official valuations.\n",
      "Position and P&L aggregation across all gas desks.\n",
      "Ability to include the Gas Price book into TDS:\n",
      "Inclusion of spread options in our systems.  Ability to handle volatility \n",
      "skew and correlations.\n",
      "Ability to revalue all options incrementally throughout the trading day.  \n",
      "Approximate delta changes between valuations using instantaneous gamma or a \n",
      "gamma grid.\n",
      "Valuation of Gas Daily options.\n",
      "A new position screen for options (months x strike x delta).  TBD.\n",
      "Inclusion of positions for exotic options currently managed in spreadsheets.\n",
      "Ability to isolate the position change due to changed deals in the position \n",
      "manager.\n",
      "Ability to view change deal P&L in the TDS deal ticker.  Show new deal terms, \n",
      "prior deal terms, and net P&L affect of the change.\n",
      "Eliminate change deals with no economic impact from the TDS deal ticker.\n",
      "Position drill down in the position manager to isolate the impact of \n",
      "individual deals on the position total in a grid cell.\n",
      "Benchmark positions in TDS.\n",
      "Deployment of TDS in Canada. Currency and volume uom conversions. Implicit \n",
      "and explicit position break out issues.\n",
      "\n",
      "-- Allan.\n",
      "\n",
      "PS: Colleen is setting up a meeting tomorrow to discuss the direction for \n",
      "transport.  Hopefully we'll know much better where that part stands at that \n",
      "point.\n",
      "\n",
      "\n",
      "\n",
      "\n",
      "\n"
     ]
    }
   ],
   "source": [
    "#Example of Raw Email\n",
    "print(EmailData['EmailText'].iloc[0])"
   ]
  },
  {
   "cell_type": "markdown",
   "id": "8d04e09f",
   "metadata": {},
   "source": [
    "#### Creating new column and saving Email body in it"
   ]
  },
  {
   "cell_type": "code",
   "execution_count": 102,
   "id": "12853afb",
   "metadata": {},
   "outputs": [],
   "source": [
    "#https://www.kaggle.com/code/zichen/explore-enron/notebook\n",
    "# Helper functions\n",
    "# get_payload() extracts Email body\n",
    "def getEmailTxt(message):\n",
    "    '''To get the content from email objects'''\n",
    "    parts = []\n",
    "    for part in message.walk():\n",
    "        #getting text/plain data\n",
    "        if part.get_content_type() == 'text/plain':\n",
    "            parts.append(part.get_payload())\n",
    "    return ''.join(parts)"
   ]
  },
  {
   "cell_type": "code",
   "execution_count": 103,
   "id": "c8f3a00a",
   "metadata": {},
   "outputs": [
    {
     "data": {
      "text/html": [
       "<div>\n",
       "<style scoped>\n",
       "    .dataframe tbody tr th:only-of-type {\n",
       "        vertical-align: middle;\n",
       "    }\n",
       "\n",
       "    .dataframe tbody tr th {\n",
       "        vertical-align: top;\n",
       "    }\n",
       "\n",
       "    .dataframe thead th {\n",
       "        text-align: right;\n",
       "    }\n",
       "</style>\n",
       "<table border=\"1\" class=\"dataframe\">\n",
       "  <thead>\n",
       "    <tr style=\"text-align: right;\">\n",
       "      <th></th>\n",
       "      <th>Subject</th>\n",
       "      <th>content</th>\n",
       "    </tr>\n",
       "  </thead>\n",
       "  <tbody>\n",
       "    <tr>\n",
       "      <th>0</th>\n",
       "      <td>Consolidated positions: Issues &amp; To Do list</td>\n",
       "      <td>---------------------- Forwarded by Phillip K ...</td>\n",
       "    </tr>\n",
       "    <tr>\n",
       "      <th>1</th>\n",
       "      <td>Consolidated positions: Issues &amp; To Do list</td>\n",
       "      <td>---------------------- Forwarded by Phillip K ...</td>\n",
       "    </tr>\n",
       "    <tr>\n",
       "      <th>3</th>\n",
       "      <td>Re: 2001 Margin Plan</td>\n",
       "      <td>Paula,\\n\\n 35 million is fine\\n\\nPhillip</td>\n",
       "    </tr>\n",
       "    <tr>\n",
       "      <th>4</th>\n",
       "      <td>Var, Reporting and Resources Meeting</td>\n",
       "      <td>---------------------- Forwarded by Phillip K ...</td>\n",
       "    </tr>\n",
       "    <tr>\n",
       "      <th>5</th>\n",
       "      <td>Westgate</td>\n",
       "      <td>---------------------- Forwarded by Phillip K ...</td>\n",
       "    </tr>\n",
       "  </tbody>\n",
       "</table>\n",
       "</div>"
      ],
      "text/plain": [
       "                                       Subject  \\\n",
       "0  Consolidated positions: Issues & To Do list   \n",
       "1  Consolidated positions: Issues & To Do list   \n",
       "3                         Re: 2001 Margin Plan   \n",
       "4         Var, Reporting and Resources Meeting   \n",
       "5                                     Westgate   \n",
       "\n",
       "                                             content  \n",
       "0  ---------------------- Forwarded by Phillip K ...  \n",
       "1  ---------------------- Forwarded by Phillip K ...  \n",
       "3           Paula,\\n\\n 35 million is fine\\n\\nPhillip  \n",
       "4  ---------------------- Forwarded by Phillip K ...  \n",
       "5  ---------------------- Forwarded by Phillip K ...  "
      ]
     },
     "execution_count": 103,
     "metadata": {},
     "output_type": "execute_result"
    }
   ],
   "source": [
    "# Parse the emails into a list email objects\n",
    "messages = list(map(email.message_from_string, EmailData['EmailText']))\n",
    "EmailData['content'] = list(map(getEmailTxt,messages))\n",
    "del EmailData['EmailText']\n",
    "#deleting 'Day','Hour_periods','Seasons' as we'll be using only subject and Emails for Prediction\n",
    "EmailData.drop(['Day','Hour_periods','Seasons'],axis=1,inplace=True)\n",
    "del messages\n",
    "EmailData.head()\n",
    "EmailData.head()"
   ]
  },
  {
   "cell_type": "code",
   "execution_count": 104,
   "id": "c746b1fb",
   "metadata": {},
   "outputs": [
    {
     "name": "stdout",
     "output_type": "stream",
     "text": [
      "---------------------- Forwarded by Phillip K Allen/HOU/ECT on 10/09/2000 \n",
      "02:16 PM ---------------------------\n",
      "\n",
      "\n",
      "Richard Burchfield\n",
      "10/06/2000 06:59 AM\n",
      "To: Phillip K Allen/HOU/ECT@ECT\n",
      "cc: Beth Perlman/HOU/ECT@ECT \n",
      "Subject: Consolidated positions: Issues & To Do list\n",
      "\n",
      "Phillip,\n",
      " Below is the issues & to do list as we go forward with documenting the \n",
      "requirements for consolidated physical/financial positions and transport \n",
      "trade capture. What we need to focus on is the first bullet in Allan's list; \n",
      "the need for a single set of requirements. Although the meeting with Keith, \n",
      "on Wednesday,  was informative the solution of creating a infinitely dynamic \n",
      "consolidated position screen, will be extremely difficult and time \n",
      "consuming.  Throughout the meeting on Wednesday, Keith alluded to the \n",
      "inability to get consensus amongst the traders on the presentation of the \n",
      "consolidated position, so the solution was to make it so that a trader can \n",
      "arrange the position screen to their liking (much like Excel). What needs to \n",
      "happen on Monday from 3 - 5 is a effort to design a desired layout for the \n",
      "consolidated position screen, this is critical. This does not exclude \n",
      "building a capability to create a more flexible position presentation for the \n",
      "future, but in order to create a plan that can be measured we need firm \n",
      "requirements. Also, to reiterate that the goals of this project is a project \n",
      "plan on consolidate physical/financial positions and transport trade capture. \n",
      "The other issues that have been raised will be capture as projects on to \n",
      "themselves, and will need to be prioritised as efforts outside of this \n",
      "project.\n",
      "\n",
      "I have been involved in most of the meetings and the discussions have been \n",
      "good. I believe there has been good communication between the teams, but now \n",
      "we need to have focus on the objectives we set out to solve.\n",
      "\n",
      "Richard  \n",
      "---------------------- Forwarded by Richard Burchfield/HOU/ECT on 10/06/2000 \n",
      "08:34 AM ---------------------------\n",
      "\n",
      "\n",
      "Allan Severude\n",
      "10/05/2000 06:03 PM\n",
      "To: Richard Burchfield/HOU/ECT@ECT\n",
      "cc: Peggy Alix/HOU/ECT@ECT, Russ Severson/HOU/ECT@ECT, Scott \n",
      "Mills/HOU/ECT@ECT, Kenny Ha/HOU/ECT@ECT \n",
      "Subject: Consolidated positions: Issues & To Do list\n",
      "\n",
      "\n",
      "From our initial set of meetings with the traders regarding consolidated \n",
      "positions, I think we still have the following issues:\n",
      "We don't have a single point of contact from the trading group.  We've had \n",
      "three meetings which brought out very different issues from different \n",
      "traders.  We really need a single point of contact to help drive the trader \n",
      "requirements and help come to a consensus regarding the requirements.\n",
      "We're getting hit with a lot of different requests, many of which appear to \n",
      "be outside the scope of position consolidation.\n",
      "\n",
      "Things left to do:\n",
      "I think it may be useful to try to formulate a high level project goal to \n",
      "make it as clear as possible what we're trying to accomplish with this \n",
      "project.  It'll help determine which requests fall under the project scope.\n",
      "Go through the list of requests to determine which are in scope for this \n",
      "project and which fall out of scope.\n",
      "For those in scope, work to define relative importance (priority) of each and \n",
      "work with traders to define the exact requirements of each.\n",
      "Define the desired lay out of the position manager screen: main view and all \n",
      "drill downs.\n",
      "Use the above to formulate a project plan.\n",
      "\n",
      "Things requested thus far (no particular order):\n",
      "Inclusion of Sitara physical deals into the TDS position manager and deal \n",
      "ticker.\n",
      "Customized rows and columns in the position manager (ad hoc rows/columns that \n",
      "add up existing position manager rows/columns).\n",
      "New drill down in the position manager to break out positions by: physical, \n",
      "transport, swaps, options, ...\n",
      "Addition of a curve tab to the position manager to show the real-time values \n",
      "of all curves on which the desk has a position.\n",
      "Ability to split the current position grid to allow daily positions to be \n",
      "shown directly above monthly positions.  Each grouped column in the top grid \n",
      "would be tied to a grouped column in the bottom grid.\n",
      "Ability to properly show curve shift for float-for-float deals; determine the \n",
      "appropriate positions to show for each:\n",
      "Gas Daily for monthly index,\n",
      "Physical gas for Nymex,\n",
      "Physical gas for Inside Ferc,\n",
      "Physical gas for Mid market.\n",
      "Ability for TDS to pull valuation results based on a TDS flag instead of \n",
      "using official valuations.\n",
      "Position and P&L aggregation across all gas desks.\n",
      "Ability to include the Gas Price book into TDS:\n",
      "Inclusion of spread options in our systems.  Ability to handle volatility \n",
      "skew and correlations.\n",
      "Ability to revalue all options incrementally throughout the trading day.  \n",
      "Approximate delta changes between valuations using instantaneous gamma or a \n",
      "gamma grid.\n",
      "Valuation of Gas Daily options.\n",
      "A new position screen for options (months x strike x delta).  TBD.\n",
      "Inclusion of positions for exotic options currently managed in spreadsheets.\n",
      "Ability to isolate the position change due to changed deals in the position \n",
      "manager.\n",
      "Ability to view change deal P&L in the TDS deal ticker.  Show new deal terms, \n",
      "prior deal terms, and net P&L affect of the change.\n",
      "Eliminate change deals with no economic impact from the TDS deal ticker.\n",
      "Position drill down in the position manager to isolate the impact of \n",
      "individual deals on the position total in a grid cell.\n",
      "Benchmark positions in TDS.\n",
      "Deployment of TDS in Canada. Currency and volume uom conversions. Implicit \n",
      "and explicit position break out issues.\n",
      "\n",
      "-- Allan.\n",
      "\n",
      "PS: Colleen is setting up a meeting tomorrow to discuss the direction for \n",
      "transport.  Hopefully we'll know much better where that part stands at that \n",
      "point.\n",
      "\n",
      "\n",
      "\n",
      "\n",
      "\n"
     ]
    }
   ],
   "source": [
    "print(EmailData['content'].iloc[0])"
   ]
  },
  {
   "cell_type": "markdown",
   "id": "5236f391",
   "metadata": {},
   "source": [
    "### Removing Unwanted Mails\n",
    "- After goin through some of the emails, Some emails are spam, some are repetative, etc\n",
    "- So removing them would increase quality recommendation"
   ]
  },
  {
   "cell_type": "code",
   "execution_count": 105,
   "id": "bb08e3fd",
   "metadata": {},
   "outputs": [
    {
     "name": "stdout",
     "output_type": "stream",
     "text": [
      "46\n",
      "-------------------- content -------------------- \n",
      " \n",
      "\n",
      "EnronOnline\n",
      "Trade Counts and Volume for May 14, 2001 \n",
      "\t\t\tEXTERNAL\t\tINTERNAL\t\tTOTAL\t\t\t\n",
      "COUNTRY\tCOMMODITY\tCATEGORY\tCOUNT\tQTY\tCOUNT\tQTY\tCOUNT\tQTY\tUNIT OF MEASURE\t\n",
      "Austria\tPower\tPhysical\t        13 \t           10,300 \t        -   \t                   -   \t        13 \t           10,300 \tMWh\t\n",
      "Belgium\tNatural Gas\tPhysical\t        10 \t      1,065,000 \t        -   \t                   -   \t        10 \t      1,065,000 \tMMBtu\t\n",
      "Canada\tNatural Gas\tFinancial\t          7 \t      3,655,000 \t          1 \t         155,000 \t          8 \t      3,810,000 \tMMBtu\t\n",
      "Canada\tNatural Gas\tPhysical\t      235 \t    14,076,271 \t        -   \t                   -   \t      235 \t    14,076,271 \tMMBtu\t\n",
      "Canada\tPower\tFinancial\t        18 \t           20,642 \t        -   \t                   -   \t        18 \t           20,642 \tMWh (Canada)\t\n",
      "France\tPower\tPhysical\t          1 \t             4,741 \t        -   \t                   -   \t          1 \t             4,741 \tMWh\t\n",
      "Germany\tPower\tPhysical\t        68 \t         239,804 \t        -   \t                   -   \t        68 \t         239,804 \tMWh\t\n",
      "Netherlands\tPower\tPhysical\t          1 \t                600 \t        -   \t                   -   \t          1 \t                600 \tMWh\t\n",
      "Norway\tPower\tFinancial\t        23 \t         441,192 \t        -   \t                   -   \t        23 \t         441,192 \tMWh\t\n",
      "Singapore\tCrude\tFinancial\t          1 \t           50,000 \t          1 \t           50,000 \t          2 \t         100,000 \tBarrel\t\n",
      "Singapore\tOil Products\tFinancial\t          1 \t         150,000 \t        -   \t                   -   \t          1 \t         150,000 \tBarrel\t\n",
      "Switzerland\tPower\tPhysical\t        26 \t           36,593 \t        -   \t                   -   \t        26 \t           36,593 \tMWh\t\n",
      "United Kingdom\tCrude\tFinancial\t          3 \t         350,000 \t          2 \t           50,000 \t          5 \t         400,000 \tBarrel\t\n",
      "United Kingdom\tLPG\tFinancial\t          3 \t           10,000 \t        -   \t                   -   \t          3 \t           10,000 \tmt \t\n",
      "United Kingdom\tMetals\tFinancial\t      500 \t           10,830 \t        81 \t             1,625 \t      581 \t           12,455 \tLME Registered mt Lot\t\n",
      "United Kingdom\tNatural Gas\tPhysical NBP\t      135 \t    19,881,050 \t          2 \t           95,000 \t      137 \t    19,976,050 \tMMBtu\t\n",
      "United Kingdom\tOil Products\tFinancial\t          1 \t           22,350 \t        -   \t                   -   \t          1 \t           22,350 \tBarrel per month\t\n",
      "United Kingdom\tOil Products\tFinancial\t          3 \t           15,000 \t        -   \t                   -   \t          3 \t           15,000 \tIPE mt\t\n",
      "United Kingdom\tPower\tPhysical\t        13 \t         846,720 \t        -   \t                   -   \t        13 \t         846,720 \tMWh\t\n",
      "United Kingdom\tSea Freight\tFinancial\t          1 \t                  15 \t          1 \t                  15 \t          2 \t                  30 \tSea Freight Lots\t\n",
      "USA\tCoal\tPhysical\t          1 \t                    4 \t        -   \t                   -   \t          1 \t                    4 \tCOAL-Tons/Barges/Mnth\t\n",
      "USA\tCrude\tFinancial\t      162 \t      7,225,000 \t        97 \t      3,915,000 \t      259 \t    11,140,000 \tBarrel\t\n",
      "USA\tCrude\tFinancial Option\t          2 \t           75,000 \t          1 \t           50,000 \t          3 \t         125,000 \tBarrel\t\n",
      "USA\tCrude\tPhysical\t          8 \t      1,143,000 \t        -   \t                   -   \t          8 \t      1,143,000 \tBarrel\t\n",
      "USA\tEmissions\tPhysical\t          2 \t\t        -   \t\t          2 \t                   -   \tEmission allowance\t\n",
      "USA\tGas Pipeline Capacity\tPhysical\t          2 \t           20,000 \t        -   \t                   -   \t          2 \t           20,000 \tMMBtu\t\n",
      "USA\tLPG\tFinancial\t          2 \t           55,000 \t        -   \t                   -   \t          2 \t           55,000 \tGallon\t\n",
      "USA\tLPG\tPhysical\t          1 \t             5,000 \t        -   \t                   -   \t          1 \t             5,000 \tGallon\t\n",
      "USA\tLumber\tPhysical\t          4 \t                  14 \t        -   \t                   -   \t          4 \t                  14 \tThousand Board Feet\t\n",
      "USA\tNatural Gas\tFinancial\t      874 \t  337,955,873 \t      389 \t  126,439,578 \t   1,263 \t  464,395,451 \tMMBtu\t\n",
      "USA\tNatural Gas\tFinancial Option\t          9 \t      9,010,000 \t          3 \t      3,000,000 \t        12 \t    12,010,000 \tMMBtu\t\n",
      "USA\tNatural Gas\tPhysical\t   1,808 \t    16,749,218 \t        41 \t         781,899 \t   1,849 \t    17,531,117 \tMMBtu\t\n",
      "USA\tOil Products\tFinancial\t        38 \t         854,524 \t          3 \t           30,715 \t        41 \t         885,239 \tBarrel\t\n",
      "USA\tPaper\tPhysical\t          1 \t                  40 \t        -   \t                   -   \t          1 \t                  40 \tMetric Tons (+/- 5%)\t\n",
      "USA\tPetchems\tFinancial\t          1 \t           30,000 \t        -   \t                   -   \t          1 \t           30,000 \tGallon\t\n",
      "USA\tPower\tFinancial\t        27 \t         244,469 \t        10 \t           67,530 \t        37 \t         311,999 \tMWh\t\n",
      "USA\tPower\tPhysical\t      427 \t      4,371,728 \t      154 \t      2,483,741 \t      581 \t      6,855,468 \tMWh\t\n",
      "USA\tRate and Currency\tFinancial\t        -   \t                   -   \t          3 \t      5,900,000 \t          3 \t      5,900,000 \tEUR/1\t\n",
      "USA\tRate and Currency\tFinancial\t        -   \t                   -   \t          2 \t      4,000,000 \t          2 \t      4,000,000 \tFX USD\t\n",
      "USA\tRate and Currency\tFinancial\t        -   \t                   -   \t          3 \t      1,090,000 \t          3 \t      1,090,000 \tGBP/1\t\n",
      "USA\tRate and Currency\tFinancial\t        -   \t                   -   \t          3 \t      1,154,000 \t          3 \t      1,154,000 \tUSD/1\t\n",
      "USA\tWeather\tFinancial\t          6 \t                  14 \t        -   \t                   -   \t          6 \t                  14 \tCooling Degree Day\t\n",
      "\t\t\t   4,438 \t\t      797 \t\t   5,235 \t\t\t\n"
     ]
    }
   ],
   "source": [
    "#Example of Unnecessary Emails For our Task\n",
    "a = EmailData[EmailData['content'].str.contains('Trade Counts and Volume')]\n",
    "print(len(a))\n",
    "print('--'*10,'content','--'*10,'\\n',a['content'].iloc[19])"
   ]
  },
  {
   "cell_type": "code",
   "execution_count": 106,
   "id": "1e74e060",
   "metadata": {},
   "outputs": [
    {
     "data": {
      "text/plain": [
       "(497395, 2)"
      ]
     },
     "execution_count": 106,
     "metadata": {},
     "output_type": "execute_result"
    }
   ],
   "source": [
    "#Removing Sponsored Mails\n",
    "EmailData = EmailData[~EmailData['content'].str.contains('Sponsored by')]\n",
    "#Removing Outlook Migration Team@ENRON Mails\n",
    "EmailData = EmailData[~EmailData['content'].str.contains('Outlook Migration Team@ENRON')]\n",
    "#Removing NEWS ANALYSIS Mails\n",
    "EmailData = EmailData[~EmailData['content'].str.contains('NEWS ANALYSIS')]\n",
    "#Removing Trade Counts and Volume Mails \n",
    "EmailData = EmailData[~EmailData['content'].str.contains('Trade Counts and Volume')]\n",
    "EmailData.shape"
   ]
  },
  {
   "cell_type": "markdown",
   "id": "5cfe6bfb",
   "metadata": {},
   "source": [
    "### Storing Previous Emails in New Columns\n",
    "#### Observation,\n",
    "- In the given dataset, we have 2 types of mail, Forwarded by and Forwarded by with Original Message.\n",
    "- If 'Forwarded by' is in the mails multiple times then mail contains multiple email bodies.\n",
    "- If mail contains Original Message then it also has previous emails.\n",
    "\n",
    "#### Action,\n",
    "- We'll Store Latest Email in Current Email Column\n",
    "- And For Previous Emails, We'll create a reverse list, concatenate and save them in PreviousMails column"
   ]
  },
  {
   "cell_type": "code",
   "execution_count": 107,
   "id": "602ada2f",
   "metadata": {},
   "outputs": [],
   "source": [
    "def returnMsgBody(ttxt): \n",
    "    '''\n",
    "    This Method returns body of the Email\n",
    "    '''\n",
    "    ttxt = email.message_from_string(ttxt)\n",
    "\n",
    "    # Extract the body of the email\n",
    "    ttxt = ttxt.get_payload()\n",
    "\n",
    "    # return the body of the email\n",
    "    return ttxt"
   ]
  },
  {
   "cell_type": "code",
   "execution_count": 108,
   "id": "b49c07cd",
   "metadata": {},
   "outputs": [],
   "source": [
    "#Creating List to store Emails\n",
    "message = [i for i in EmailData['content'].values]\n",
    "\n",
    "#Creating New Columns\n",
    "EmailData['CurrentMail'] = ''\n",
    "EmailData['PreviousMails'] = ''\n",
    "\n",
    "def sortMails(EmailList):\n",
    "    '''\n",
    "    This method splits the mails into Previous and Current Mails\n",
    "    '''\n",
    "    Previous = ['' for i in range(len(EmailList))]\n",
    "    Current = ['' for i in range(len(EmailList))]\n",
    "    for indd,msg in enumerate(tqdm(EmailList)):\n",
    "        CurrentFlag = True\n",
    "        if '- Forwarded by' in msg:\n",
    "            txxt = msg.split('- Forwarded by')\n",
    "            CheckCurr = txxt[0].replace('-','')\n",
    "            if not CheckCurr.strip():\n",
    "                txxt = txxt[1:]\n",
    "            \n",
    "            for ind,mails in enumerate(txxt):\n",
    "                if 'Original Message' in mails and 'Original Message Excluded:' not in mails:\n",
    "                    newmail=[]\n",
    "                    newmail = mails.split('Original Message')\n",
    "                    for ind2,preMsg in enumerate(newmail):\n",
    "                        if 'From:' in preMsg:\n",
    "                            index = preMsg.index('From:')\n",
    "                            preMsg = preMsg[index:]\n",
    "                            newmail[ind2] = returnMsgBody(preMsg)\n",
    "                        elif 'To:' in preMsg:\n",
    "                            index = preMsg.index('To:')\n",
    "                            preMsg = preMsg[index:]\n",
    "                            newmail[ind2] = returnMsgBody(preMsg)\n",
    "                    \n",
    "                    if CurrentFlag:\n",
    "                        Current[indd] = newmail[0]\n",
    "                        CurrentFlag = False \n",
    "                        newmail = newmail[1:]\n",
    "                        \n",
    "                    #reversing the list so that we get previous message as first\n",
    "                    newmail = newmail[::-1]\n",
    "                    txxt[ind] = '.'.join(newmail)\n",
    "                    \n",
    "                elif 'To:' in mails or 'From:' in mails:\n",
    "                    if 'To:' in mails:\n",
    "                        index = mails.index('To:')\n",
    "                        mails = mails[index:]\n",
    "                    elif 'From:' in mails:\n",
    "                        index = mails.index('From:')\n",
    "                        mails = mails[index:]\n",
    "                        \n",
    "                    txxt[ind] = returnMsgBody(mails)\n",
    "                                                          \n",
    "                    if CurrentFlag:\n",
    "                        Current[indd] = txxt[ind]\n",
    "                        CurrentFlag = False\n",
    "                        txxt[ind] = ''\n",
    "                                                          \n",
    "                else:\n",
    "                    if CurrentFlag:\n",
    "                        Current[indd] = mails\n",
    "                        CurrentFlag = False \n",
    "                                                          \n",
    "            #reversing the list so that we get previous message as first\n",
    "                                                          \n",
    "            txxt = txxt[::-1]\n",
    "            Previous[indd] = '.'.join(txxt)\n",
    "                    \n",
    "        elif 'Original Message' in msg :\n",
    "            newmail=[]\n",
    "            newmail = msg.split('Original Message')\n",
    "            for ind2,preMsg in enumerate(newmail):\n",
    "                if 'From:' in preMsg:\n",
    "                    index = preMsg.index('From:')\n",
    "                    preMsg = preMsg[index:]\n",
    "                    newmail[ind2] = returnMsgBody(preMsg)\n",
    "                elif 'To:' in preMsg:\n",
    "                    index = preMsg.index('To:')\n",
    "                    preMsg = preMsg[index:]\n",
    "                    newmail[ind2] = returnMsgBody(preMsg)\n",
    "                                                          \n",
    "            if CurrentFlag:\n",
    "                Current[indd] = newmail[0]\n",
    "                CurrentFlag = False\n",
    "                    \n",
    "            #reversing the list so that we get previous message as first\n",
    "            newmail = newmail[1:]                                  \n",
    "            newmail = newmail[::-1]\n",
    "                                                          \n",
    "            Previous[indd]= '.'.join(newmail)\n",
    "                                                          \n",
    "        else:\n",
    "            Current[indd] = msg\n",
    "            Previous[indd] = ''\n",
    "        \n",
    "    return Current,Previous\n",
    "                    \n",
    "   "
   ]
  },
  {
   "cell_type": "code",
   "execution_count": 109,
   "id": "8fa3a5c7",
   "metadata": {},
   "outputs": [
    {
     "name": "stderr",
     "output_type": "stream",
     "text": [
      "100%|███████████████████████████████████████████████████████████████████████| 497395/497395 [00:18<00:00, 26927.53it/s]\n"
     ]
    },
    {
     "data": {
      "text/html": [
       "<div>\n",
       "<style scoped>\n",
       "    .dataframe tbody tr th:only-of-type {\n",
       "        vertical-align: middle;\n",
       "    }\n",
       "\n",
       "    .dataframe tbody tr th {\n",
       "        vertical-align: top;\n",
       "    }\n",
       "\n",
       "    .dataframe thead th {\n",
       "        text-align: right;\n",
       "    }\n",
       "</style>\n",
       "<table border=\"1\" class=\"dataframe\">\n",
       "  <thead>\n",
       "    <tr style=\"text-align: right;\">\n",
       "      <th></th>\n",
       "      <th>Subject</th>\n",
       "      <th>content</th>\n",
       "      <th>CurrentMail</th>\n",
       "      <th>PreviousMails</th>\n",
       "    </tr>\n",
       "  </thead>\n",
       "  <tbody>\n",
       "    <tr>\n",
       "      <th>0</th>\n",
       "      <td>Consolidated positions: Issues &amp; To Do list</td>\n",
       "      <td>---------------------- Forwarded by Phillip K ...</td>\n",
       "      <td>Phillip,\\n Below is the issues &amp; to do list as...</td>\n",
       "      <td>Mills/HOU/ECT@ECT, Kenny Ha/HOU/ECT@ECT \\nSubj...</td>\n",
       "    </tr>\n",
       "    <tr>\n",
       "      <th>1</th>\n",
       "      <td>Consolidated positions: Issues &amp; To Do list</td>\n",
       "      <td>---------------------- Forwarded by Phillip K ...</td>\n",
       "      <td>Phillip,\\n Below is the issues &amp; to do list as...</td>\n",
       "      <td>Mills/HOU/ECT@ECT, Kenny Ha/HOU/ECT@ECT \\nSubj...</td>\n",
       "    </tr>\n",
       "    <tr>\n",
       "      <th>3</th>\n",
       "      <td>Re: 2001 Margin Plan</td>\n",
       "      <td>Paula,\\n\\n 35 million is fine\\n\\nPhillip</td>\n",
       "      <td>Paula,\\n\\n 35 million is fine\\n\\nPhillip</td>\n",
       "      <td></td>\n",
       "    </tr>\n",
       "    <tr>\n",
       "      <th>4</th>\n",
       "      <td>Var, Reporting and Resources Meeting</td>\n",
       "      <td>---------------------- Forwarded by Phillip K ...</td>\n",
       "      <td>Neal/HOU/ECT@ECT, John Arnold/HOU/ECT@ECT, Gra...</td>\n",
       "      <td></td>\n",
       "    </tr>\n",
       "    <tr>\n",
       "      <th>5</th>\n",
       "      <td>Westgate</td>\n",
       "      <td>---------------------- Forwarded by Phillip K ...</td>\n",
       "      <td>\\nWestgate\\n\\nEnclosed are demographics on the...</td>\n",
       "      <td></td>\n",
       "    </tr>\n",
       "  </tbody>\n",
       "</table>\n",
       "</div>"
      ],
      "text/plain": [
       "                                       Subject  \\\n",
       "0  Consolidated positions: Issues & To Do list   \n",
       "1  Consolidated positions: Issues & To Do list   \n",
       "3                         Re: 2001 Margin Plan   \n",
       "4         Var, Reporting and Resources Meeting   \n",
       "5                                     Westgate   \n",
       "\n",
       "                                             content  \\\n",
       "0  ---------------------- Forwarded by Phillip K ...   \n",
       "1  ---------------------- Forwarded by Phillip K ...   \n",
       "3           Paula,\\n\\n 35 million is fine\\n\\nPhillip   \n",
       "4  ---------------------- Forwarded by Phillip K ...   \n",
       "5  ---------------------- Forwarded by Phillip K ...   \n",
       "\n",
       "                                         CurrentMail  \\\n",
       "0  Phillip,\\n Below is the issues & to do list as...   \n",
       "1  Phillip,\\n Below is the issues & to do list as...   \n",
       "3           Paula,\\n\\n 35 million is fine\\n\\nPhillip   \n",
       "4  Neal/HOU/ECT@ECT, John Arnold/HOU/ECT@ECT, Gra...   \n",
       "5  \\nWestgate\\n\\nEnclosed are demographics on the...   \n",
       "\n",
       "                                       PreviousMails  \n",
       "0  Mills/HOU/ECT@ECT, Kenny Ha/HOU/ECT@ECT \\nSubj...  \n",
       "1  Mills/HOU/ECT@ECT, Kenny Ha/HOU/ECT@ECT \\nSubj...  \n",
       "3                                                     \n",
       "4                                                     \n",
       "5                                                     "
      ]
     },
     "execution_count": 109,
     "metadata": {},
     "output_type": "execute_result"
    }
   ],
   "source": [
    "EmailData['CurrentMail'],EmailData['PreviousMails'] = sortMails(message)\n",
    "EmailData.head()"
   ]
  },
  {
   "cell_type": "code",
   "execution_count": 110,
   "id": "6916e29c",
   "metadata": {},
   "outputs": [
    {
     "name": "stdout",
     "output_type": "stream",
     "text": [
      "170546\n",
      "-------------------- content -------------------- \n",
      " ---------------------- Forwarded by Phillip K Allen/HOU/ECT on 09/05/2000 \n",
      "01:50 PM ---------------------------\n",
      "\n",
      "\n",
      "\"Christi Smith\" <christi.smith@lrinet.com> on 09/05/2000 11:40:59 AM\n",
      "Please respond to <christi.smith@lrinet.com>\n",
      "To: <Phillip.K.Allen@enron.com>\n",
      "cc: \"Debbie Nowak (E-mail)\" <dnowak@enron.com> \n",
      "Subject: RE: Receipt of Team Selection Form - Executive Impact & Influence \n",
      "Program\n",
      "\n",
      "\n",
      "We have not received your completed Team Selection information.  It is\n",
      "imperative that we receive your team's information (email, phone number,\n",
      "office) asap.  We cannot start your administration without this information,\n",
      "and your raters will have less time to provide feedback for you.\n",
      "\n",
      "Thank you for your assistance.\n",
      "\n",
      "Christi\n",
      "\n",
      "-----Original Message-----\n",
      "From: Christi Smith [mailto:christi.smith@lrinet.com]\n",
      "Sent: Thursday, August 31, 2000 10:33 AM\n",
      "To: 'Phillip.K.Allen@enron.com'\n",
      "Cc: Debbie Nowak (E-mail); Deborah Evans (E-mail)\n",
      "Subject: Receipt of Team Selection Form - Executive Impact & Influence\n",
      "Program\n",
      "Importance: High\n",
      "\n",
      "\n",
      "Hi Phillip.  We appreciate your prompt attention and completing the Team\n",
      "Selection information.\n",
      "\n",
      "Ideally, we needed to receive your team of raters on the Team Selection form\n",
      "we sent you.  The information needed is then easily transferred into the\n",
      "database directly from that Excel spreadsheet.  If you do not have the\n",
      "ability to complete that form, inserting what you listed below, we still\n",
      "require additional information.\n",
      "\n",
      "We need each person's email address.  Without the email address, we cannot\n",
      "email them their internet link and ID to provide feedback for you, nor can\n",
      "we send them an automatic reminder via email.  It would also be good to have\n",
      "each person's phone number, in the event we need to reach them.\n",
      "\n",
      "So, we do need to receive that complete TS Excel spreadsheet, or if you need\n",
      "to instead, provide the needed information via email.\n",
      "\n",
      "Thank you for your assistance Phillip.\n",
      "\n",
      "Christi L. Smith\n",
      "Project Manager for Client Services\n",
      "Keilty, Goldsmith & Company\n",
      "858/450-2554\n",
      "\n",
      "-----Original Message-----\n",
      "From: Phillip K Allen [mailto:Phillip.K.Allen@enron.com]\n",
      "Sent: Thursday, August 31, 2000 12:03 PM\n",
      "To: debe@fsddatasvc.com\n",
      "Subject:\n",
      "\n",
      "\n",
      "\n",
      "\n",
      "John Lavorato-M\n",
      "\n",
      "Mike Grigsby-D\n",
      "Keith Holst-D\n",
      "Frank Ermis-D\n",
      "Steve South-D\n",
      "Janie Tholt-D\n",
      "\n",
      "Scott Neal-P\n",
      "Hunter Shively-P\n",
      "Tom Martin-P\n",
      "John Arnold-P\n",
      "\n",
      "\n",
      "\n",
      "\n",
      "-------------------- CurrentMail -------------------- \n",
      " Program\n",
      "\n",
      "\n",
      "We have not received your completed Team Selection information.  It is\n",
      "imperative that we receive your team's information (email, phone number,\n",
      "office) asap.  We cannot start your administration without this information,\n",
      "and your raters will have less time to provide feedback for you.\n",
      "\n",
      "Thank you for your assistance.\n",
      "\n",
      "Christi\n",
      "\n",
      "-----\n",
      "-------------------- PreviousMails -------------------- \n",
      " \n",
      "\n",
      "\n",
      "John Lavorato-M\n",
      "\n",
      "Mike Grigsby-D\n",
      "Keith Holst-D\n",
      "Frank Ermis-D\n",
      "Steve South-D\n",
      "Janie Tholt-D\n",
      "\n",
      "Scott Neal-P\n",
      "Hunter Shively-P\n",
      "Tom Martin-P\n",
      "John Arnold-P\n",
      "\n",
      "\n",
      "\n",
      ".Program\n",
      "Importance: High\n",
      "\n",
      "\n",
      "Hi Phillip.  We appreciate your prompt attention and completing the Team\n",
      "Selection information.\n",
      "\n",
      "Ideally, we needed to receive your team of raters on the Team Selection form\n",
      "we sent you.  The information needed is then easily transferred into the\n",
      "database directly from that Excel spreadsheet.  If you do not have the\n",
      "ability to complete that form, inserting what you listed below, we still\n",
      "require additional information.\n",
      "\n",
      "We need each person's email address.  Without the email address, we cannot\n",
      "email them their internet link and ID to provide feedback for you, nor can\n",
      "we send them an automatic reminder via email.  It would also be good to have\n",
      "each person's phone number, in the event we need to reach them.\n",
      "\n",
      "So, we do need to receive that complete TS Excel spreadsheet, or if you need\n",
      "to instead, provide the needed information via email.\n",
      "\n",
      "Thank you for your assistance Phillip.\n",
      "\n",
      "Christi L. Smith\n",
      "Project Manager for Client Services\n",
      "Keilty, Goldsmith & Company\n",
      "858/450-2554\n",
      "\n",
      "-----\n"
     ]
    }
   ],
   "source": [
    "#Example of Current and previous Mails\n",
    "a = EmailData[EmailData['content'].str.contains('- Forwarded by') | EmailData['content'].str.contains('Original Message')]\n",
    "print(len(a))\n",
    "print('--'*10,'content','--'*10,'\\n',a['content'].iloc[19])\n",
    "print('--'*10,'CurrentMail','--'*10,'\\n',a['CurrentMail'].iloc[19])\n",
    "print('--'*10,'PreviousMails','--'*10,'\\n',a['PreviousMails'].iloc[19])"
   ]
  },
  {
   "cell_type": "code",
   "execution_count": 111,
   "id": "72bc2f9f",
   "metadata": {},
   "outputs": [],
   "source": [
    "#Deleting Content Column as we dont ned it anymore\n",
    "del EmailData['content']"
   ]
  },
  {
   "cell_type": "code",
   "execution_count": 112,
   "id": "7f5ec161",
   "metadata": {},
   "outputs": [],
   "source": [
    "#DataFrame Level Preprocessing\n",
    "def removent(df,feature):\n",
    "    '''\n",
    "    #Removing new line and tab tags\n",
    "    '''\n",
    "    df[feature] = df[feature].str.replace('\\n',' ').str.replace('\\t','')\n",
    "    #Also replace & with and\n",
    "    df[feature] = df[feature].str.replace(',',' ')\n",
    "    \n",
    "    #Remove Remaining Email Tags\n",
    "    df[feature] = df[feature].str.replace('Subject:',' ').str.replace('Consolidated positions:',' ').str.replace(',',' ')\n",
    "    df[feature] = df[feature].str.replace('!',' ')\n",
    "    \n",
    "    return df[feature]"
   ]
  },
  {
   "cell_type": "code",
   "execution_count": 113,
   "id": "8e7f7655",
   "metadata": {},
   "outputs": [],
   "source": [
    "EmailData['CurrentMail'] = removent(EmailData,'CurrentMail')\n",
    "EmailData['Subject'] = removent(EmailData,'Subject')\n",
    "EmailData['PreviousMails'] = removent(EmailData,'PreviousMails')"
   ]
  },
  {
   "cell_type": "code",
   "execution_count": 114,
   "id": "6a1f50db",
   "metadata": {},
   "outputs": [],
   "source": [
    "# Preprocessing each Email\n",
    "def Preproc(txtt):\n",
    "    '''\n",
    "    Replace Anything in brackets or other formats with empty sting \n",
    "    '''\n",
    "    txtt = re.sub(r\"-+ [^.]* -+\", \" \", txtt)\n",
    "    txtt=re.sub(r\"\\(.*?\\)\",\" \",txtt)\n",
    "    txtt=re.sub(r\"<.*?>\",\" \",txtt)\n",
    "    txtt=re.sub(r\"\\[.*?\\]\",\" \",txtt)\n",
    "    \n",
    "    return txtt"
   ]
  },
  {
   "cell_type": "code",
   "execution_count": 115,
   "id": "24ce904f",
   "metadata": {
    "scrolled": true
   },
   "outputs": [
    {
     "name": "stderr",
     "output_type": "stream",
     "text": [
      "100%|████████████████████████████████████████████████████████████████████████████████████| 3/3 [00:15<00:00,  5.28s/it]\n"
     ]
    }
   ],
   "source": [
    "features = ['CurrentMail','Subject','PreviousMails']\n",
    "for feats in tqdm(features):\n",
    "    message = [i for i in EmailData[feats].values]\n",
    "    for inss,mail in enumerate(message):\n",
    "        if isinstance(mail,str):\n",
    "            message[inss]=Preproc(mail)\n",
    "    EmailData[feats] = message"
   ]
  },
  {
   "cell_type": "code",
   "execution_count": 116,
   "id": "7eecacc0",
   "metadata": {},
   "outputs": [],
   "source": [
    "#Word Level\n",
    "def specialCharCheck(text): \n",
    "    regex = re.compile(\"\"\"[-+=*@_#`\"$%^&*[\\]\\()<>/\\|}{~:]\"\"\") \n",
    "    if(regex.search(text) == None): \n",
    "        return True     \n",
    "    else:\n",
    "        return False    \n",
    "    \n",
    "def numberCheck(text):\n",
    "    return bool(re.search(r'\\d', text)) \n",
    "\n",
    "def decontracted(phrase):\n",
    "    # specific\n",
    "    phrase = re.sub(r\"won't\", \"will not\", phrase)\n",
    "    phrase = re.sub(r\"can\\'t\", \"can not\", phrase)\n",
    "\n",
    "    # general\n",
    "    phrase = re.sub(r\"n\\'t\", \" not\", phrase)\n",
    "    phrase = re.sub(r\"\\'re\", \" are\", phrase)\n",
    "    phrase = re.sub(r\"\\'s\", \" is\", phrase)\n",
    "    phrase = re.sub(r\"\\'d\", \" would\", phrase)\n",
    "    phrase = re.sub(r\"\\'ll\", \" will\", phrase)\n",
    "    phrase = re.sub(r\"\\'t\", \" not\", phrase)\n",
    "    phrase = re.sub(r\"\\'ve\", \" have\", phrase)\n",
    "    phrase = re.sub(r\"\\'m\", \" am\", phrase)\n",
    "    return phrase\n",
    "\n",
    "def onlyalphbets(phrase):\n",
    "    #Delete other text than alphabets\n",
    "    phrase = re.sub('[^A-Za-z]+', ' ', phrase)\n",
    "    #Converting to lowercase\n",
    "    return ' '.join(phrase.split()).strip().lower()"
   ]
  },
  {
   "cell_type": "code",
   "execution_count": 20,
   "id": "08725962",
   "metadata": {},
   "outputs": [
    {
     "ename": "IndentationError",
     "evalue": "unexpected indent (2889023296.py, line 2)",
     "output_type": "error",
     "traceback": [
      "\u001b[1;36m  Cell \u001b[1;32mIn [20], line 2\u001b[1;36m\u001b[0m\n\u001b[1;33m    EmailData['Subject'] = EmailData['Subject'].str.replace(rp,'')\u001b[0m\n\u001b[1;37m    ^\u001b[0m\n\u001b[1;31mIndentationError\u001b[0m\u001b[1;31m:\u001b[0m unexpected indent\n"
     ]
    }
   ],
   "source": [
    "EmailData['CurrentMail'] = EmailData['CurrentMail'].str.replace(rp,'')\n",
    "    EmailData['Subject'] = EmailData['Subject'].str.replace(rp,'')\n",
    "    EmailData['PreviousMails']"
   ]
  },
  {
   "cell_type": "markdown",
   "id": "42cab4bf",
   "metadata": {},
   "source": [
    "### For Basic model, We'll Merge Current  and Previous Emails"
   ]
  },
  {
   "cell_type": "code",
   "execution_count": null,
   "id": "8cb5e961",
   "metadata": {},
   "outputs": [],
   "source": []
  },
  {
   "cell_type": "code",
   "execution_count": 117,
   "id": "5a02401e",
   "metadata": {},
   "outputs": [],
   "source": [
    "#Creating New DataFrame \n",
    "NewEmailData = pd.DataFrame()\n",
    "NewEmailData['Email'] = EmailData['PreviousMails']+' . '+EmailData['CurrentMail']"
   ]
  },
  {
   "cell_type": "code",
   "execution_count": 118,
   "id": "6783a4a5",
   "metadata": {},
   "outputs": [],
   "source": [
    "message = NewEmailData['Email'].values\n",
    "#To store all Sentences\n",
    "sentences_list = []\n",
    "for indd,msg in enumerate(message):\n",
    "    if isinstance(msg,str) and len(msg)>1:\n",
    "        msg = msg.strip()\n",
    "\n",
    "        for sentence in msg.split('.'):\n",
    "            #Removing Very Small and Very big sentences\n",
    "            if len(sentence.split())>3 and len(sentence.split())<15:\n",
    "                #Remove Sentence with Numbers\n",
    "                if numberCheck(sentence)==False:\n",
    "                    #Decontract the word\n",
    "                    sentence = decontracted(sentence)\n",
    "                    #Remove sentences with special characters\n",
    "                    if specialCharCheck(sentence)==True:\n",
    "                        sentences_list.append(sentence)\n"
   ]
  },
  {
   "cell_type": "markdown",
   "id": "6667606b",
   "metadata": {},
   "source": [
    "### List of Sentences After Processing"
   ]
  },
  {
   "cell_type": "code",
   "execution_count": 51,
   "id": "13070f6f",
   "metadata": {
    "scrolled": true
   },
   "outputs": [
    {
     "data": {
      "text/plain": [
       "['We have had  three meetings which brought out very different issues from different  traders',\n",
       " '  It will help determine which requests fall under the project scope',\n",
       " ' Use the above to formulate a project plan',\n",
       " ' Customized rows and columns in the position manager  ',\n",
       " ' Position and PandL aggregation across all gas desks']"
      ]
     },
     "execution_count": 51,
     "metadata": {},
     "output_type": "execute_result"
    }
   ],
   "source": [
    "sentences_list[:5]"
   ]
  },
  {
   "cell_type": "code",
   "execution_count": 52,
   "id": "813ba062",
   "metadata": {},
   "outputs": [
    {
     "data": {
      "text/plain": [
       "1438948"
      ]
     },
     "execution_count": 52,
     "metadata": {},
     "output_type": "execute_result"
    }
   ],
   "source": [
    "len(sentences_list)"
   ]
  },
  {
   "cell_type": "code",
   "execution_count": 54,
   "id": "38f185a0",
   "metadata": {
    "scrolled": true
   },
   "outputs": [
    {
     "data": {
      "text/html": [
       "<div>\n",
       "<style scoped>\n",
       "    .dataframe tbody tr th:only-of-type {\n",
       "        vertical-align: middle;\n",
       "    }\n",
       "\n",
       "    .dataframe tbody tr th {\n",
       "        vertical-align: top;\n",
       "    }\n",
       "\n",
       "    .dataframe thead th {\n",
       "        text-align: right;\n",
       "    }\n",
       "</style>\n",
       "<table border=\"1\" class=\"dataframe\">\n",
       "  <thead>\n",
       "    <tr style=\"text-align: right;\">\n",
       "      <th></th>\n",
       "      <th>Email Sentences</th>\n",
       "    </tr>\n",
       "  </thead>\n",
       "  <tbody>\n",
       "    <tr>\n",
       "      <th>0</th>\n",
       "      <td>We have had  three meetings which brought out ...</td>\n",
       "    </tr>\n",
       "    <tr>\n",
       "      <th>1</th>\n",
       "      <td>It will help determine which requests fall u...</td>\n",
       "    </tr>\n",
       "    <tr>\n",
       "      <th>2</th>\n",
       "      <td>Use the above to formulate a project plan</td>\n",
       "    </tr>\n",
       "    <tr>\n",
       "      <th>3</th>\n",
       "      <td>Customized rows and columns in the position m...</td>\n",
       "    </tr>\n",
       "    <tr>\n",
       "      <th>4</th>\n",
       "      <td>Position and PandL aggregation across all gas...</td>\n",
       "    </tr>\n",
       "  </tbody>\n",
       "</table>\n",
       "</div>"
      ],
      "text/plain": [
       "                                     Email Sentences\n",
       "0  We have had  three meetings which brought out ...\n",
       "1    It will help determine which requests fall u...\n",
       "2          Use the above to formulate a project plan\n",
       "3   Customized rows and columns in the position m...\n",
       "4   Position and PandL aggregation across all gas..."
      ]
     },
     "execution_count": 54,
     "metadata": {},
     "output_type": "execute_result"
    }
   ],
   "source": [
    "#Saving list into DataFrame\n",
    "sentences_df = pd.DataFrame({'Email Sentences': sentences_list})\n",
    "sentences_df.head()"
   ]
  },
  {
   "cell_type": "code",
   "execution_count": 56,
   "id": "c8977b35",
   "metadata": {},
   "outputs": [
    {
     "data": {
      "text/plain": [
       "1438948"
      ]
     },
     "execution_count": 56,
     "metadata": {},
     "output_type": "execute_result"
    }
   ],
   "source": [
    "cnt = [len(mmsg.split()) for mmsg in sentences_df['Email Sentences'].values]\n",
    "len(cnt)"
   ]
  },
  {
   "cell_type": "code",
   "execution_count": 58,
   "id": "6d9cab7c",
   "metadata": {},
   "outputs": [
    {
     "data": {
      "text/plain": [
       "[4, 5, 6, 7, 8, 9, 10, 11, 12, 13, 14]"
      ]
     },
     "execution_count": 58,
     "metadata": {},
     "output_type": "execute_result"
    }
   ],
   "source": [
    "#As Number of Words in sentence are 4 to 14\n",
    "WordCnts = list(np.arange(4,15))\n",
    "WordCnts"
   ]
  },
  {
   "cell_type": "code",
   "execution_count": 66,
   "id": "89eeb7ea",
   "metadata": {},
   "outputs": [
    {
     "data": {
      "text/html": [
       "<div>\n",
       "<style scoped>\n",
       "    .dataframe tbody tr th:only-of-type {\n",
       "        vertical-align: middle;\n",
       "    }\n",
       "\n",
       "    .dataframe tbody tr th {\n",
       "        vertical-align: top;\n",
       "    }\n",
       "\n",
       "    .dataframe thead th {\n",
       "        text-align: right;\n",
       "    }\n",
       "</style>\n",
       "<table border=\"1\" class=\"dataframe\">\n",
       "  <thead>\n",
       "    <tr style=\"text-align: right;\">\n",
       "      <th></th>\n",
       "      <th>Email Sentences</th>\n",
       "      <th>WordCnts</th>\n",
       "    </tr>\n",
       "  </thead>\n",
       "  <tbody>\n",
       "    <tr>\n",
       "      <th>0</th>\n",
       "      <td>We have had  three meetings which brought out ...</td>\n",
       "      <td>14</td>\n",
       "    </tr>\n",
       "    <tr>\n",
       "      <th>1</th>\n",
       "      <td>It will help determine which requests fall u...</td>\n",
       "      <td>11</td>\n",
       "    </tr>\n",
       "    <tr>\n",
       "      <th>2</th>\n",
       "      <td>Use the above to formulate a project plan</td>\n",
       "      <td>8</td>\n",
       "    </tr>\n",
       "    <tr>\n",
       "      <th>3</th>\n",
       "      <td>Customized rows and columns in the position m...</td>\n",
       "      <td>8</td>\n",
       "    </tr>\n",
       "    <tr>\n",
       "      <th>4</th>\n",
       "      <td>Position and PandL aggregation across all gas...</td>\n",
       "      <td>8</td>\n",
       "    </tr>\n",
       "  </tbody>\n",
       "</table>\n",
       "</div>"
      ],
      "text/plain": [
       "                                     Email Sentences  WordCnts\n",
       "0  We have had  three meetings which brought out ...        14\n",
       "1    It will help determine which requests fall u...        11\n",
       "2          Use the above to formulate a project plan         8\n",
       "3   Customized rows and columns in the position m...         8\n",
       "4   Position and PandL aggregation across all gas...         8"
      ]
     },
     "execution_count": 66,
     "metadata": {},
     "output_type": "execute_result"
    }
   ],
   "source": [
    "sentences_df['WordCnts'] = cnt\n",
    "sentences_df.head()"
   ]
  },
  {
   "cell_type": "code",
   "execution_count": 67,
   "id": "82783633",
   "metadata": {
    "scrolled": false
   },
   "outputs": [
    {
     "data": {
      "text/plain": [
       "<AxesSubplot: xlabel='WordCnts', ylabel='count'>"
      ]
     },
     "execution_count": 67,
     "metadata": {},
     "output_type": "execute_result"
    },
    {
     "data": {
      "image/png": "[encoded data removed]",
      "text/plain": [
       "<Figure size 2000x700 with 1 Axes>"
      ]
     },
     "metadata": {},
     "output_type": "display_data"
    }
   ],
   "source": [
    "import seaborn as sns\n",
    "import matplotlib.pyplot as plt\n",
    "\n",
    "fig = plt.figure(figsize =(20, 7))\n",
    "sns.countplot(x=\"WordCnts\",data=sentences_df)"
   ]
  },
  {
   "cell_type": "markdown",
   "id": "bee411e6",
   "metadata": {},
   "source": [
    "### Observation\n",
    "- Number of Wrods in Each sentence is Very similar for all "
   ]
  },
  {
   "cell_type": "code",
   "execution_count": 69,
   "id": "d4678b7d",
   "metadata": {},
   "outputs": [],
   "source": [
    "import tensorflow as tf"
   ]
  },
  {
   "cell_type": "markdown",
   "id": "9deb68b0",
   "metadata": {},
   "source": [
    "### Wrodcount Plot\n",
    "- Some words are too often used so their wordcount is higher\n",
    "- We want to make this system frequent use therefore we can drop rarely occuring words  \n",
    "- Lets plot a plot of Number of times the Word occur in Sentences"
   ]
  },
  {
   "cell_type": "code",
   "execution_count": 71,
   "id": "7d9cd2fc",
   "metadata": {},
   "outputs": [],
   "source": [
    "tokenizer = tf.keras.preprocessing.text.Tokenizer(filters='')\n",
    "tokenizer.fit_on_texts(sentences_df['Email Sentences'])\n",
    "wordCnt = list(dict(tokenizer.word_counts).values())\n",
    "wordCnt.sort(reverse=True)"
   ]
  },
  {
   "cell_type": "code",
   "execution_count": 80,
   "id": "4d987b6c",
   "metadata": {},
   "outputs": [
    {
     "data": {
      "text/plain": [
       "(0.0, 150.0)"
      ]
     },
     "execution_count": 80,
     "metadata": {},
     "output_type": "execute_result"
    },
    {
     "data": {
      "image/png": "[encoded data removed]",
      "text/plain": [
       "<Figure size 1500x500 with 1 Axes>"
      ]
     },
     "metadata": {},
     "output_type": "display_data"
    }
   ],
   "source": [
    "plt.figure(figsize=(15,5))\n",
    "plt.bar(range(len(wordCnt)),wordCnt,align='center',color=\"red\")\n",
    "plt.xticks(range(0,40000,1000),rotation=90)\n",
    "plt.ylim(0,150)\n",
    "plt.xlabel('wordCnt')\n",
    "plt.ylabel('Count')\n",
    "plt.title('Word counts Bar Chart')"
   ]
  },
  {
   "cell_type": "markdown",
   "id": "eaa56f95",
   "metadata": {},
   "source": [
    "### OBSERVATIONS\n",
    "- More than 5000 Word which occur more than 140 times\n",
    "- We want our system to be more general purpose, So dropping more rarer Words\n",
    "- Selecting sentences which contain these more frequent words"
   ]
  },
  {
   "cell_type": "code",
   "execution_count": 90,
   "id": "ea3c1a4a",
   "metadata": {},
   "outputs": [],
   "source": [
    "AllWords = {i:j for i,j in dict(tokenizer.word_counts).items() if j>140}"
   ]
  },
  {
   "cell_type": "code",
   "execution_count": 92,
   "id": "feef13e9",
   "metadata": {},
   "outputs": [
    {
     "data": {
      "text/plain": [
       "5403"
      ]
     },
     "execution_count": 92,
     "metadata": {},
     "output_type": "execute_result"
    }
   ],
   "source": [
    "len(AllWords)"
   ]
  },
  {
   "cell_type": "code",
   "execution_count": 94,
   "id": "e186a3fc",
   "metadata": {},
   "outputs": [
    {
     "name": "stderr",
     "output_type": "stream",
     "text": [
      "100%|██████████████████████████████████████████████████████████████████████| 1438948/1438948 [04:31<00:00, 5308.50it/s]\n"
     ]
    }
   ],
   "source": [
    "#Selecting Only Sentences, Which Contain these words\n",
    "NewSent = []\n",
    "for i in tqdm(sentences_df['Email Sentences']):\n",
    "    Check = True\n",
    "    for j in AllWords.keys():\n",
    "        wordds = i.split()\n",
    "        for k in wordds:\n",
    "            if k == j:\n",
    "                NewSent.append(i)\n",
    "                Check = False\n",
    "                break\n",
    "        if Check == False:\n",
    "            break"
   ]
  },
  {
   "cell_type": "code",
   "execution_count": 95,
   "id": "89517096",
   "metadata": {},
   "outputs": [
    {
     "name": "stdout",
     "output_type": "stream",
     "text": [
      "1372574\n"
     ]
    },
    {
     "data": {
      "text/plain": [
       "['We have had  three meetings which brought out very different issues from different  traders',\n",
       " '  It will help determine which requests fall under the project scope',\n",
       " ' Use the above to formulate a project plan',\n",
       " ' Customized rows and columns in the position manager  ',\n",
       " ' Position and PandL aggregation across all gas desks',\n",
       " '  Ability to handle volatility  skew and correlations',\n",
       " ' Ability to revalue all options incrementally throughout the trading day',\n",
       " '   Approximate delta changes between valuations using instantaneous gamma or a  gamma grid',\n",
       " ' Valuation of Gas Daily options',\n",
       " ' A new position screen for options  ']"
      ]
     },
     "execution_count": 95,
     "metadata": {},
     "output_type": "execute_result"
    }
   ],
   "source": [
    "print(len(NewSent))\n",
    "NewSent[:10]"
   ]
  },
  {
   "cell_type": "code",
   "execution_count": 96,
   "id": "18e331e8",
   "metadata": {},
   "outputs": [
    {
     "data": {
      "text/html": [
       "<div>\n",
       "<style scoped>\n",
       "    .dataframe tbody tr th:only-of-type {\n",
       "        vertical-align: middle;\n",
       "    }\n",
       "\n",
       "    .dataframe tbody tr th {\n",
       "        vertical-align: top;\n",
       "    }\n",
       "\n",
       "    .dataframe thead th {\n",
       "        text-align: right;\n",
       "    }\n",
       "</style>\n",
       "<table border=\"1\" class=\"dataframe\">\n",
       "  <thead>\n",
       "    <tr style=\"text-align: right;\">\n",
       "      <th></th>\n",
       "      <th>Sentence</th>\n",
       "    </tr>\n",
       "  </thead>\n",
       "  <tbody>\n",
       "    <tr>\n",
       "      <th>0</th>\n",
       "      <td>We have had  three meetings which brought out ...</td>\n",
       "    </tr>\n",
       "    <tr>\n",
       "      <th>1</th>\n",
       "      <td>It will help determine which requests fall u...</td>\n",
       "    </tr>\n",
       "  </tbody>\n",
       "</table>\n",
       "</div>"
      ],
      "text/plain": [
       "                                            Sentence\n",
       "0  We have had  three meetings which brought out ...\n",
       "1    It will help determine which requests fall u..."
      ]
     },
     "execution_count": 96,
     "metadata": {},
     "output_type": "execute_result"
    }
   ],
   "source": [
    "#Saving File as .pkl\n",
    "NewSentDF = pd.DataFrame({'Sentence':NewSent})\n",
    "NewSentDF.head(2)"
   ]
  },
  {
   "cell_type": "code",
   "execution_count": 97,
   "id": "5579363d",
   "metadata": {},
   "outputs": [],
   "source": [
    "NewSentDF.to_pickle('ProcessedEmailSentences.pkl')"
   ]
  },
  {
   "cell_type": "code",
   "execution_count": 3,
   "id": "e3ea0d31",
   "metadata": {},
   "outputs": [],
   "source": [
    "import pandas as pd"
   ]
  },
  {
   "cell_type": "code",
   "execution_count": 9,
   "id": "2abd0b43",
   "metadata": {},
   "outputs": [
    {
     "data": {
      "text/html": [
       "<div>\n",
       "<style scoped>\n",
       "    .dataframe tbody tr th:only-of-type {\n",
       "        vertical-align: middle;\n",
       "    }\n",
       "\n",
       "    .dataframe tbody tr th {\n",
       "        vertical-align: top;\n",
       "    }\n",
       "\n",
       "    .dataframe thead th {\n",
       "        text-align: right;\n",
       "    }\n",
       "</style>\n",
       "<table border=\"1\" class=\"dataframe\">\n",
       "  <thead>\n",
       "    <tr style=\"text-align: right;\">\n",
       "      <th></th>\n",
       "      <th>Sentence</th>\n",
       "    </tr>\n",
       "  </thead>\n",
       "  <tbody>\n",
       "    <tr>\n",
       "      <th>0</th>\n",
       "      <td>we have had three meetings which brought out ...</td>\n",
       "    </tr>\n",
       "    <tr>\n",
       "      <th>1</th>\n",
       "      <td>it will help determine which requests fall un...</td>\n",
       "    </tr>\n",
       "  </tbody>\n",
       "</table>\n",
       "</div>"
      ],
      "text/plain": [
       "                                            Sentence\n",
       "0   we have had three meetings which brought out ...\n",
       "1   it will help determine which requests fall un..."
      ]
     },
     "execution_count": 9,
     "metadata": {},
     "output_type": "execute_result"
    }
   ],
   "source": [
    "#BUGFIX\n",
    "#Removing sentences with ;\n",
    "NewSentDF = pd.read_pickle('ProcessedEmailSentences.pkl')\n",
    "NewSentDF.head(2)"
   ]
  },
  {
   "cell_type": "code",
   "execution_count": 10,
   "id": "c12c2b11",
   "metadata": {},
   "outputs": [
    {
     "data": {
      "text/plain": [
       "(313414, 1)"
      ]
     },
     "execution_count": 10,
     "metadata": {},
     "output_type": "execute_result"
    }
   ],
   "source": [
    "NewSentDF.shape"
   ]
  },
  {
   "cell_type": "code",
   "execution_count": 11,
   "id": "1cc5e55a",
   "metadata": {},
   "outputs": [
    {
     "data": {
      "text/plain": [
       "(312065, 1)"
      ]
     },
     "execution_count": 11,
     "metadata": {},
     "output_type": "execute_result"
    }
   ],
   "source": [
    "#BUGFIX\n",
    "#This Bug was found during model training phase\n",
    "#Found some unwanted values in the dataset, as input and output length should not be more than 14 combined\n",
    "#But its showing 21 after tokenization so removing unwanted sentences from all datasets\n",
    "#Removing Unwanted Sentences found during training\n",
    "\n",
    "NewSentDF = NewSentDF[~NewSentDF['Sentence'].str.contains(';')]\n",
    "NewSentDF.shape"
   ]
  },
  {
   "cell_type": "code",
   "execution_count": 12,
   "id": "f1a90af8",
   "metadata": {},
   "outputs": [],
   "source": [
    "NewSentDF.to_pickle('ProcessedEmailSentences.pkl')"
   ]
  },
  {
   "cell_type": "code",
   "execution_count": null,
   "id": "fd30a087",
   "metadata": {},
   "outputs": [],
   "source": []
  }
 ],
 "metadata": {
  "kernelspec": {
   "display_name": "Python 3.9 (TensorFlow)",
   "language": "python",
   "name": "tenorflow"
  },
  "language_info": {
   "codemirror_mode": {
    "name": "ipython",
    "version": 3
   },
   "file_extension": ".py",
   "mimetype": "text/x-python",
   "name": "python",
   "nbconvert_exporter": "python",
   "pygments_lexer": "ipython3",
   "version": "3.9.7"
  }
 },
 "nbformat": 4,
 "nbformat_minor": 5
}
