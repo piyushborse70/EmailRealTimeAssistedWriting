{
 "cells": [
  {
   "cell_type": "markdown",
   "id": "240b97fc",
   "metadata": {},
   "source": [
    "### Output Check"
   ]
  },
  {
   "cell_type": "code",
   "execution_count": 1,
   "id": "199bc6b2",
   "metadata": {},
   "outputs": [],
   "source": [
    "from tensorflow.keras.utils import to_categorical\n",
    "from sklearn.preprocessing import LabelEncoder\n",
    "from sklearn.model_selection import train_test_split\n",
    "import pandas as pd\n",
    "import numpy as np\n",
    "import tensorflow as tf\n",
    "import datetime\n",
    "from tensorflow.keras.preprocessing.text import Tokenizer\n",
    "from keras_preprocessing.sequence import pad_sequences\n",
    "from numpy import asarray\n",
    "from tensorflow.keras.layers import Input,Embedding,GRU,MaxPooling2D,GlobalMaxPooling2D,Bidirectional\n",
    "from tensorflow.keras.layers import LSTM,Concatenate,MaxPool1D,Flatten,Dropout,Masking,Softmax,Dense,Embedding\n",
    "from tensorflow.keras import Model\n",
    "from tensorflow.keras.utils import to_categorical\n",
    "from tensorflow.keras.utils import plot_model\n",
    "from tensorflow.keras.callbacks import EarlyStopping,ModelCheckpoint,TerminateOnNaN,ReduceLROnPlateau,LearningRateScheduler\n",
    "from tensorflow.keras.models import Sequential\n",
    "#BPEmb is set of pretrained vectors like glove vectors\n",
    "from bpemb import BPEmb\n",
    "from tqdm import tqdm"
   ]
  },
  {
   "cell_type": "code",
   "execution_count": 2,
   "id": "e4dd70e6",
   "metadata": {},
   "outputs": [],
   "source": [
    "DfTest = pd.read_pickle('PreProcessed\\WordLevelTestingData.pkl')"
   ]
  },
  {
   "cell_type": "code",
   "execution_count": 3,
   "id": "bb838ad9",
   "metadata": {},
   "outputs": [],
   "source": [
    "#defining Metric\n",
    "def perplexity(y_true, y_pred):\n",
    "    '''\n",
    "    https://thegradient.pub/understanding-evaluation-metrics-for-language-models/\n",
    "    return perplexity of the module\n",
    "    The perplexity of a language model can be seen as the level of perplexity when predicting the following symbol    \n",
    "    '''\n",
    "    return tf.keras.backend.exp(tf.keras.backend.mean(tf.keras.backend.sparse_categorical_crossentropy(y_true, y_pred)))"
   ]
  },
  {
   "cell_type": "code",
   "execution_count": 4,
   "id": "10c78715",
   "metadata": {},
   "outputs": [
    {
     "data": {
      "text/plain": [
       "(50000, 100)"
      ]
     },
     "execution_count": 4,
     "metadata": {},
     "output_type": "execute_result"
    }
   ],
   "source": [
    "#declaring bpemb_en\n",
    "bpemb_en = BPEmb(lang=\"en\",vs=50000)\n",
    "bpemb_en.vectors.shape"
   ]
  },
  {
   "cell_type": "code",
   "execution_count": 5,
   "id": "26cc5dab",
   "metadata": {},
   "outputs": [],
   "source": [
    "#Loading Model\n",
    "loadModel = tf.keras.models.load_model('model2_save/weights-24-5.3944.hdf5',custom_objects = {'perplexity':perplexity})"
   ]
  },
  {
   "cell_type": "code",
   "execution_count": 6,
   "id": "664b01f5",
   "metadata": {},
   "outputs": [],
   "source": [
    "def predictOutput(input_sentence):\n",
    "    '''\n",
    "    This Method returns the output sentence for given input sentence\n",
    "    In this method we pass input sentence through all the layers in the model\n",
    "    '''\n",
    "    #Tokenizing input sentence\n",
    "    enCode = bpemb_en.encode_ids_with_bos_eos(input_sentence)\n",
    "    deSentence = [[1]]\n",
    "    encInpTrain = pad_sequences([enCode], maxlen=15, padding=\"post\")\n",
    "    decoder_input_train = np.array(deSentence)\n",
    "    embEncoder = loadModel.layers[1](encInpTrain)\n",
    "    encOp,stateF,stateB=loadModel.layers[3](embEncoder)\n",
    "    concatenated = loadModel.layers[5]([stateF,stateB])\n",
    "    outputSentenceList = []\n",
    "    for i in range(0,15):\n",
    "        embeddingDec = loadModel.layers[4](decoder_input_train)\n",
    "        output,state = loadModel.layers[6](embeddingDec, initial_state = concatenated)\n",
    "        dense = loadModel.layers[8](output)\n",
    "        dense1 = loadModel.layers[10](dense)\n",
    "        index = np.argmax(dense1[0][0])\n",
    "        deSentence = [[int(index)]]\n",
    "        decoder_input_train = np.array(deSentence)\n",
    "        outputSentenceList.append(int(index))\n",
    "        concatenated = state\n",
    "        if(index == 0):\n",
    "              break\n",
    "    return outputSentenceList"
   ]
  },
  {
   "cell_type": "code",
   "execution_count": 7,
   "id": "e5b44452",
   "metadata": {},
   "outputs": [],
   "source": [
    "def returnOutput(listData):\n",
    "    '''\n",
    "    This method passes input sentences in the list form to predictOutput function\n",
    "    '''\n",
    "    Predictions = []\n",
    "    Lst = []\n",
    "    for txt in tqdm(listData):\n",
    "        Lst = bpemb_en.decode_ids(predictOutput(txt))\n",
    "        Predictions.append(' '.join(Lst))\n",
    "    return Predictions"
   ]
  },
  {
   "cell_type": "code",
   "execution_count": 8,
   "id": "cdc9ebda",
   "metadata": {},
   "outputs": [
    {
     "name": "stderr",
     "output_type": "stream",
     "text": [
      "100%|████████████████████████████████████████████████████████████████████████████████| 240/240 [00:23<00:00, 10.04it/s]\n"
     ]
    }
   ],
   "source": [
    "#Loading random data\n",
    "TestDataFrame = pd.DataFrame()\n",
    "TestDataFrame['Input Sentence']= DfTest['X'].iloc[560:800]\n",
    "TestDataFrame['Actual Output Sentence']= DfTest['Y'].iloc[560:800]\n",
    "TestDataFrame['Predicted Output Sentence']= returnOutput(TestDataFrame['Input Sentence'].values)"
   ]
  },
  {
   "cell_type": "code",
   "execution_count": 9,
   "id": "e68b75c2",
   "metadata": {},
   "outputs": [
    {
     "data": {
      "text/html": [
       "<div>\n",
       "<style scoped>\n",
       "    .dataframe tbody tr th:only-of-type {\n",
       "        vertical-align: middle;\n",
       "    }\n",
       "\n",
       "    .dataframe tbody tr th {\n",
       "        vertical-align: top;\n",
       "    }\n",
       "\n",
       "    .dataframe thead th {\n",
       "        text-align: right;\n",
       "    }\n",
       "</style>\n",
       "<table border=\"1\" class=\"dataframe\">\n",
       "  <thead>\n",
       "    <tr style=\"text-align: right;\">\n",
       "      <th></th>\n",
       "      <th>Input Sentence</th>\n",
       "      <th>Actual Output Sentence</th>\n",
       "      <th>Predicted Output Sentence</th>\n",
       "    </tr>\n",
       "  </thead>\n",
       "  <tbody>\n",
       "    <tr>\n",
       "      <th>560</th>\n",
       "      <td>i will pass along any revised numbers as we</td>\n",
       "      <td>receive them</td>\n",
       "      <td>have a copy</td>\n",
       "    </tr>\n",
       "    <tr>\n",
       "      <th>561</th>\n",
       "      <td>also let anyone you want</td>\n",
       "      <td>to look at it as well</td>\n",
       "      <td>to get a copy of the attached</td>\n",
       "    </tr>\n",
       "    <tr>\n",
       "      <th>562</th>\n",
       "      <td>thank you for attending the</td>\n",
       "      <td>meeting and giving many helpful contributions</td>\n",
       "      <td>meeting</td>\n",
       "    </tr>\n",
       "    <tr>\n",
       "      <th>563</th>\n",
       "      <td>they have been sniffing</td>\n",
       "      <td>around the marketplace for several weeks now</td>\n",
       "      <td>the same</td>\n",
       "    </tr>\n",
       "    <tr>\n",
       "      <th>564</th>\n",
       "      <td>there is some</td>\n",
       "      <td>though that amos might not run again</td>\n",
       "      <td>of the same</td>\n",
       "    </tr>\n",
       "  </tbody>\n",
       "</table>\n",
       "</div>"
      ],
      "text/plain": [
       "                                  Input Sentence  \\\n",
       "560  i will pass along any revised numbers as we   \n",
       "561                     also let anyone you want   \n",
       "562                  thank you for attending the   \n",
       "563                      they have been sniffing   \n",
       "564                                there is some   \n",
       "\n",
       "                            Actual Output Sentence  \\\n",
       "560                                   receive them   \n",
       "561                          to look at it as well   \n",
       "562  meeting and giving many helpful contributions   \n",
       "563   around the marketplace for several weeks now   \n",
       "564           though that amos might not run again   \n",
       "\n",
       "           Predicted Output Sentence  \n",
       "560                    have a copy    \n",
       "561  to get a copy of the attached    \n",
       "562                        meeting    \n",
       "563                       the same    \n",
       "564                    of the same    "
      ]
     },
     "execution_count": 9,
     "metadata": {},
     "output_type": "execute_result"
    }
   ],
   "source": [
    "TestDataFrame.head(5)"
   ]
  },
  {
   "cell_type": "code",
   "execution_count": 10,
   "id": "08f30a8d",
   "metadata": {},
   "outputs": [
    {
     "data": {
      "text/html": [
       "<div>\n",
       "<style scoped>\n",
       "    .dataframe tbody tr th:only-of-type {\n",
       "        vertical-align: middle;\n",
       "    }\n",
       "\n",
       "    .dataframe tbody tr th {\n",
       "        vertical-align: top;\n",
       "    }\n",
       "\n",
       "    .dataframe thead th {\n",
       "        text-align: right;\n",
       "    }\n",
       "</style>\n",
       "<table border=\"1\" class=\"dataframe\">\n",
       "  <thead>\n",
       "    <tr style=\"text-align: right;\">\n",
       "      <th></th>\n",
       "      <th>Input Sentence</th>\n",
       "      <th>Actual Output Sentence</th>\n",
       "      <th>Predicted Output Sentence</th>\n",
       "    </tr>\n",
       "  </thead>\n",
       "  <tbody>\n",
       "    <tr>\n",
       "      <th>610</th>\n",
       "      <td>i should have stated</td>\n",
       "      <td>that vick is the perfect example</td>\n",
       "      <td>the same</td>\n",
       "    </tr>\n",
       "    <tr>\n",
       "      <th>611</th>\n",
       "      <td>please let me know if</td>\n",
       "      <td>you have any problems or questions</td>\n",
       "      <td>you have any questions</td>\n",
       "    </tr>\n",
       "    <tr>\n",
       "      <th>612</th>\n",
       "      <td>i thought you might find some</td>\n",
       "      <td>aspects interesting</td>\n",
       "      <td>to be a good time</td>\n",
       "    </tr>\n",
       "    <tr>\n",
       "      <th>613</th>\n",
       "      <td>you will be presented with a winzip</td>\n",
       "      <td>dialog box</td>\n",
       "      <td>of the office</td>\n",
       "    </tr>\n",
       "    <tr>\n",
       "      <th>614</th>\n",
       "      <td>however i will</td>\n",
       "      <td>be out of the office until monday</td>\n",
       "      <td>be able to get a copy of the attached</td>\n",
       "    </tr>\n",
       "  </tbody>\n",
       "</table>\n",
       "</div>"
      ],
      "text/plain": [
       "                          Input Sentence              Actual Output Sentence  \\\n",
       "610                 i should have stated    that vick is the perfect example   \n",
       "611                please let me know if  you have any problems or questions   \n",
       "612        i thought you might find some                 aspects interesting   \n",
       "613  you will be presented with a winzip                          dialog box   \n",
       "614                       however i will   be out of the office until monday   \n",
       "\n",
       "                   Predicted Output Sentence  \n",
       "610                               the same    \n",
       "611                 you have any questions    \n",
       "612                      to be a good time    \n",
       "613                          of the office    \n",
       "614  be able to get a copy of the attached    "
      ]
     },
     "execution_count": 10,
     "metadata": {},
     "output_type": "execute_result"
    }
   ],
   "source": [
    "TestDataFrame[50:55]"
   ]
  },
  {
   "cell_type": "code",
   "execution_count": 18,
   "id": "410f4a37",
   "metadata": {},
   "outputs": [],
   "source": [
    "def returnOutputText(txt):\n",
    "    '''\n",
    "    This method passes input sentences predictOutput function\n",
    "    '''\n",
    "    oupSent = bpemb_en.decode_ids(predictOutput(txt))\n",
    "    oupSent = ' '.join(oupSent)\n",
    "    return oupSent"
   ]
  },
  {
   "cell_type": "code",
   "execution_count": 20,
   "id": "d26155ba",
   "metadata": {
    "scrolled": true
   },
   "outputs": [
    {
     "data": {
      "text/plain": [
       "'meeting  '"
      ]
     },
     "execution_count": 20,
     "metadata": {},
     "output_type": "execute_result"
    }
   ],
   "source": [
    "returnOutputText(\"thank you for attending the\")"
   ]
  }
 ],
 "metadata": {
  "kernelspec": {
   "display_name": "Python 3.9 (TensorFlow)",
   "language": "python",
   "name": "tenorflow"
  },
  "language_info": {
   "codemirror_mode": {
    "name": "ipython",
    "version": 3
   },
   "file_extension": ".py",
   "mimetype": "text/x-python",
   "name": "python",
   "nbconvert_exporter": "python",
   "pygments_lexer": "ipython3",
   "version": "3.9.7"
  }
 },
 "nbformat": 4,
 "nbformat_minor": 5
}
