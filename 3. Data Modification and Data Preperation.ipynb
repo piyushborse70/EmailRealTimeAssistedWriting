{
 "cells": [
  {
   "cell_type": "markdown",
   "id": "16c114df",
   "metadata": {},
   "source": [
    "##  Data Modification and Data Preperation"
   ]
  },
  {
   "cell_type": "code",
   "execution_count": 1,
   "id": "3e7165ae",
   "metadata": {},
   "outputs": [],
   "source": [
    "import os\n",
    "import email # to process email more effectively and easily\n",
    "from prettytable import PrettyTable\n",
    "from tqdm import tqdm\n",
    "import pandas as pd\n",
    "import os\n",
    "import numpy as np\n",
    "import matplotlib.pyplot as plt\n",
    "import seaborn as sns\n",
    "import math\n",
    "import re #regex\n",
    "from tqdm import tqdm\n",
    "import tensorflow as tf"
   ]
  },
  {
   "cell_type": "code",
   "execution_count": 2,
   "id": "9aee89df",
   "metadata": {
    "scrolled": true
   },
   "outputs": [
    {
     "data": {
      "text/html": [
       "<div>\n",
       "<style scoped>\n",
       "    .dataframe tbody tr th:only-of-type {\n",
       "        vertical-align: middle;\n",
       "    }\n",
       "\n",
       "    .dataframe tbody tr th {\n",
       "        vertical-align: top;\n",
       "    }\n",
       "\n",
       "    .dataframe thead th {\n",
       "        text-align: right;\n",
       "    }\n",
       "</style>\n",
       "<table border=\"1\" class=\"dataframe\">\n",
       "  <thead>\n",
       "    <tr style=\"text-align: right;\">\n",
       "      <th></th>\n",
       "      <th>Sentence</th>\n",
       "    </tr>\n",
       "  </thead>\n",
       "  <tbody>\n",
       "    <tr>\n",
       "      <th>0</th>\n",
       "      <td>we have had three meetings which brought out ...</td>\n",
       "    </tr>\n",
       "    <tr>\n",
       "      <th>1</th>\n",
       "      <td>it will help determine which requests fall un...</td>\n",
       "    </tr>\n",
       "    <tr>\n",
       "      <th>2</th>\n",
       "      <td>use the above to formulate a project plan</td>\n",
       "    </tr>\n",
       "    <tr>\n",
       "      <th>3</th>\n",
       "      <td>customized rows and columns in the position m...</td>\n",
       "    </tr>\n",
       "    <tr>\n",
       "      <th>4</th>\n",
       "      <td>position and pandl aggregation across all gas...</td>\n",
       "    </tr>\n",
       "  </tbody>\n",
       "</table>\n",
       "</div>"
      ],
      "text/plain": [
       "                                            Sentence\n",
       "0   we have had three meetings which brought out ...\n",
       "1   it will help determine which requests fall un...\n",
       "2          use the above to formulate a project plan\n",
       "3   customized rows and columns in the position m...\n",
       "4   position and pandl aggregation across all gas..."
      ]
     },
     "execution_count": 2,
     "metadata": {},
     "output_type": "execute_result"
    }
   ],
   "source": [
    "#Importing pickle file saved in Data Preprocessing Notebook\n",
    "Data = pd.read_pickle('ProcessedEmailSentences.pkl')\n",
    "Data.head()"
   ]
  },
  {
   "cell_type": "code",
   "execution_count": 3,
   "id": "6f33c4e2",
   "metadata": {},
   "outputs": [
    {
     "data": {
      "text/plain": [
       "(312065, 1)"
      ]
     },
     "execution_count": 3,
     "metadata": {},
     "output_type": "execute_result"
    }
   ],
   "source": [
    "Data.shape"
   ]
  },
  {
   "cell_type": "markdown",
   "id": "51ece23c",
   "metadata": {},
   "source": [
    "### Splitting The Dataset in X and Y\n",
    "Points to take into consideration,\n",
    "- Minimum Count of of Words in sentence and Maximum count of words of all sentences is 15.\n",
    "- Therefore, Minimum words we will set for input would be 4. Having less than 4 words will not make any sense and it'll not be very useful for user.\n",
    "- If we add 3 or less than 3 words as input then model might not take semantic meaning of the words into consideration and might recommend false output\n",
    "\n",
    "I'll be using below steps break sentences in input and output sentences\n",
    "1. Creating New column for first 3 words and New column for words after the 3 words for each sentence\n",
    "        Example Sentence : \"Use the above to formulate a project plan\" will be splitted as:\n",
    "        input sentence : Use the above\n",
    "        output sentence : to formulate a project plan\n",
    "        \n",
    "Note: We can create a method to return input and output String as directly. We are performing above step, because operation on strings are very fast in pandas which will save us lot of time\n",
    "\n",
    "2. After splitting, there are still more than 1 words present in output sentences,\n",
    "    So, We'll create new DataFrame Which will contain input string concatenated with output string\n"
   ]
  },
  {
   "cell_type": "code",
   "execution_count": 51,
   "id": "50bd270b",
   "metadata": {},
   "outputs": [],
   "source": [
    "from tqdm import tqdm"
   ]
  },
  {
   "cell_type": "code",
   "execution_count": 7,
   "id": "c436fc2a",
   "metadata": {},
   "outputs": [],
   "source": [
    "def CreateInOut(listSent):\n",
    "    '''\n",
    "    This Method Creates New Dataframe of input and output strings based on above operations\n",
    "    '''\n",
    "    NewDf = pd.DataFrame()\n",
    "    input_Sentence = []\n",
    "    output_Sentence = []\n",
    "    \n",
    "    for ind,sent in enumerate(tqdm(listSent)):\n",
    "        wordList = sent.split()\n",
    "        inpW = wordList[0]\n",
    "        opL = wordList[1:]\n",
    "        input_Sentence.append(inpW)\n",
    "        output_Sentence.append(' '.join(opL))\n",
    "        if len(opL)>1:\n",
    "            for wordsIndx in range(len(opL)-1):\n",
    "                inpW = inpW +' '+opL[wordsIndx]\n",
    "                newOpId = wordsIndx+1\n",
    "                opW = ' '.join(opL[newOpId:])\n",
    "                \n",
    "                input_Sentence.append(inpW)\n",
    "                output_Sentence.append(opW)\n",
    "        \n",
    "        \n",
    "    NewDf['input Sentence'] = input_Sentence\n",
    "    NewDf['output Sentence'] = output_Sentence\n",
    "    return NewDf"
   ]
  },
  {
   "cell_type": "code",
   "execution_count": 8,
   "id": "a536f165",
   "metadata": {
    "scrolled": true
   },
   "outputs": [
    {
     "name": "stderr",
     "output_type": "stream",
     "text": [
      "100%|██████████████████████████████████████████████████████████████████████| 312065/312065 [00:01<00:00, 211357.86it/s]\n"
     ]
    },
    {
     "data": {
      "text/html": [
       "<div>\n",
       "<style scoped>\n",
       "    .dataframe tbody tr th:only-of-type {\n",
       "        vertical-align: middle;\n",
       "    }\n",
       "\n",
       "    .dataframe tbody tr th {\n",
       "        vertical-align: top;\n",
       "    }\n",
       "\n",
       "    .dataframe thead th {\n",
       "        text-align: right;\n",
       "    }\n",
       "</style>\n",
       "<table border=\"1\" class=\"dataframe\">\n",
       "  <thead>\n",
       "    <tr style=\"text-align: right;\">\n",
       "      <th></th>\n",
       "      <th>input Sentence</th>\n",
       "      <th>output Sentence</th>\n",
       "    </tr>\n",
       "  </thead>\n",
       "  <tbody>\n",
       "    <tr>\n",
       "      <th>0</th>\n",
       "      <td>we</td>\n",
       "      <td>have had three meetings which brought out very...</td>\n",
       "    </tr>\n",
       "    <tr>\n",
       "      <th>1</th>\n",
       "      <td>we have</td>\n",
       "      <td>had three meetings which brought out very diff...</td>\n",
       "    </tr>\n",
       "    <tr>\n",
       "      <th>2</th>\n",
       "      <td>we have had</td>\n",
       "      <td>three meetings which brought out very differen...</td>\n",
       "    </tr>\n",
       "    <tr>\n",
       "      <th>3</th>\n",
       "      <td>we have had three</td>\n",
       "      <td>meetings which brought out very different issu...</td>\n",
       "    </tr>\n",
       "    <tr>\n",
       "      <th>4</th>\n",
       "      <td>we have had three meetings</td>\n",
       "      <td>which brought out very different issues from d...</td>\n",
       "    </tr>\n",
       "  </tbody>\n",
       "</table>\n",
       "</div>"
      ],
      "text/plain": [
       "               input Sentence  \\\n",
       "0                          we   \n",
       "1                     we have   \n",
       "2                 we have had   \n",
       "3           we have had three   \n",
       "4  we have had three meetings   \n",
       "\n",
       "                                     output Sentence  \n",
       "0  have had three meetings which brought out very...  \n",
       "1  had three meetings which brought out very diff...  \n",
       "2  three meetings which brought out very differen...  \n",
       "3  meetings which brought out very different issu...  \n",
       "4  which brought out very different issues from d...  "
      ]
     },
     "execution_count": 8,
     "metadata": {},
     "output_type": "execute_result"
    }
   ],
   "source": [
    "NewDf = CreateInOut(list(Data['Sentence'].values))\n",
    "NewDf.head()"
   ]
  },
  {
   "cell_type": "code",
   "execution_count": 9,
   "id": "66e32a4e",
   "metadata": {},
   "outputs": [],
   "source": [
    "NewDf.to_pickle('DattForAttention.pkl')"
   ]
  },
  {
   "cell_type": "code",
   "execution_count": 6,
   "id": "1cc1ec0c",
   "metadata": {},
   "outputs": [
    {
     "name": "stderr",
     "output_type": "stream",
     "text": [
      "100%|██████████████████████████████████████████████████████████████████████| 312065/312065 [00:01<00:00, 214140.26it/s]\n"
     ]
    },
    {
     "data": {
      "text/html": [
       "<div>\n",
       "<style scoped>\n",
       "    .dataframe tbody tr th:only-of-type {\n",
       "        vertical-align: middle;\n",
       "    }\n",
       "\n",
       "    .dataframe tbody tr th {\n",
       "        vertical-align: top;\n",
       "    }\n",
       "\n",
       "    .dataframe thead th {\n",
       "        text-align: right;\n",
       "    }\n",
       "</style>\n",
       "<table border=\"1\" class=\"dataframe\">\n",
       "  <thead>\n",
       "    <tr style=\"text-align: right;\">\n",
       "      <th></th>\n",
       "      <th>input Sentence</th>\n",
       "      <th>output Sentence</th>\n",
       "    </tr>\n",
       "  </thead>\n",
       "  <tbody>\n",
       "    <tr>\n",
       "      <th>0</th>\n",
       "      <td>we have had</td>\n",
       "      <td>have had three meetings which brought out very...</td>\n",
       "    </tr>\n",
       "    <tr>\n",
       "      <th>1</th>\n",
       "      <td>we have had have</td>\n",
       "      <td>had three meetings which brought out very diff...</td>\n",
       "    </tr>\n",
       "    <tr>\n",
       "      <th>2</th>\n",
       "      <td>we have had have had</td>\n",
       "      <td>three meetings which brought out very differen...</td>\n",
       "    </tr>\n",
       "    <tr>\n",
       "      <th>3</th>\n",
       "      <td>we have had have had three</td>\n",
       "      <td>meetings which brought out very different issu...</td>\n",
       "    </tr>\n",
       "    <tr>\n",
       "      <th>4</th>\n",
       "      <td>we have had have had three meetings</td>\n",
       "      <td>which brought out very different issues from d...</td>\n",
       "    </tr>\n",
       "  </tbody>\n",
       "</table>\n",
       "</div>"
      ],
      "text/plain": [
       "                        input Sentence  \\\n",
       "0                          we have had   \n",
       "1                     we have had have   \n",
       "2                 we have had have had   \n",
       "3           we have had have had three   \n",
       "4  we have had have had three meetings   \n",
       "\n",
       "                                     output Sentence  \n",
       "0  have had three meetings which brought out very...  \n",
       "1  had three meetings which brought out very diff...  \n",
       "2  three meetings which brought out very differen...  \n",
       "3  meetings which brought out very different issu...  \n",
       "4  which brought out very different issues from d...  "
      ]
     },
     "execution_count": 6,
     "metadata": {},
     "output_type": "execute_result"
    }
   ],
   "source": [
    "NewDf = CreateInOut(list(Data['Sentence'].values))\n",
    "NewDf.head()"
   ]
  },
  {
   "cell_type": "code",
   "execution_count": 54,
   "id": "ff1854cf",
   "metadata": {},
   "outputs": [],
   "source": [
    "#deleting previous dataframe to free some space\n",
    "del Data"
   ]
  },
  {
   "cell_type": "code",
   "execution_count": 55,
   "id": "0ec67e78",
   "metadata": {},
   "outputs": [
    {
     "data": {
      "text/plain": [
       "(1894885, 2)"
      ]
     },
     "execution_count": 55,
     "metadata": {},
     "output_type": "execute_result"
    }
   ],
   "source": [
    "NewDf.shape"
   ]
  },
  {
   "cell_type": "code",
   "execution_count": 56,
   "id": "6ff82066",
   "metadata": {},
   "outputs": [
    {
     "data": {
      "text/html": [
       "<div>\n",
       "<style scoped>\n",
       "    .dataframe tbody tr th:only-of-type {\n",
       "        vertical-align: middle;\n",
       "    }\n",
       "\n",
       "    .dataframe tbody tr th {\n",
       "        vertical-align: top;\n",
       "    }\n",
       "\n",
       "    .dataframe thead th {\n",
       "        text-align: right;\n",
       "    }\n",
       "</style>\n",
       "<table border=\"1\" class=\"dataframe\">\n",
       "  <thead>\n",
       "    <tr style=\"text-align: right;\">\n",
       "      <th></th>\n",
       "      <th>input Sentence</th>\n",
       "      <th>output Sentence</th>\n",
       "    </tr>\n",
       "  </thead>\n",
       "  <tbody>\n",
       "    <tr>\n",
       "      <th>0</th>\n",
       "      <td>we have had</td>\n",
       "      <td>three meetings which brought out very differen...</td>\n",
       "    </tr>\n",
       "    <tr>\n",
       "      <th>1</th>\n",
       "      <td>we have had three</td>\n",
       "      <td>meetings which brought out very different issu...</td>\n",
       "    </tr>\n",
       "    <tr>\n",
       "      <th>2</th>\n",
       "      <td>we have had three meetings</td>\n",
       "      <td>which brought out very different issues from d...</td>\n",
       "    </tr>\n",
       "    <tr>\n",
       "      <th>3</th>\n",
       "      <td>we have had three meetings which</td>\n",
       "      <td>brought out very different issues from differe...</td>\n",
       "    </tr>\n",
       "    <tr>\n",
       "      <th>4</th>\n",
       "      <td>we have had three meetings which brought</td>\n",
       "      <td>out very different issues from different traders</td>\n",
       "    </tr>\n",
       "  </tbody>\n",
       "</table>\n",
       "</div>"
      ],
      "text/plain": [
       "                             input Sentence  \\\n",
       "0                               we have had   \n",
       "1                         we have had three   \n",
       "2                we have had three meetings   \n",
       "3          we have had three meetings which   \n",
       "4  we have had three meetings which brought   \n",
       "\n",
       "                                     output Sentence  \n",
       "0  three meetings which brought out very differen...  \n",
       "1  meetings which brought out very different issu...  \n",
       "2  which brought out very different issues from d...  \n",
       "3  brought out very different issues from differe...  \n",
       "4   out very different issues from different traders  "
      ]
     },
     "execution_count": 56,
     "metadata": {},
     "output_type": "execute_result"
    }
   ],
   "source": [
    "#Removing all rows which contain 1 letter\n",
    "NewDf = NewDf[NewDf['output Sentence'].str.len()!=1]\n",
    "NewDf.head()"
   ]
  },
  {
   "cell_type": "code",
   "execution_count": 57,
   "id": "84415ba9",
   "metadata": {},
   "outputs": [
    {
     "data": {
      "text/plain": [
       "(1887787, 2)"
      ]
     },
     "execution_count": 57,
     "metadata": {},
     "output_type": "execute_result"
    }
   ],
   "source": [
    "NewDf.shape"
   ]
  },
  {
   "cell_type": "markdown",
   "id": "e8a622ec",
   "metadata": {},
   "source": [
    "### Train Test Split\n",
    "- Whole data after splitting the sentenes with words will not fit into memory\n",
    "- Therfore splitting the dataset now into training, testing and validation sets "
   ]
  },
  {
   "cell_type": "code",
   "execution_count": 58,
   "id": "2ddf9503",
   "metadata": {},
   "outputs": [
    {
     "name": "stdout",
     "output_type": "stream",
     "text": [
      "Shape of input training data:  (1379971,)\n",
      "Shape of input cross validation data:  (224647,)\n",
      "Shape of input testing data:  (283169,)\n",
      "Shape of output training data:  (1379971,)\n",
      "Shape of output cross validation data:  (224647,)\n",
      "Shape of output testing data:  (283169,)\n"
     ]
    }
   ],
   "source": [
    "from sklearn.model_selection import train_test_split\n",
    "#Using Only 15% of data as test and validation data, as we need lots of data for training\n",
    "XTrain,XTest,YTrain,YTest = train_test_split(NewDf['input Sentence'].values,NewDf['output Sentence'].values,random_state=42,test_size=0.15)\n",
    "XTrain,XCv,YTrain,YCv = train_test_split(XTrain,YTrain,random_state=42,test_size=0.14)\n",
    "print('Shape of input training data: ',XTrain.shape)\n",
    "print('Shape of input cross validation data: ',XCv.shape)\n",
    "print('Shape of input testing data: ',XTest.shape)\n",
    "print('Shape of output training data: ',YTrain.shape)\n",
    "print('Shape of output cross validation data: ',YCv.shape)\n",
    "print('Shape of output testing data: ',YTest.shape)"
   ]
  },
  {
   "cell_type": "markdown",
   "id": "19f6367b",
   "metadata": {},
   "source": [
    "### Word Splitting\n",
    "- Work is not done Yet...! With the above data, we can surely recommend new words to the user after giving more than 3 words as a input. We have to give full 3 words as a input.\n",
    "- But we have to recommend new sentences even if user inputs more than 3 words and any new alphabet or half words afterwords as input.\n",
    "- We can acheive this by splitting Words\n",
    "\n",
    "    **Example** Sentence: we have had three meetings\n",
    "    \n",
    "    input: we have had th\n",
    "    \n",
    "    output: ree meetings"
   ]
  },
  {
   "cell_type": "code",
   "execution_count": 59,
   "id": "9af192a6",
   "metadata": {},
   "outputs": [],
   "source": [
    "def SplitWords(inpList,opList):\n",
    "    '''\n",
    "    This Method Creates New Dataframe after splitting words\n",
    "    '''\n",
    "    WordSplitDf = pd.DataFrame()\n",
    "    input_Sentence = []\n",
    "    output_Sentence = []\n",
    "    \n",
    "    for ind,sent in enumerate(tqdm(opList)):\n",
    "        inpS = inpList[ind]+' '\n",
    "        oupS = sent\n",
    "        input_Sentence.append(inpS)\n",
    "        output_Sentence.append(oupS)\n",
    "        for alphbtsIndx in range(len(oupS)-2):\n",
    "            if oupS[alphbtsIndx] == ' ':\n",
    "                inpS = inpS+' '\n",
    "            else:\n",
    "                inpS = inpS+oupS[alphbtsIndx]\n",
    "                oupSIdx = alphbtsIndx+1\n",
    "                outS = oupS[oupSIdx:]\n",
    "                input_Sentence.append(inpS)\n",
    "                output_Sentence.append(outS)\n",
    "                 \n",
    "    WordSplitDf['X'] = input_Sentence\n",
    "    WordSplitDf['Y'] = output_Sentence\n",
    "    return WordSplitDf"
   ]
  },
  {
   "cell_type": "code",
   "execution_count": 60,
   "id": "44f49c32",
   "metadata": {
    "scrolled": true
   },
   "outputs": [
    {
     "name": "stderr",
     "output_type": "stream",
     "text": [
      "100%|██████████████████████████████████████████████████████████████████████| 459990/459990 [00:03<00:00, 142195.46it/s]\n"
     ]
    },
    {
     "name": "stdout",
     "output_type": "stream",
     "text": [
      "----- DTrain1.pkl Created -----\n"
     ]
    },
    {
     "name": "stderr",
     "output_type": "stream",
     "text": [
      "100%|██████████████████████████████████████████████████████████████████████| 459990/459990 [00:03<00:00, 133147.95it/s]\n"
     ]
    },
    {
     "name": "stdout",
     "output_type": "stream",
     "text": [
      "----- DTrain2.pkl Created -----\n"
     ]
    },
    {
     "name": "stderr",
     "output_type": "stream",
     "text": [
      "100%|██████████████████████████████████████████████████████████████████████| 459991/459991 [00:03<00:00, 139741.00it/s]\n"
     ]
    },
    {
     "name": "stdout",
     "output_type": "stream",
     "text": [
      "----- DTrain3.pkl Created -----\n"
     ]
    },
    {
     "name": "stderr",
     "output_type": "stream",
     "text": [
      "100%|██████████████████████████████████████████████████████████████████████| 224647/224647 [00:01<00:00, 150127.11it/s]\n"
     ]
    },
    {
     "name": "stdout",
     "output_type": "stream",
     "text": [
      "----- DCv.pkl Created -----\n"
     ]
    },
    {
     "name": "stderr",
     "output_type": "stream",
     "text": [
      "100%|██████████████████████████████████████████████████████████████████████| 283169/283169 [00:01<00:00, 150183.46it/s]\n"
     ]
    },
    {
     "name": "stdout",
     "output_type": "stream",
     "text": [
      "----- DTest.pkl Created -----\n"
     ]
    }
   ],
   "source": [
    "#Saving Training Data into 2 files as ram will not support both together\n",
    "n = math.floor(len(XTrain)/3)\n",
    "dfTrain = pd.DataFrame()\n",
    "dfTrain = SplitWords(list(XTrain[:n]),list(YTrain[:n]))\n",
    "dfTrain.to_pickle('PreProcessed\\DTrain1.pkl')\n",
    "print('-'*5,'DTrain1.pkl Created','-'*5)                    \n",
    "dfTrain = SplitWords(list(XTrain[n:n*2]),list(YTrain[n:n*2]))\n",
    "dfTrain.to_pickle('PreProcessed\\DTrain2.pkl')\n",
    "print('-'*5,'DTrain2.pkl Created','-'*5)\n",
    "dfTrain = SplitWords(list(XTrain[n*2:]),list(YTrain[n*2:]))\n",
    "dfTrain.to_pickle('PreProcessed\\DTrain3.pkl')\n",
    "print('-'*5,'DTrain3.pkl Created','-'*5)\n",
    "                     \n",
    "dfTrain = SplitWords(list(XCv),list(YCv))\n",
    "dfTrain.to_pickle('PreProcessed\\DCv.pkl')\n",
    "print('-'*5,'DCv.pkl Created','-'*5)\n",
    "                     \n",
    "dfTrain = SplitWords(list(XTest),list(YTest))\n",
    "dfTrain.to_pickle('PreProcessed\\DTest3.pkl')\n",
    "print('-'*5,'DTest.pkl Created','-'*5)"
   ]
  },
  {
   "cell_type": "code",
   "execution_count": 61,
   "id": "18c2f4c9",
   "metadata": {
    "scrolled": true
   },
   "outputs": [
    {
     "data": {
      "text/html": [
       "<div>\n",
       "<style scoped>\n",
       "    .dataframe tbody tr th:only-of-type {\n",
       "        vertical-align: middle;\n",
       "    }\n",
       "\n",
       "    .dataframe tbody tr th {\n",
       "        vertical-align: top;\n",
       "    }\n",
       "\n",
       "    .dataframe thead th {\n",
       "        text-align: right;\n",
       "    }\n",
       "</style>\n",
       "<table border=\"1\" class=\"dataframe\">\n",
       "  <thead>\n",
       "    <tr style=\"text-align: right;\">\n",
       "      <th></th>\n",
       "      <th>X</th>\n",
       "      <th>Y</th>\n",
       "    </tr>\n",
       "  </thead>\n",
       "  <tbody>\n",
       "    <tr>\n",
       "      <th>0</th>\n",
       "      <td>not unless you</td>\n",
       "      <td>count having two refrigerators to be a constit...</td>\n",
       "    </tr>\n",
       "    <tr>\n",
       "      <th>1</th>\n",
       "      <td>not unless you c</td>\n",
       "      <td>ount having two refrigerators to be a constitu...</td>\n",
       "    </tr>\n",
       "    <tr>\n",
       "      <th>2</th>\n",
       "      <td>not unless you co</td>\n",
       "      <td>unt having two refrigerators to be a constitut...</td>\n",
       "    </tr>\n",
       "    <tr>\n",
       "      <th>3</th>\n",
       "      <td>not unless you cou</td>\n",
       "      <td>nt having two refrigerators to be a constituti...</td>\n",
       "    </tr>\n",
       "    <tr>\n",
       "      <th>4</th>\n",
       "      <td>not unless you coun</td>\n",
       "      <td>t having two refrigerators to be a constitutio...</td>\n",
       "    </tr>\n",
       "    <tr>\n",
       "      <th>5</th>\n",
       "      <td>not unless you count</td>\n",
       "      <td>having two refrigerators to be a constitution...</td>\n",
       "    </tr>\n",
       "    <tr>\n",
       "      <th>6</th>\n",
       "      <td>not unless you count h</td>\n",
       "      <td>aving two refrigerators to be a constitutional...</td>\n",
       "    </tr>\n",
       "    <tr>\n",
       "      <th>7</th>\n",
       "      <td>not unless you count ha</td>\n",
       "      <td>ving two refrigerators to be a constitutionall...</td>\n",
       "    </tr>\n",
       "    <tr>\n",
       "      <th>8</th>\n",
       "      <td>not unless you count hav</td>\n",
       "      <td>ing two refrigerators to be a constitutionally...</td>\n",
       "    </tr>\n",
       "    <tr>\n",
       "      <th>9</th>\n",
       "      <td>not unless you count havi</td>\n",
       "      <td>ng two refrigerators to be a constitutionally ...</td>\n",
       "    </tr>\n",
       "  </tbody>\n",
       "</table>\n",
       "</div>"
      ],
      "text/plain": [
       "                           X  \\\n",
       "0            not unless you    \n",
       "1           not unless you c   \n",
       "2          not unless you co   \n",
       "3         not unless you cou   \n",
       "4        not unless you coun   \n",
       "5       not unless you count   \n",
       "6     not unless you count h   \n",
       "7    not unless you count ha   \n",
       "8   not unless you count hav   \n",
       "9  not unless you count havi   \n",
       "\n",
       "                                                   Y  \n",
       "0  count having two refrigerators to be a constit...  \n",
       "1  ount having two refrigerators to be a constitu...  \n",
       "2  unt having two refrigerators to be a constitut...  \n",
       "3  nt having two refrigerators to be a constituti...  \n",
       "4  t having two refrigerators to be a constitutio...  \n",
       "5   having two refrigerators to be a constitution...  \n",
       "6  aving two refrigerators to be a constitutional...  \n",
       "7  ving two refrigerators to be a constitutionall...  \n",
       "8  ing two refrigerators to be a constitutionally...  \n",
       "9  ng two refrigerators to be a constitutionally ...  "
      ]
     },
     "execution_count": 61,
     "metadata": {},
     "output_type": "execute_result"
    }
   ],
   "source": [
    "dfTrain.head(10)"
   ]
  },
  {
   "cell_type": "code",
   "execution_count": 62,
   "id": "48021a54",
   "metadata": {},
   "outputs": [],
   "source": [
    "NewDf.to_pickle('PreProcessed\\WordLevelData.pkl')"
   ]
  },
  {
   "cell_type": "code",
   "execution_count": 63,
   "id": "10ba9959",
   "metadata": {},
   "outputs": [],
   "source": [
    "DfTrain = pd.DataFrame()\n",
    "DfVal = pd.DataFrame()\n",
    "DfTest = pd.DataFrame()\n",
    "DfTrain['X'] = XTrain\n",
    "DfTrain['Y'] = YTrain\n",
    "DfVal['X'] = XCv\n",
    "DfVal['Y'] = YCv\n",
    "DfTest['X'] = XTest\n",
    "DfTest['Y'] = YTest"
   ]
  },
  {
   "cell_type": "code",
   "execution_count": 64,
   "id": "1c89472a",
   "metadata": {},
   "outputs": [],
   "source": [
    "DfTrain.to_pickle('PreProcessed\\WordLevelTrainingData.pkl')\n",
    "DfVal.to_pickle('PreProcessed\\WordLevelValidationData.pkl')\n",
    "DfTest.to_pickle('PreProcessed\\WordLevelTestingData.pkl')"
   ]
  },
  {
   "cell_type": "code",
   "execution_count": null,
   "id": "a839819e",
   "metadata": {},
   "outputs": [],
   "source": []
  }
 ],
 "metadata": {
  "kernelspec": {
   "display_name": "Python 3.9 (TensorFlow)",
   "language": "python",
   "name": "tenorflow"
  },
  "language_info": {
   "codemirror_mode": {
    "name": "ipython",
    "version": 3
   },
   "file_extension": ".py",
   "mimetype": "text/x-python",
   "name": "python",
   "nbconvert_exporter": "python",
   "pygments_lexer": "ipython3",
   "version": "3.9.7"
  }
 },
 "nbformat": 4,
 "nbformat_minor": 5
}
