{
 "cells": [
  {
   "cell_type": "markdown",
   "id": "8d436c62",
   "metadata": {},
   "source": [
    "### **Problem Statement Overview:**\n",
    "\n",
    "- This Project is based on the resarch paper \"https://arxiv.org/pdf/1906.00080.pdf\" with the same name \"Gmail Smart Compose: Real-Time Assisted Writing\".\n",
    "- This paper discuss, how we can assist Users with suggetions while writing email. Recommend them sentences, that they might want to write based on the words user already wrote.\n",
    "- Here's how Smart Compose works: As you type, the feature uses ML Algorithm to analyze the words and phrases you've already written and make suggestions for the next words or phrases you might want to use. Example, if you type \"please find \" Smart Compose might suggest \"the document given below.\" \n",
    "- This will save the Users time and help them compose emails more efficiently.\n",
    "- This will also help users to avoid repetative typing."
   ]
  },
  {
   "cell_type": "markdown",
   "id": "9fe7e391",
   "metadata": {},
   "source": [
    "### **Data Overview:** \n",
    "- The DataSet We'll be using to solve this problem is \"Enron Email Dataset\" which can be downloaded from https://www.cs.cmu.edu/~enron/.\n",
    "- You'll get .tar.gz file which is of size 422mb, after extracting you'll get .tar file and after extracting .tar file we get the folder which contains email data. Size of the Data folder after extraction will occupy 1.32Gb of your space.\n",
    "- This DataSet contains Email Conversations of about 150 users in text files, mostly senior management of Enron, organized into folders.\n",
    "- This dataset contains professional emails. So after training our model, next words recommended will be in professional languagey.\n"
   ]
  },
  {
   "cell_type": "markdown",
   "id": "83577670",
   "metadata": {},
   "source": [
    "### 1. Imorting Data"
   ]
  },
  {
   "cell_type": "markdown",
   "id": "74352c25",
   "metadata": {},
   "source": [
    "**EARLY OBSERVATIONS:**\n",
    "- Extracted Folder contsins Data of 150 Users\n",
    "- Folder od each user Contains 15+ subfolders which cantains different types of data\n"
   ]
  },
  {
   "cell_type": "code",
   "execution_count": 82,
   "id": "92311f96",
   "metadata": {},
   "outputs": [],
   "source": [
    "import os\n",
    "import email # to preprocess email faster \n",
    "from prettytable import PrettyTable\n",
    "from tqdm import tqdm\n",
    "import pandas as pd\n",
    "import os\n",
    "import numpy as np\n",
    "import matplotlib.pyplot as plt\n",
    "import seaborn as sns"
   ]
  },
  {
   "cell_type": "markdown",
   "id": "8c398d87",
   "metadata": {},
   "source": [
    "Data is stored into subfolders"
   ]
  },
  {
   "cell_type": "code",
   "execution_count": 2,
   "id": "681b3697",
   "metadata": {
    "scrolled": false
   },
   "outputs": [
    {
     "name": "stdout",
     "output_type": "stream",
     "text": [
      "****************************************\n",
      "Folder Names for the User allen-p\n",
      "****************************************\n",
      "all_documents\n",
      "contacts\n",
      "deleted_items\n",
      "discussion_threads\n",
      "inbox\n",
      "notes_inbox\n",
      "sent\n",
      "sent_items\n",
      "straw\n",
      "_sent_mail\n"
     ]
    }
   ],
   "source": [
    "path = os.getcwd()+'\\\\DATA\\maildir\\\\allen-p'\n",
    "print('*'*40)\n",
    "print('Folder Names for the User allen-p')\n",
    "print('*'*40)\n",
    "for fileName in os.listdir(path):\n",
    "    print(fileName)"
   ]
  },
  {
   "cell_type": "markdown",
   "id": "e3c9f4d5",
   "metadata": {},
   "source": [
    "- Like User 'allen-p', there are other 149 users. \n",
    "- Each with different Folder Names and different Folder Counts\n",
    "\n",
    "Check Below table for more information"
   ]
  },
  {
   "cell_type": "code",
   "execution_count": 8,
   "id": "e32b4baa",
   "metadata": {},
   "outputs": [
    {
     "name": "stdout",
     "output_type": "stream",
     "text": [
      "+-----------------+--------------+------------+\n",
      "|    User Name    | Folder Count | File Count |\n",
      "+-----------------+--------------+------------+\n",
      "|     allen-p     |      10      |    3034    |\n",
      "|     arnold-j    |      46      |    4898    |\n",
      "|     arora-h     |      11      |    582     |\n",
      "|     badeer-r    |      16      |    877     |\n",
      "|     bailey-s    |      5       |    478     |\n",
      "|      bass-e     |      14      |    7817    |\n",
      "|    baughman-d   |      15      |    1827    |\n",
      "|      beck-s     |     114      |   11642    |\n",
      "|     benson-r    |      9       |    752     |\n",
      "|     blair-l     |      68      |    3376    |\n",
      "|    brawner-s    |      13      |    1026    |\n",
      "|      buy-r      |      15      |    2429    |\n",
      "|    campbell-l   |      53      |    6490    |\n",
      "|     carson-m    |      12      |    1400    |\n",
      "|      cash-m     |      29      |    2927    |\n",
      "|   causholli-m   |      4       |    943     |\n",
      "|     corman-s    |      11      |    1340    |\n",
      "|    crandell-s   |      5       |    497     |\n",
      "|     cuilla-m    |      12      |    1018    |\n",
      "|    dasovich-j   |      63      |   28229    |\n",
      "|     davis-d     |      23      |    2121    |\n",
      "|      dean-c     |      11      |    2429    |\n",
      "|    delainey-d   |      8       |    3566    |\n",
      "|    derrick-j    |      12      |    1766    |\n",
      "|    dickson-s    |      3       |    395     |\n",
      "|     donoho-l    |      5       |    535     |\n",
      "|    donohoe-t    |      8       |    1015    |\n",
      "|    dorland-c    |      11      |    2127    |\n",
      "|     ermis-f     |      8       |    1230    |\n",
      "|     farmer-d    |      38      |   12926    |\n",
      "|    fischer-m    |      12      |    1498    |\n",
      "|     forney-j    |      5       |    729     |\n",
      "|     fossum-d    |      7       |    4796    |\n",
      "|      gang-l     |      4       |    590     |\n",
      "|      gay-r      |      9       |    1415    |\n",
      "|    geaccone-t   |      15      |    1587    |\n",
      "|    germany-c    |      35      |   11978    |\n",
      "|  gilbertsmith-d |      12      |    563     |\n",
      "|     giron-d     |      11      |    4220    |\n",
      "|    griffith-j   |      68      |    2833    |\n",
      "|    grigsby-m    |      9       |    2237    |\n",
      "|     guzman-m    |      4       |    6054    |\n",
      "|    haedicke-m   |      46      |    5243    |\n",
      "|      hain-m     |      5       |    3820    |\n",
      "|     harris-s    |      2       |    548     |\n",
      "|    hayslett-r   |      20      |    2303    |\n",
      "|     heard-m     |      6       |    1381    |\n",
      "|  hendrickson-s  |      9       |    719     |\n",
      "|   hernandez-j   |      14      |    3217    |\n",
      "|     hodge-j     |      10      |    1661    |\n",
      "|     holst-k     |      3       |    463     |\n",
      "|     horton-s    |      8       |    2383    |\n",
      "|     hyatt-k     |      14      |    1496    |\n",
      "|      hyvl-d     |      6       |    2460    |\n",
      "|     jones-t     |      10      |   19950    |\n",
      "|    kaminski-v   |      48      |   26680    |\n",
      "|      kean-s     |     187      |   16387    |\n",
      "|     keavey-p    |      10      |    2177    |\n",
      "|     keiser-k    |      5       |    1113    |\n",
      "|      king-j     |      12      |    459     |\n",
      "|    kitchen-l    |      8       |    1568    |\n",
      "|   kuykendall-t  |      9       |    1120    |\n",
      "|    lavorato-j   |      33      |    4685    |\n",
      "|      lay-k      |      15      |    5937    |\n",
      "|    lenhart-m    |      7       |    5920    |\n",
      "|     lewis-a     |      10      |    2191    |\n",
      "|     linder-e    |      4       |    2805    |\n",
      "|     lokay-m     |      21      |    5567    |\n",
      "|     lokey-t     |      7       |    1156    |\n",
      "|      love-p     |      21      |    5002    |\n",
      "|     lucci-p     |      5       |    997     |\n",
      "|     maggi-m     |      10      |    1991    |\n",
      "|      mann-k     |      34      |   23381    |\n",
      "|     martin-t    |      10      |    1112    |\n",
      "|      may-l      |      9       |    1600    |\n",
      "|    mccarty-d    |      6       |    588     |\n",
      "|   mcconnell-m   |      65      |    4454    |\n",
      "|     mckay-b     |      8       |    681     |\n",
      "|     mckay-j     |      18      |    994     |\n",
      "|   mclaughlin-e  |      18      |    3086    |\n",
      "|    merriss-s    |      4       |    1627    |\n",
      "|     meyers-a    |      3       |    1099    |\n",
      "| mims-thurston-p |      8       |    2038    |\n",
      "|     motley-m    |      3       |    216     |\n",
      "|      neal-s     |      21      |    3268    |\n",
      "|     nemec-g     |      12      |   10655    |\n",
      "|     panus-s     |      5       |    437     |\n",
      "|     parks-j     |      4       |    2284    |\n",
      "|    pereira-s    |      8       |    725     |\n",
      "|  perlingiere-d  |      11      |    4778    |\n",
      "|     phanis-s    |      4       |     35     |\n",
      "|    pimenov-v    |      8       |    642     |\n",
      "|    platter-p    |      6       |    574     |\n",
      "|     presto-k    |      10      |    2180    |\n",
      "|     quenet-j    |      8       |    395     |\n",
      "|    quigley-d    |      15      |    1458    |\n",
      "|      rapp-b     |      7       |    563     |\n",
      "|   reitmeyer-j   |      4       |    498     |\n",
      "|     richey-c    |      19      |    575     |\n",
      "|      ring-a     |      8       |    706     |\n",
      "|      ring-r     |      13      |    994     |\n",
      "|    rodrique-r   |      8       |    2766    |\n",
      "|     rogers-b    |      23      |    8009    |\n",
      "|    ruscitti-k   |      35      |    1643    |\n",
      "|     sager-e     |      13      |    5193    |\n",
      "|     saibi-e     |      8       |    1116    |\n",
      "|   salisbury-h   |      5       |    1632    |\n",
      "|    sanchez-m    |      7       |    241     |\n",
      "|    sanders-r    |      40      |    7271    |\n",
      "|    scholtes-d   |      21      |    434     |\n",
      "|  schoolcraft-d  |      12      |    1299    |\n",
      "|   schwieger-j   |      11      |    738     |\n",
      "|     scott-s     |      21      |    8022    |\n",
      "|   semperger-c   |      13      |    721     |\n",
      "|   shackleton-s  |     111      |   18687    |\n",
      "|    shankman-j   |      12      |    3840    |\n",
      "|    shapiro-r    |     110      |    6053    |\n",
      "|    shively-h    |      14      |    1989    |\n",
      "|    skilling-j   |      11      |    4130    |\n",
      "|    slinger-r    |      3       |    132     |\n",
      "|     smith-m     |      13      |    1642    |\n",
      "|    solberg-g    |      6       |    1081    |\n",
      "|     south-s     |      7       |    248     |\n",
      "|     staab-t     |      17      |    621     |\n",
      "|    stclair-c    |      14      |    3030    |\n",
      "|    steffes-j    |      54      |    3187    |\n",
      "|  stepenovitch-j |      5       |    1017    |\n",
      "|    stokley-c    |      1       |     8      |\n",
      "|     storey-g    |      19      |    1027    |\n",
      "|     sturm-f     |      14      |    1153    |\n",
      "|    swerzbin-m   |      5       |    355     |\n",
      "|     symes-k     |      20      |    9746    |\n",
      "|     taylor-m    |      33      |   12142    |\n",
      "|     tholt-j     |      9       |    1885    |\n",
      "|     thomas-p    |      6       |    1293    |\n",
      "|    townsend-j   |      9       |    646     |\n",
      "|    tycholiz-b   |      9       |    1219    |\n",
      "|      ward-k     |      48      |    2606    |\n",
      "|     watson-k    |      69      |    2950    |\n",
      "|     weldon-c    |      37      |    1553    |\n",
      "|    whalley-g    |      21      |    1779    |\n",
      "|    whalley-l    |      9       |    3335    |\n",
      "|     white-s     |      31      |    3267    |\n",
      "|     whitt-m     |      3       |    807     |\n",
      "|    williams-j   |      10      |    1187    |\n",
      "|   williams-w3   |      24      |    3440    |\n",
      "|     wolfe-j     |      19      |    1587    |\n",
      "|     ybarbo-p    |      20      |    1291    |\n",
      "|     zipper-a    |      26      |    1563    |\n",
      "|    zufferli-j   |      6       |    516     |\n",
      "+-----------------+--------------+------------+\n"
     ]
    }
   ],
   "source": [
    "path = os.getcwd()+'\\\\DATA\\maildir\\\\'\n",
    "NameOfUser,FolderCount,FileCount = [],[],[]\n",
    "foldCnt=0;fileCnt=0\n",
    "for UserName in os.listdir(path):\n",
    "    foldCnt = 0\n",
    "    fileCnt=0\n",
    "    NewPath = str(path)+'\\\\'+str(UserName)\n",
    "    for foldName in os.listdir(NewPath):\n",
    "        foldCnt += 1\n",
    "        NewPath2 = str(path)+str(UserName)+'\\\\'+str(foldName)\n",
    "        for fileName in os.listdir(NewPath2):\n",
    "            fileCnt+=1\n",
    "    NameOfUser.append(str(UserName))\n",
    "    FolderCount.append(foldCnt)\n",
    "    FileCount.append(fileCnt)\n",
    "\n",
    "UsersTable = PrettyTable([\"User Name\", \"Folder Count\", \"File Count\"])\n",
    "\n",
    "for i,j,k in zip(NameOfUser,FolderCount,FileCount):\n",
    "    UsersTable.add_row([i,j,k])\n",
    "    \n",
    "print(UsersTable)"
   ]
  },
  {
   "cell_type": "code",
   "execution_count": 5,
   "id": "b9eaf88b",
   "metadata": {
    "scrolled": false
   },
   "outputs": [
    {
     "name": "stdout",
     "output_type": "stream",
     "text": [
      "150\n",
      "2799\n",
      "491331\n",
      "1\n",
      "187\n",
      "8\n",
      "28229\n"
     ]
    }
   ],
   "source": [
    "print(len(NameOfUser))\n",
    "print(sum(FolderCount))\n",
    "print(sum(FileCount))\n",
    "print(min(FolderCount))\n",
    "print(max(FolderCount))\n",
    "print(min(FileCount))\n",
    "print(max(FileCount))"
   ]
  },
  {
   "cell_type": "markdown",
   "id": "8f924e2d",
   "metadata": {},
   "source": [
    "### **Observation:**\n",
    "\n",
    "From the above table,\n",
    "- Total Users : 150\n",
    "- Total Folders : 2799\n",
    "- Total Files/Emails : 491331\n",
    "- Minimum Number of Folders for any user is 1\n",
    "- Maximum Number of Folder for any user are 187 \n",
    "- Minimum Number of Email for any user are 8\n",
    "- Maximum Number of Email for any user are 28229"
   ]
  },
  {
   "cell_type": "markdown",
   "id": "826ce854",
   "metadata": {},
   "source": [
    "### **Getting Body of the email from each file and Saving it as CSV**"
   ]
  },
  {
   "cell_type": "code",
   "execution_count": 134,
   "id": "be01383c",
   "metadata": {},
   "outputs": [
    {
     "name": "stderr",
     "output_type": "stream",
     "text": [
      "3500it [34:43,  1.68it/s]\n"
     ]
    },
    {
     "ename": "TypeError",
     "evalue": "to_pickle() got an unexpected keyword argument 'index'",
     "output_type": "error",
     "traceback": [
      "\u001b[1;31m---------------------------------------------------------------------------\u001b[0m",
      "\u001b[1;31mTypeError\u001b[0m                                 Traceback (most recent call last)",
      "Cell \u001b[1;32mIn [134], line 16\u001b[0m\n\u001b[0;32m     13\u001b[0m             \u001b[38;5;28;01mpass\u001b[39;00m\n\u001b[0;32m     15\u001b[0m EmailData \u001b[38;5;241m=\u001b[39m pd\u001b[38;5;241m.\u001b[39mDataFrame({\u001b[38;5;124m'\u001b[39m\u001b[38;5;124mEmail\u001b[39m\u001b[38;5;124m'\u001b[39m:emailData})\n\u001b[1;32m---> 16\u001b[0m \u001b[43mEmailData\u001b[49m\u001b[38;5;241;43m.\u001b[39;49m\u001b[43mto_pickle\u001b[49m\u001b[43m(\u001b[49m\u001b[38;5;124;43m'\u001b[39;49m\u001b[38;5;124;43mEmailData.pkl\u001b[39;49m\u001b[38;5;124;43m'\u001b[39;49m\u001b[43m,\u001b[49m\u001b[43m \u001b[49m\u001b[43mindex\u001b[49m\u001b[38;5;241;43m=\u001b[39;49m\u001b[38;5;28;43;01mFalse\u001b[39;49;00m\u001b[43m)\u001b[49m\n",
      "\u001b[1;31mTypeError\u001b[0m: to_pickle() got an unexpected keyword argument 'index'"
     ]
    }
   ],
   "source": [
    "#Saving Emails in CSV File\n",
    "'''\n",
    "root = os.getcwd()+'\\\\DATA\\maildir\\\\'\n",
    "emailData = []\n",
    "for path, subdirs, files in tqdm(os.walk(root)):\n",
    "    for name in files:\n",
    "        finalPsth = os.path.join(path, name)\n",
    "        try:\n",
    "            with open(finalPsth,\"r\") as f:\n",
    "                file = f.read()\n",
    "            emailData.append(file)\n",
    "        except:\n",
    "            pass\n",
    "\n",
    "EmailData = pd.DataFrame({'Email':emailData})\n",
    "EmailData.to_pickle('EmailData.pkl')\n",
    "'''"
   ]
  },
  {
   "cell_type": "code",
   "execution_count": 137,
   "id": "f4d47dfb",
   "metadata": {
    "scrolled": true
   },
   "outputs": [
    {
     "data": {
      "text/html": [
       "<div>\n",
       "<style scoped>\n",
       "    .dataframe tbody tr th:only-of-type {\n",
       "        vertical-align: middle;\n",
       "    }\n",
       "\n",
       "    .dataframe tbody tr th {\n",
       "        vertical-align: top;\n",
       "    }\n",
       "\n",
       "    .dataframe thead th {\n",
       "        text-align: right;\n",
       "    }\n",
       "</style>\n",
       "<table border=\"1\" class=\"dataframe\">\n",
       "  <thead>\n",
       "    <tr style=\"text-align: right;\">\n",
       "      <th></th>\n",
       "      <th>Email</th>\n",
       "    </tr>\n",
       "  </thead>\n",
       "  <tbody>\n",
       "    <tr>\n",
       "      <th>0</th>\n",
       "      <td>Message-ID: &lt;7452188.1075855667684.JavaMail.ev...</td>\n",
       "    </tr>\n",
       "    <tr>\n",
       "      <th>1</th>\n",
       "      <td>Message-ID: &lt;23790115.1075855667708.JavaMail.e...</td>\n",
       "    </tr>\n",
       "    <tr>\n",
       "      <th>2</th>\n",
       "      <td>Message-ID: &lt;5860470.1075855667730.JavaMail.ev...</td>\n",
       "    </tr>\n",
       "    <tr>\n",
       "      <th>3</th>\n",
       "      <td>Message-ID: &lt;14670081.1075855667751.JavaMail.e...</td>\n",
       "    </tr>\n",
       "    <tr>\n",
       "      <th>4</th>\n",
       "      <td>Message-ID: &lt;2101427.1075855667773.JavaMail.ev...</td>\n",
       "    </tr>\n",
       "  </tbody>\n",
       "</table>\n",
       "</div>"
      ],
      "text/plain": [
       "                                               Email\n",
       "0  Message-ID: <7452188.1075855667684.JavaMail.ev...\n",
       "1  Message-ID: <23790115.1075855667708.JavaMail.e...\n",
       "2  Message-ID: <5860470.1075855667730.JavaMail.ev...\n",
       "3  Message-ID: <14670081.1075855667751.JavaMail.e...\n",
       "4  Message-ID: <2101427.1075855667773.JavaMail.ev..."
      ]
     },
     "execution_count": 137,
     "metadata": {},
     "output_type": "execute_result"
    }
   ],
   "source": [
    "EmailData = pd.read_pickle('EmailData.pkl')\n",
    "EmailData.head()"
   ]
  },
  {
   "cell_type": "code",
   "execution_count": 138,
   "id": "36a3aa41",
   "metadata": {},
   "outputs": [
    {
     "name": "stdout",
     "output_type": "stream",
     "text": [
      "Message-ID: <16687116.1075855668071.JavaMail.evans@thyme>\n",
      "Date: Tue, 26 Sep 2000 05:07:00 -0700 (PDT)\n",
      "From: phillip.allen@enron.com\n",
      "To: ina.rangel@enron.com\n",
      "Subject: Gas Physical/Financial Position\n",
      "Mime-Version: 1.0\n",
      "Content-Type: text/plain; charset=us-ascii\n",
      "Content-Transfer-Encoding: 7bit\n",
      "X-From: Phillip K Allen\n",
      "X-To: Ina Rangel\n",
      "X-cc: \n",
      "X-bcc: \n",
      "X-Folder: \\Phillip_Allen_Dec2000\\Notes Folders\\All documents\n",
      "X-Origin: Allen-P\n",
      "X-FileName: pallen.nsf\n",
      "\n",
      "---------------------- Forwarded by Phillip K Allen/HOU/ECT on 09/26/2000 \n",
      "12:07 PM ---------------------------\n",
      "   \n",
      "\t\n",
      "\t\n",
      "\tFrom:  Cindy Cicchetti                           09/26/2000 09:23 AM\n",
      "\t\n",
      "\n",
      "To: Phillip K Allen/HOU/ECT@ECT, Hunter S Shively/HOU/ECT@ECT, Scott \n",
      "Mills/HOU/ECT@ECT, Allan Severude/HOU/ECT@ECT, Russ Severson/HOU/ECT@ECT, \n",
      "Fletcher J Sturm/HOU/ECT@ECT, Scott Neal/HOU/ECT@ECT\n",
      "cc:  \n",
      "Subject: Gas Physical/Financial Position\n",
      "\n",
      "I have scheduled and entered on each of your calendars a meeting for the \n",
      "above referenced topic.  It will take place on Thursday, 9/28 from 3:00 - \n",
      "4:00 in Room EB2537.  \n",
      "\n"
     ]
    }
   ],
   "source": [
    "#Sample Mail: \n",
    "print(EmailData.iloc[18,0])"
   ]
  },
  {
   "cell_type": "markdown",
   "id": "99fe9c27",
   "metadata": {},
   "source": [
    "### Observations:\n",
    "- We can get the body of the Email Using email.message_from_string(file).get_payload()\n",
    "- Date seems like a good field for analysis.\n",
    "- As at different period of day, like in Morning you can have conversations about task of the day and in evening it would be about acheived goals in that day.\n",
    "- In different seasons, way of conversations might change. So we can extract more information using Date\n",
    "- Subject of the email can also help for suggetion So we can extract them"
   ]
  },
  {
   "cell_type": "code",
   "execution_count": 139,
   "id": "6e932a4c",
   "metadata": {},
   "outputs": [
    {
     "name": "stderr",
     "output_type": "stream",
     "text": [
      "100%|████████████████████████████████████████████████████████████████████████| 517394/517394 [03:49<00:00, 2252.61it/s]\n"
     ]
    }
   ],
   "source": [
    "EmailData['EmailText'] = ''\n",
    "EmailData['Date'] = ''\n",
    "EmailData['Subject'] = ''\n",
    "\n",
    "for ind,mail in enumerate(tqdm(EmailData['Email'].values)):\n",
    "    #Using get_payload we can extract body of the Email\n",
    "    EmailData['Date'].iloc[ind] = email.message_from_string(mail).get('Date')\n",
    "    EmailData['Subject'].iloc[ind] = email.message_from_string(mail).get('Subject')\n",
    "    "
   ]
  },
  {
   "cell_type": "code",
   "execution_count": 140,
   "id": "18b97119",
   "metadata": {},
   "outputs": [],
   "source": [
    "EmailData['EmailText'] = EmailData['Email']"
   ]
  },
  {
   "cell_type": "code",
   "execution_count": 141,
   "id": "3acd775f",
   "metadata": {
    "scrolled": true
   },
   "outputs": [
    {
     "data": {
      "text/html": [
       "<div>\n",
       "<style scoped>\n",
       "    .dataframe tbody tr th:only-of-type {\n",
       "        vertical-align: middle;\n",
       "    }\n",
       "\n",
       "    .dataframe tbody tr th {\n",
       "        vertical-align: top;\n",
       "    }\n",
       "\n",
       "    .dataframe thead th {\n",
       "        text-align: right;\n",
       "    }\n",
       "</style>\n",
       "<table border=\"1\" class=\"dataframe\">\n",
       "  <thead>\n",
       "    <tr style=\"text-align: right;\">\n",
       "      <th></th>\n",
       "      <th>EmailText</th>\n",
       "      <th>Date</th>\n",
       "      <th>Subject</th>\n",
       "    </tr>\n",
       "  </thead>\n",
       "  <tbody>\n",
       "    <tr>\n",
       "      <th>0</th>\n",
       "      <td>Message-ID: &lt;7452188.1075855667684.JavaMail.ev...</td>\n",
       "      <td>Mon, 9 Oct 2000 07:16:00 -0700 (PDT)</td>\n",
       "      <td>Consolidated positions: Issues &amp; To Do list</td>\n",
       "    </tr>\n",
       "    <tr>\n",
       "      <th>1</th>\n",
       "      <td>Message-ID: &lt;23790115.1075855667708.JavaMail.e...</td>\n",
       "      <td>Mon, 9 Oct 2000 07:00:00 -0700 (PDT)</td>\n",
       "      <td>Consolidated positions: Issues &amp; To Do list</td>\n",
       "    </tr>\n",
       "    <tr>\n",
       "      <th>2</th>\n",
       "      <td>Message-ID: &lt;5860470.1075855667730.JavaMail.ev...</td>\n",
       "      <td>Thu, 5 Oct 2000 06:26:00 -0700 (PDT)</td>\n",
       "      <td></td>\n",
       "    </tr>\n",
       "    <tr>\n",
       "      <th>3</th>\n",
       "      <td>Message-ID: &lt;14670081.1075855667751.JavaMail.e...</td>\n",
       "      <td>Thu, 5 Oct 2000 05:55:00 -0700 (PDT)</td>\n",
       "      <td>Re: 2001 Margin Plan</td>\n",
       "    </tr>\n",
       "    <tr>\n",
       "      <th>4</th>\n",
       "      <td>Message-ID: &lt;2101427.1075855667773.JavaMail.ev...</td>\n",
       "      <td>Wed, 4 Oct 2000 09:23:00 -0700 (PDT)</td>\n",
       "      <td>Var, Reporting and Resources Meeting</td>\n",
       "    </tr>\n",
       "  </tbody>\n",
       "</table>\n",
       "</div>"
      ],
      "text/plain": [
       "                                           EmailText  \\\n",
       "0  Message-ID: <7452188.1075855667684.JavaMail.ev...   \n",
       "1  Message-ID: <23790115.1075855667708.JavaMail.e...   \n",
       "2  Message-ID: <5860470.1075855667730.JavaMail.ev...   \n",
       "3  Message-ID: <14670081.1075855667751.JavaMail.e...   \n",
       "4  Message-ID: <2101427.1075855667773.JavaMail.ev...   \n",
       "\n",
       "                                   Date  \\\n",
       "0  Mon, 9 Oct 2000 07:16:00 -0700 (PDT)   \n",
       "1  Mon, 9 Oct 2000 07:00:00 -0700 (PDT)   \n",
       "2  Thu, 5 Oct 2000 06:26:00 -0700 (PDT)   \n",
       "3  Thu, 5 Oct 2000 05:55:00 -0700 (PDT)   \n",
       "4  Wed, 4 Oct 2000 09:23:00 -0700 (PDT)   \n",
       "\n",
       "                                       Subject  \n",
       "0  Consolidated positions: Issues & To Do list  \n",
       "1  Consolidated positions: Issues & To Do list  \n",
       "2                                               \n",
       "3                         Re: 2001 Margin Plan  \n",
       "4         Var, Reporting and Resources Meeting  "
      ]
     },
     "execution_count": 141,
     "metadata": {},
     "output_type": "execute_result"
    }
   ],
   "source": [
    "#now there is no need of EmailText column so deleting it\n",
    "del EmailData['Email']\n",
    "EmailData.head()"
   ]
  },
  {
   "cell_type": "markdown",
   "id": "efc61782",
   "metadata": {},
   "source": [
    "### Deleting Null Values"
   ]
  },
  {
   "cell_type": "code",
   "execution_count": 142,
   "id": "41796354",
   "metadata": {},
   "outputs": [
    {
     "data": {
      "text/plain": [
       "0"
      ]
     },
     "execution_count": 142,
     "metadata": {},
     "output_type": "execute_result"
    }
   ],
   "source": [
    "len(EmailData[EmailData['Date']==''])"
   ]
  },
  {
   "cell_type": "code",
   "execution_count": 143,
   "id": "96b3add5",
   "metadata": {
    "scrolled": true
   },
   "outputs": [],
   "source": [
    "#No Null Values for Date\n",
    "#Removing Null Subject Values From Dataset\n",
    "#As it would be Easier for analysis\n",
    "EmailData = EmailData[EmailData['Subject']!='']"
   ]
  },
  {
   "cell_type": "markdown",
   "id": "079ac531",
   "metadata": {},
   "source": [
    "### Lets create new columns for Day, Month,Date,Year and Hour of the day"
   ]
  },
  {
   "cell_type": "code",
   "execution_count": 144,
   "id": "359ab91c",
   "metadata": {},
   "outputs": [],
   "source": [
    "EmailData['Day'] = EmailData['Date'].str.split(',').str[0]\n",
    "EmailData['Month'] = EmailData['Date'].str.split().str[2]\n",
    "EmailData['DateNum'] = EmailData['Date'].str.split().str[1]\n",
    "EmailData['Year'] = EmailData['Date'].str.split().str[3]\n",
    "EmailData['Hour'] = EmailData['Date'].str.split().str[4].str[:2]"
   ]
  },
  {
   "cell_type": "code",
   "execution_count": 145,
   "id": "d27ed638",
   "metadata": {},
   "outputs": [],
   "source": [
    "#Changing DataType\n",
    "EmailData[\"Hour\"] = EmailData[\"Hour\"].astype(int)\n",
    "EmailData[\"Year\"] = EmailData[\"Year\"].astype(int)\n",
    "EmailData[\"DateNum\"] = EmailData[\"DateNum\"].astype(int)"
   ]
  },
  {
   "cell_type": "code",
   "execution_count": 146,
   "id": "6f5d7f3f",
   "metadata": {},
   "outputs": [
    {
     "data": {
      "text/html": [
       "<div>\n",
       "<style scoped>\n",
       "    .dataframe tbody tr th:only-of-type {\n",
       "        vertical-align: middle;\n",
       "    }\n",
       "\n",
       "    .dataframe tbody tr th {\n",
       "        vertical-align: top;\n",
       "    }\n",
       "\n",
       "    .dataframe thead th {\n",
       "        text-align: right;\n",
       "    }\n",
       "</style>\n",
       "<table border=\"1\" class=\"dataframe\">\n",
       "  <thead>\n",
       "    <tr style=\"text-align: right;\">\n",
       "      <th></th>\n",
       "      <th>EmailText</th>\n",
       "      <th>Subject</th>\n",
       "      <th>Day</th>\n",
       "      <th>Month</th>\n",
       "      <th>DateNum</th>\n",
       "      <th>Year</th>\n",
       "      <th>Hour</th>\n",
       "    </tr>\n",
       "  </thead>\n",
       "  <tbody>\n",
       "    <tr>\n",
       "      <th>0</th>\n",
       "      <td>Message-ID: &lt;7452188.1075855667684.JavaMail.ev...</td>\n",
       "      <td>Consolidated positions: Issues &amp; To Do list</td>\n",
       "      <td>Mon</td>\n",
       "      <td>Oct</td>\n",
       "      <td>9</td>\n",
       "      <td>2000</td>\n",
       "      <td>7</td>\n",
       "    </tr>\n",
       "    <tr>\n",
       "      <th>1</th>\n",
       "      <td>Message-ID: &lt;23790115.1075855667708.JavaMail.e...</td>\n",
       "      <td>Consolidated positions: Issues &amp; To Do list</td>\n",
       "      <td>Mon</td>\n",
       "      <td>Oct</td>\n",
       "      <td>9</td>\n",
       "      <td>2000</td>\n",
       "      <td>7</td>\n",
       "    </tr>\n",
       "    <tr>\n",
       "      <th>3</th>\n",
       "      <td>Message-ID: &lt;14670081.1075855667751.JavaMail.e...</td>\n",
       "      <td>Re: 2001 Margin Plan</td>\n",
       "      <td>Thu</td>\n",
       "      <td>Oct</td>\n",
       "      <td>5</td>\n",
       "      <td>2000</td>\n",
       "      <td>5</td>\n",
       "    </tr>\n",
       "    <tr>\n",
       "      <th>4</th>\n",
       "      <td>Message-ID: &lt;2101427.1075855667773.JavaMail.ev...</td>\n",
       "      <td>Var, Reporting and Resources Meeting</td>\n",
       "      <td>Wed</td>\n",
       "      <td>Oct</td>\n",
       "      <td>4</td>\n",
       "      <td>2000</td>\n",
       "      <td>9</td>\n",
       "    </tr>\n",
       "    <tr>\n",
       "      <th>5</th>\n",
       "      <td>Message-ID: &lt;19431120.1075855667795.JavaMail.e...</td>\n",
       "      <td>Westgate</td>\n",
       "      <td>Tue</td>\n",
       "      <td>Oct</td>\n",
       "      <td>3</td>\n",
       "      <td>2000</td>\n",
       "      <td>9</td>\n",
       "    </tr>\n",
       "  </tbody>\n",
       "</table>\n",
       "</div>"
      ],
      "text/plain": [
       "                                           EmailText  \\\n",
       "0  Message-ID: <7452188.1075855667684.JavaMail.ev...   \n",
       "1  Message-ID: <23790115.1075855667708.JavaMail.e...   \n",
       "3  Message-ID: <14670081.1075855667751.JavaMail.e...   \n",
       "4  Message-ID: <2101427.1075855667773.JavaMail.ev...   \n",
       "5  Message-ID: <19431120.1075855667795.JavaMail.e...   \n",
       "\n",
       "                                       Subject  Day Month  DateNum  Year  Hour  \n",
       "0  Consolidated positions: Issues & To Do list  Mon   Oct        9  2000     7  \n",
       "1  Consolidated positions: Issues & To Do list  Mon   Oct        9  2000     7  \n",
       "3                         Re: 2001 Margin Plan  Thu   Oct        5  2000     5  \n",
       "4         Var, Reporting and Resources Meeting  Wed   Oct        4  2000     9  \n",
       "5                                     Westgate  Tue   Oct        3  2000     9  "
      ]
     },
     "execution_count": 146,
     "metadata": {},
     "output_type": "execute_result"
    }
   ],
   "source": [
    "#Now we can delete date Column\n",
    "del EmailData['Date']\n",
    "EmailData.head()"
   ]
  },
  {
   "cell_type": "markdown",
   "id": "4aad6526",
   "metadata": {},
   "source": [
    "### 2. Exploratory Data Analysis"
   ]
  },
  {
   "cell_type": "code",
   "execution_count": 147,
   "id": "a8a86d23",
   "metadata": {
    "scrolled": true
   },
   "outputs": [
    {
     "data": {
      "text/plain": [
       "(498207, 7)"
      ]
     },
     "execution_count": 147,
     "metadata": {},
     "output_type": "execute_result"
    }
   ],
   "source": [
    "EmailData.shape"
   ]
  },
  {
   "cell_type": "markdown",
   "id": "329b7ace",
   "metadata": {},
   "source": [
    "**1. Hour**"
   ]
  },
  {
   "cell_type": "code",
   "execution_count": 148,
   "id": "90283503",
   "metadata": {
    "scrolled": true
   },
   "outputs": [
    {
     "data": {
      "text/plain": [
       "<AxesSubplot: xlabel='Hour', ylabel='count'>"
      ]
     },
     "execution_count": 148,
     "metadata": {},
     "output_type": "execute_result"
    },
    {
     "data": {
      "image/png": "[encoded data removed]",
      "text/plain": [
       "<Figure size 2000x700 with 1 Axes>"
      ]
     },
     "metadata": {},
     "output_type": "display_data"
    }
   ],
   "source": [
    "fig = plt.figure(figsize =(20, 7))\n",
    "sns.countplot(x=\"Hour\",data=EmailData)"
   ]
  },
  {
   "cell_type": "code",
   "execution_count": 149,
   "id": "f568e2b1",
   "metadata": {},
   "outputs": [],
   "source": [
    "#We can Put this data into Beans, for Easy Analysis\n",
    "bins = [0,4,10,16,21,23]\n",
    "label =['Night','Morning','AfterNoon','Evening','Night']\n",
    "EmailData[\"Hour_periods\"] = pd.cut(EmailData[\"Hour\"], bins,labels = label,ordered=False)"
   ]
  },
  {
   "cell_type": "code",
   "execution_count": 150,
   "id": "281c9319",
   "metadata": {
    "scrolled": true
   },
   "outputs": [
    {
     "data": {
      "text/plain": [
       "<AxesSubplot: >"
      ]
     },
     "execution_count": 150,
     "metadata": {},
     "output_type": "execute_result"
    },
    {
     "data": {
      "image/png": "[encoded data removed]",
      "text/plain": [
       "<Figure size 300x700 with 1 Axes>"
      ]
     },
     "metadata": {},
     "output_type": "display_data"
    }
   ],
   "source": [
    "def autopct(pct):\n",
    "  return ('%.2f' % pct)\n",
    "fig = plt.figure(figsize =(3,7))\n",
    "EmailData[\"Hour_periods\"].value_counts().plot(x=None, y=None, kind='pie',pctdistance=0.6,autopct=autopct,labeldistance=1.2,ylabel='') "
   ]
  },
  {
   "cell_type": "code",
   "execution_count": 151,
   "id": "cc7430d5",
   "metadata": {},
   "outputs": [
    {
     "data": {
      "text/plain": [
       "8.0"
      ]
     },
     "execution_count": 151,
     "metadata": {},
     "output_type": "execute_result"
    }
   ],
   "source": [
    "np.percentile(EmailData[\"Hour\"],50,axis=0)"
   ]
  },
  {
   "cell_type": "markdown",
   "id": "7e10ef9e",
   "metadata": {},
   "source": [
    "### Observations:\n",
    "- 25% of the total Emails which are more than 39000 mails, sent from 7 to 9 A.M. in the Morning.\n",
    "- Maximum Emails are sent at 8 AM\n",
    "- Least Emails are sent at 9 PM\n",
    "- More than 50% of the Emails are sent before 8 A.M.\n",
    "- Number of emails sent tend to decrease after 8 A.M.\n",
    "- 46% Emails are sent in Morning\n",
    "- Less than 5% Emails are sent in Evening"
   ]
  },
  {
   "cell_type": "markdown",
   "id": "59ea1032",
   "metadata": {},
   "source": [
    "**2. Year**"
   ]
  },
  {
   "cell_type": "code",
   "execution_count": 152,
   "id": "3ea7abfd",
   "metadata": {
    "scrolled": true
   },
   "outputs": [
    {
     "data": {
      "text/plain": [
       "<AxesSubplot: xlabel='Year', ylabel='count'>"
      ]
     },
     "execution_count": 152,
     "metadata": {},
     "output_type": "execute_result"
    },
    {
     "data": {
      "image/png": "[encoded data removed]",
      "text/plain": [
       "<Figure size 2000x700 with 1 Axes>"
      ]
     },
     "metadata": {},
     "output_type": "display_data"
    }
   ],
   "source": [
    "fig = plt.figure(figsize =(20, 7))\n",
    "sns.countplot(x=\"Year\",data=EmailData)"
   ]
  },
  {
   "cell_type": "code",
   "execution_count": 153,
   "id": "2b4dc930",
   "metadata": {},
   "outputs": [
    {
     "data": {
      "text/plain": [
       "<AxesSubplot: >"
      ]
     },
     "execution_count": 153,
     "metadata": {},
     "output_type": "execute_result"
    },
    {
     "data": {
      "image/png": "[encoded data removed]",
      "text/plain": [
       "<Figure size 300x700 with 1 Axes>"
      ]
     },
     "metadata": {},
     "output_type": "display_data"
    }
   ],
   "source": [
    "def autopct(pct):\n",
    "  return ('%.2f' % pct)\n",
    "fig = plt.figure(figsize =(3,7))\n",
    "EmailData[\"Year\"].value_counts().plot(x=None, y=None, kind='pie',pctdistance=0.6,autopct=autopct,labeldistance=1.2,ylabel='') "
   ]
  },
  {
   "cell_type": "markdown",
   "id": "8bbd8554",
   "metadata": {},
   "source": [
    "**OBSERVATION:**\n",
    "- This Data is collected mostly in the years 2000,2001 and 2002\n",
    "- Out of which, 53.08% of emails are sent in year 2001\n",
    "- This would Not be a good field as we have limited data, So deleting it"
   ]
  },
  {
   "cell_type": "code",
   "execution_count": 154,
   "id": "17448006",
   "metadata": {},
   "outputs": [],
   "source": [
    "#Deleting Year"
   ]
  },
  {
   "cell_type": "markdown",
   "id": "087fbe27",
   "metadata": {},
   "source": [
    "**3. Day**"
   ]
  },
  {
   "cell_type": "code",
   "execution_count": 155,
   "id": "a25f97ec",
   "metadata": {
    "scrolled": true
   },
   "outputs": [
    {
     "data": {
      "text/plain": [
       "<AxesSubplot: xlabel='Day', ylabel='count'>"
      ]
     },
     "execution_count": 155,
     "metadata": {},
     "output_type": "execute_result"
    },
    {
     "data": {
      "image/png": "[encoded data removed]",
      "text/plain": [
       "<Figure size 2000x700 with 1 Axes>"
      ]
     },
     "metadata": {},
     "output_type": "display_data"
    }
   ],
   "source": [
    "fig = plt.figure(figsize =(20, 7))\n",
    "sns.countplot(x=\"Day\",data=EmailData)"
   ]
  },
  {
   "cell_type": "code",
   "execution_count": 156,
   "id": "e77e6ac9",
   "metadata": {},
   "outputs": [
    {
     "data": {
      "text/plain": [
       "<AxesSubplot: >"
      ]
     },
     "execution_count": 156,
     "metadata": {},
     "output_type": "execute_result"
    },
    {
     "data": {
      "image/png": "[encoded data removed]",
      "text/plain": [
       "<Figure size 300x700 with 1 Axes>"
      ]
     },
     "metadata": {},
     "output_type": "display_data"
    }
   ],
   "source": [
    "def autopct(pct):\n",
    "  return ('%.2f' % pct)\n",
    "fig = plt.figure(figsize =(3,7))\n",
    "EmailData[\"Day\"].value_counts().plot(x=None, y=None, kind='pie',pctdistance=0.6,autopct=autopct,labeldistance=1.2,ylabel='') "
   ]
  },
  {
   "cell_type": "code",
   "execution_count": 157,
   "id": "df37309a",
   "metadata": {
    "scrolled": false
   },
   "outputs": [
    {
     "data": {
      "text/plain": [
       "<AxesSubplot: xlabel='Day', ylabel='count'>"
      ]
     },
     "execution_count": 157,
     "metadata": {},
     "output_type": "execute_result"
    },
    {
     "data": {
      "image/png": "[encoded data removed]",
      "text/plain": [
       "<Figure size 2000x700 with 1 Axes>"
      ]
     },
     "metadata": {},
     "output_type": "display_data"
    }
   ],
   "source": [
    "fig = plt.figure(figsize =(20, 7))\n",
    "sns.countplot(x=\"Day\",data=EmailData,hue='Hour')"
   ]
  },
  {
   "cell_type": "markdown",
   "id": "c5085db9",
   "metadata": {},
   "source": [
    "**OBSERVATIONS:**\n",
    "- Least Emails are sent on Saturdays and Sundays, Obviously as there are holidays on Saturday and sunday \n",
    "- Most Emails are sent on Tuesday followed by Wed, Mon, Thu and Friday\n",
    "- Interesting!! Most Emails are sent in Night on Sundays and Saturdays. "
   ]
  },
  {
   "cell_type": "markdown",
   "id": "6a468412",
   "metadata": {},
   "source": [
    "**4. Date**"
   ]
  },
  {
   "cell_type": "code",
   "execution_count": 158,
   "id": "19b0b99e",
   "metadata": {
    "scrolled": false
   },
   "outputs": [
    {
     "data": {
      "text/plain": [
       "<AxesSubplot: xlabel='DateNum', ylabel='count'>"
      ]
     },
     "execution_count": 158,
     "metadata": {},
     "output_type": "execute_result"
    },
    {
     "data": {
      "image/png": "[encoded data removed]",
      "text/plain": [
       "<Figure size 2000x700 with 1 Axes>"
      ]
     },
     "metadata": {},
     "output_type": "display_data"
    }
   ],
   "source": [
    "fig = plt.figure(figsize =(20, 7))\n",
    "sns.countplot(x=\"DateNum\",data=EmailData)"
   ]
  },
  {
   "cell_type": "markdown",
   "id": "3bbbe17d",
   "metadata": {},
   "source": [
    "**OBSERVATION:**\n",
    "- Most Emails are sent on the 26th of Each Month\n",
    "- Least Emails are sent on 3rd of Each month\n",
    "- Distribution of data for dates is Partially Flat. Cant Obtain more information from this.\n",
    "- We can drop this Feature"
   ]
  },
  {
   "cell_type": "markdown",
   "id": "72447aeb",
   "metadata": {},
   "source": [
    "**5. Month**"
   ]
  },
  {
   "cell_type": "code",
   "execution_count": 159,
   "id": "bc481862",
   "metadata": {
    "scrolled": true
   },
   "outputs": [
    {
     "data": {
      "text/plain": [
       "<AxesSubplot: xlabel='Month', ylabel='count'>"
      ]
     },
     "execution_count": 159,
     "metadata": {},
     "output_type": "execute_result"
    },
    {
     "data": {
      "image/png": "[encoded data removed]",
      "text/plain": [
       "<Figure size 2000x700 with 1 Axes>"
      ]
     },
     "metadata": {},
     "output_type": "display_data"
    }
   ],
   "source": [
    "fig = plt.figure(figsize =(20, 7))\n",
    "sns.countplot(x=\"Month\",data=EmailData)"
   ]
  },
  {
   "cell_type": "code",
   "execution_count": 160,
   "id": "7b39f038",
   "metadata": {
    "scrolled": false
   },
   "outputs": [
    {
     "data": {
      "text/plain": [
       "<AxesSubplot: xlabel='Month', ylabel='count'>"
      ]
     },
     "execution_count": 160,
     "metadata": {},
     "output_type": "execute_result"
    },
    {
     "data": {
      "image/png": "[encoded data removed]",
      "text/plain": [
       "<Figure size 2000x700 with 1 Axes>"
      ]
     },
     "metadata": {},
     "output_type": "display_data"
    }
   ],
   "source": [
    "fig = plt.figure(figsize =(20, 7))\n",
    "sns.countplot(x=\"Month\",data=EmailData,hue='Hour_periods')"
   ]
  },
  {
   "cell_type": "code",
   "execution_count": 161,
   "id": "c9340216",
   "metadata": {},
   "outputs": [
    {
     "data": {
      "text/plain": [
       "<AxesSubplot: xlabel='Month', ylabel='count'>"
      ]
     },
     "execution_count": 161,
     "metadata": {},
     "output_type": "execute_result"
    },
    {
     "data": {
      "image/png": "[encoded data removed]",
      "text/plain": [
       "<Figure size 2000x700 with 1 Axes>"
      ]
     },
     "metadata": {},
     "output_type": "display_data"
    }
   ],
   "source": [
    "fig = plt.figure(figsize =(20, 7))\n",
    "sns.countplot(x=\"Month\",data=EmailData,hue='Day')"
   ]
  },
  {
   "cell_type": "markdown",
   "id": "f7784e1d",
   "metadata": {},
   "source": [
    "**OBSERVATION:**\n",
    "- Least Emails are sent in July\n",
    "- Most Emails are sent in October and November\n",
    "- Interestingg!! In October and November Users sent more mails in Afternoon than in Night. For other months its Exactly opposite"
   ]
  },
  {
   "cell_type": "markdown",
   "id": "a965015e",
   "metadata": {},
   "source": [
    "EmailData.head("
   ]
  },
  {
   "cell_type": "code",
   "execution_count": 162,
   "id": "b96eb137",
   "metadata": {
    "scrolled": true
   },
   "outputs": [
    {
     "data": {
      "text/html": [
       "<div>\n",
       "<style scoped>\n",
       "    .dataframe tbody tr th:only-of-type {\n",
       "        vertical-align: middle;\n",
       "    }\n",
       "\n",
       "    .dataframe tbody tr th {\n",
       "        vertical-align: top;\n",
       "    }\n",
       "\n",
       "    .dataframe thead th {\n",
       "        text-align: right;\n",
       "    }\n",
       "</style>\n",
       "<table border=\"1\" class=\"dataframe\">\n",
       "  <thead>\n",
       "    <tr style=\"text-align: right;\">\n",
       "      <th></th>\n",
       "      <th>EmailText</th>\n",
       "      <th>Subject</th>\n",
       "      <th>Day</th>\n",
       "      <th>Month</th>\n",
       "      <th>DateNum</th>\n",
       "      <th>Year</th>\n",
       "      <th>Hour</th>\n",
       "      <th>Hour_periods</th>\n",
       "      <th>Seasons</th>\n",
       "    </tr>\n",
       "  </thead>\n",
       "  <tbody>\n",
       "    <tr>\n",
       "      <th>0</th>\n",
       "      <td>Message-ID: &lt;7452188.1075855667684.JavaMail.ev...</td>\n",
       "      <td>Consolidated positions: Issues &amp; To Do list</td>\n",
       "      <td>Mon</td>\n",
       "      <td>Oct</td>\n",
       "      <td>9</td>\n",
       "      <td>2000</td>\n",
       "      <td>7</td>\n",
       "      <td>Morning</td>\n",
       "      <td>Autumn</td>\n",
       "    </tr>\n",
       "    <tr>\n",
       "      <th>1</th>\n",
       "      <td>Message-ID: &lt;23790115.1075855667708.JavaMail.e...</td>\n",
       "      <td>Consolidated positions: Issues &amp; To Do list</td>\n",
       "      <td>Mon</td>\n",
       "      <td>Oct</td>\n",
       "      <td>9</td>\n",
       "      <td>2000</td>\n",
       "      <td>7</td>\n",
       "      <td>Morning</td>\n",
       "      <td>Autumn</td>\n",
       "    </tr>\n",
       "    <tr>\n",
       "      <th>3</th>\n",
       "      <td>Message-ID: &lt;14670081.1075855667751.JavaMail.e...</td>\n",
       "      <td>Re: 2001 Margin Plan</td>\n",
       "      <td>Thu</td>\n",
       "      <td>Oct</td>\n",
       "      <td>5</td>\n",
       "      <td>2000</td>\n",
       "      <td>5</td>\n",
       "      <td>Morning</td>\n",
       "      <td>Autumn</td>\n",
       "    </tr>\n",
       "    <tr>\n",
       "      <th>4</th>\n",
       "      <td>Message-ID: &lt;2101427.1075855667773.JavaMail.ev...</td>\n",
       "      <td>Var, Reporting and Resources Meeting</td>\n",
       "      <td>Wed</td>\n",
       "      <td>Oct</td>\n",
       "      <td>4</td>\n",
       "      <td>2000</td>\n",
       "      <td>9</td>\n",
       "      <td>Morning</td>\n",
       "      <td>Autumn</td>\n",
       "    </tr>\n",
       "    <tr>\n",
       "      <th>5</th>\n",
       "      <td>Message-ID: &lt;19431120.1075855667795.JavaMail.e...</td>\n",
       "      <td>Westgate</td>\n",
       "      <td>Tue</td>\n",
       "      <td>Oct</td>\n",
       "      <td>3</td>\n",
       "      <td>2000</td>\n",
       "      <td>9</td>\n",
       "      <td>Morning</td>\n",
       "      <td>Autumn</td>\n",
       "    </tr>\n",
       "  </tbody>\n",
       "</table>\n",
       "</div>"
      ],
      "text/plain": [
       "                                           EmailText  \\\n",
       "0  Message-ID: <7452188.1075855667684.JavaMail.ev...   \n",
       "1  Message-ID: <23790115.1075855667708.JavaMail.e...   \n",
       "3  Message-ID: <14670081.1075855667751.JavaMail.e...   \n",
       "4  Message-ID: <2101427.1075855667773.JavaMail.ev...   \n",
       "5  Message-ID: <19431120.1075855667795.JavaMail.e...   \n",
       "\n",
       "                                       Subject  Day Month  DateNum  Year  \\\n",
       "0  Consolidated positions: Issues & To Do list  Mon   Oct        9  2000   \n",
       "1  Consolidated positions: Issues & To Do list  Mon   Oct        9  2000   \n",
       "3                         Re: 2001 Margin Plan  Thu   Oct        5  2000   \n",
       "4         Var, Reporting and Resources Meeting  Wed   Oct        4  2000   \n",
       "5                                     Westgate  Tue   Oct        3  2000   \n",
       "\n",
       "   Hour Hour_periods Seasons  \n",
       "0     7      Morning  Autumn  \n",
       "1     7      Morning  Autumn  \n",
       "3     5      Morning  Autumn  \n",
       "4     9      Morning  Autumn  \n",
       "5     9      Morning  Autumn  "
      ]
     },
     "execution_count": 162,
     "metadata": {},
     "output_type": "execute_result"
    }
   ],
   "source": [
    "#Sesons in America \n",
    "Seasons = []\n",
    "for i in EmailData['Month']:\n",
    "    if i in ['Dec','Jan','Feb']:\n",
    "        Seasons.append('Winter')\n",
    "    elif i in ['Mar','Apr','May']:\n",
    "        Seasons.append('Spring')\n",
    "    elif i in ['Jun','Jul','Aug']:\n",
    "        Seasons.append('Summer')\n",
    "    elif i in ['Sep','Oct','Nov']:\n",
    "        Seasons.append('Autumn')\n",
    "        \n",
    "EmailData['Seasons'] = Seasons\n",
    "EmailData.head()"
   ]
  },
  {
   "cell_type": "code",
   "execution_count": 163,
   "id": "ebafff98",
   "metadata": {},
   "outputs": [
    {
     "data": {
      "text/plain": [
       "0"
      ]
     },
     "execution_count": 163,
     "metadata": {},
     "output_type": "execute_result"
    }
   ],
   "source": [
    "len(EmailData[EmailData['Seasons']==''])"
   ]
  },
  {
   "cell_type": "code",
   "execution_count": 164,
   "id": "1d9e6e6e",
   "metadata": {},
   "outputs": [],
   "source": [
    "#As discussed above, dropping unwanted columns\n",
    "EmailData.drop(['Hour','Year','DateNum','Month'], axis=1, inplace=True)"
   ]
  },
  {
   "cell_type": "code",
   "execution_count": 165,
   "id": "04384754",
   "metadata": {},
   "outputs": [
    {
     "data": {
      "text/html": [
       "<div>\n",
       "<style scoped>\n",
       "    .dataframe tbody tr th:only-of-type {\n",
       "        vertical-align: middle;\n",
       "    }\n",
       "\n",
       "    .dataframe tbody tr th {\n",
       "        vertical-align: top;\n",
       "    }\n",
       "\n",
       "    .dataframe thead th {\n",
       "        text-align: right;\n",
       "    }\n",
       "</style>\n",
       "<table border=\"1\" class=\"dataframe\">\n",
       "  <thead>\n",
       "    <tr style=\"text-align: right;\">\n",
       "      <th></th>\n",
       "      <th>EmailText</th>\n",
       "      <th>Subject</th>\n",
       "      <th>Day</th>\n",
       "      <th>Hour_periods</th>\n",
       "      <th>Seasons</th>\n",
       "    </tr>\n",
       "  </thead>\n",
       "  <tbody>\n",
       "    <tr>\n",
       "      <th>0</th>\n",
       "      <td>Message-ID: &lt;7452188.1075855667684.JavaMail.ev...</td>\n",
       "      <td>Consolidated positions: Issues &amp; To Do list</td>\n",
       "      <td>Mon</td>\n",
       "      <td>Morning</td>\n",
       "      <td>Autumn</td>\n",
       "    </tr>\n",
       "    <tr>\n",
       "      <th>1</th>\n",
       "      <td>Message-ID: &lt;23790115.1075855667708.JavaMail.e...</td>\n",
       "      <td>Consolidated positions: Issues &amp; To Do list</td>\n",
       "      <td>Mon</td>\n",
       "      <td>Morning</td>\n",
       "      <td>Autumn</td>\n",
       "    </tr>\n",
       "    <tr>\n",
       "      <th>3</th>\n",
       "      <td>Message-ID: &lt;14670081.1075855667751.JavaMail.e...</td>\n",
       "      <td>Re: 2001 Margin Plan</td>\n",
       "      <td>Thu</td>\n",
       "      <td>Morning</td>\n",
       "      <td>Autumn</td>\n",
       "    </tr>\n",
       "    <tr>\n",
       "      <th>4</th>\n",
       "      <td>Message-ID: &lt;2101427.1075855667773.JavaMail.ev...</td>\n",
       "      <td>Var, Reporting and Resources Meeting</td>\n",
       "      <td>Wed</td>\n",
       "      <td>Morning</td>\n",
       "      <td>Autumn</td>\n",
       "    </tr>\n",
       "    <tr>\n",
       "      <th>5</th>\n",
       "      <td>Message-ID: &lt;19431120.1075855667795.JavaMail.e...</td>\n",
       "      <td>Westgate</td>\n",
       "      <td>Tue</td>\n",
       "      <td>Morning</td>\n",
       "      <td>Autumn</td>\n",
       "    </tr>\n",
       "  </tbody>\n",
       "</table>\n",
       "</div>"
      ],
      "text/plain": [
       "                                           EmailText  \\\n",
       "0  Message-ID: <7452188.1075855667684.JavaMail.ev...   \n",
       "1  Message-ID: <23790115.1075855667708.JavaMail.e...   \n",
       "3  Message-ID: <14670081.1075855667751.JavaMail.e...   \n",
       "4  Message-ID: <2101427.1075855667773.JavaMail.ev...   \n",
       "5  Message-ID: <19431120.1075855667795.JavaMail.e...   \n",
       "\n",
       "                                       Subject  Day Hour_periods Seasons  \n",
       "0  Consolidated positions: Issues & To Do list  Mon      Morning  Autumn  \n",
       "1  Consolidated positions: Issues & To Do list  Mon      Morning  Autumn  \n",
       "3                         Re: 2001 Margin Plan  Thu      Morning  Autumn  \n",
       "4         Var, Reporting and Resources Meeting  Wed      Morning  Autumn  \n",
       "5                                     Westgate  Tue      Morning  Autumn  "
      ]
     },
     "execution_count": 165,
     "metadata": {},
     "output_type": "execute_result"
    }
   ],
   "source": [
    "EmailData.head()"
   ]
  },
  {
   "cell_type": "code",
   "execution_count": 166,
   "id": "59545ad1",
   "metadata": {},
   "outputs": [],
   "source": [
    "EmailData.to_pickle('EmailData_AfterEDA.pkl')"
   ]
  },
  {
   "cell_type": "code",
   "execution_count": null,
   "id": "4d9d0129",
   "metadata": {},
   "outputs": [],
   "source": []
  }
 ],
 "metadata": {
  "kernelspec": {
   "display_name": "Python 3.9 (TensorFlow)",
   "language": "python",
   "name": "tenorflow"
  },
  "language_info": {
   "codemirror_mode": {
    "name": "ipython",
    "version": 3
   },
   "file_extension": ".py",
   "mimetype": "text/x-python",
   "name": "python",
   "nbconvert_exporter": "python",
   "pygments_lexer": "ipython3",
   "version": "3.9.7"
  }
 },
 "nbformat": 4,
 "nbformat_minor": 5
}
