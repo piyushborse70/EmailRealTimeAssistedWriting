{
 "cells": [
  {
   "cell_type": "code",
   "execution_count": 1,
   "id": "90f35799",
   "metadata": {},
   "outputs": [],
   "source": [
    "from tensorflow.keras.utils import to_categorical\n",
    "from sklearn.preprocessing import LabelEncoder\n",
    "from sklearn.model_selection import train_test_split\n",
    "import pandas as pd\n",
    "import numpy as np\n",
    "import tensorflow as tf\n",
    "import datetime\n",
    "from tensorflow.keras.preprocessing.text import Tokenizer\n",
    "from keras_preprocessing.sequence import pad_sequences\n",
    "from numpy import asarray\n",
    "from tensorflow.keras.layers import Input,Embedding,GRU,MaxPooling2D,GlobalMaxPooling2D,Bidirectional\n",
    "from tensorflow.keras.layers import LSTM,Concatenate,MaxPool1D,Flatten,Dropout,Masking,Softmax,Dense,Embedding\n",
    "from tensorflow.keras import Model\n",
    "from tensorflow.keras.utils import to_categorical\n",
    "from tensorflow.keras.utils import plot_model\n",
    "from tensorflow.keras.callbacks import EarlyStopping,ModelCheckpoint,TerminateOnNaN,ReduceLROnPlateau,LearningRateScheduler\n",
    "from tensorflow.keras.models import Sequential\n",
    "#BPEmb is set of pretrained vectors like glove vectors\n",
    "from bpemb import BPEmb\n",
    "from tqdm import tqdm"
   ]
  },
  {
   "cell_type": "markdown",
   "id": "fb7a5c63",
   "metadata": {},
   "source": [
    "### Importing Data"
   ]
  },
  {
   "cell_type": "code",
   "execution_count": 2,
   "id": "20345fc3",
   "metadata": {},
   "outputs": [
    {
     "data": {
      "text/html": [
       "<div>\n",
       "<style scoped>\n",
       "    .dataframe tbody tr th:only-of-type {\n",
       "        vertical-align: middle;\n",
       "    }\n",
       "\n",
       "    .dataframe tbody tr th {\n",
       "        vertical-align: top;\n",
       "    }\n",
       "\n",
       "    .dataframe thead th {\n",
       "        text-align: right;\n",
       "    }\n",
       "</style>\n",
       "<table border=\"1\" class=\"dataframe\">\n",
       "  <thead>\n",
       "    <tr style=\"text-align: right;\">\n",
       "      <th></th>\n",
       "      <th>X</th>\n",
       "      <th>Y</th>\n",
       "    </tr>\n",
       "  </thead>\n",
       "  <tbody>\n",
       "    <tr>\n",
       "      <th>0</th>\n",
       "      <td>hey handsome fellas i am thinking about coming...</td>\n",
       "      <td>nipsco next week</td>\n",
       "    </tr>\n",
       "    <tr>\n",
       "      <th>1</th>\n",
       "      <td>we need the two gas</td>\n",
       "      <td>agreements to get it all nailed down</td>\n",
       "    </tr>\n",
       "    <tr>\n",
       "      <th>2</th>\n",
       "      <td>the generators say</td>\n",
       "      <td>their prices were fair based on market conditions</td>\n",
       "    </tr>\n",
       "    <tr>\n",
       "      <th>3</th>\n",
       "      <td>thanks again for all of</td>\n",
       "      <td>your advice</td>\n",
       "    </tr>\n",
       "    <tr>\n",
       "      <th>4</th>\n",
       "      <td>contracts that mention the pony express</td>\n",
       "      <td>extension</td>\n",
       "    </tr>\n",
       "  </tbody>\n",
       "</table>\n",
       "</div>"
      ],
      "text/plain": [
       "                                                   X  \\\n",
       "0  hey handsome fellas i am thinking about coming...   \n",
       "1                                we need the two gas   \n",
       "2                                 the generators say   \n",
       "3                            thanks again for all of   \n",
       "4            contracts that mention the pony express   \n",
       "\n",
       "                                                   Y  \n",
       "0                                   nipsco next week  \n",
       "1               agreements to get it all nailed down  \n",
       "2  their prices were fair based on market conditions  \n",
       "3                                        your advice  \n",
       "4                                          extension  "
      ]
     },
     "execution_count": 2,
     "metadata": {},
     "output_type": "execute_result"
    }
   ],
   "source": [
    "#Importing Dataset\n",
    "DfTrain = pd.read_pickle('PreProcessed\\WordLevelTrainingData.pkl')\n",
    "DfVal = pd.read_pickle('PreProcessed\\WordLevelValidationData.pkl')\n",
    "DfTest = pd.read_pickle('PreProcessed\\WordLevelTestingData.pkl')\n",
    "\n",
    "#Merging DataFrames for more Corpus\n",
    "AllData = pd.concat([DfTrain,DfVal,DfTest])\n",
    "AllData.head()"
   ]
  },
  {
   "cell_type": "code",
   "execution_count": 3,
   "id": "fb496d97",
   "metadata": {},
   "outputs": [
    {
     "data": {
      "text/plain": [
       "(1887787, 2)"
      ]
     },
     "execution_count": 3,
     "metadata": {},
     "output_type": "execute_result"
    }
   ],
   "source": [
    "AllData.shape"
   ]
  },
  {
   "cell_type": "markdown",
   "id": "37990174",
   "metadata": {},
   "source": [
    "### Checking Data"
   ]
  },
  {
   "cell_type": "code",
   "execution_count": 4,
   "id": "5da9fef7",
   "metadata": {},
   "outputs": [],
   "source": [
    "bpemb_en = BPEmb(lang=\"en\",vs=50000)"
   ]
  },
  {
   "cell_type": "code",
   "execution_count": 5,
   "id": "b63b4b21",
   "metadata": {},
   "outputs": [],
   "source": [
    "#As we discussed in the previous steps , we are only having words with more than 14 words\n",
    "#There for excluding other words. 1 and 2 indicates spaces there fore setting 16 as limit\n",
    "dataEncoding = bpemb_en.encode_ids_with_bos_eos(AllData['X'].values+' '+AllData['Y'].values)"
   ]
  },
  {
   "cell_type": "code",
   "execution_count": 6,
   "id": "d6c80b28",
   "metadata": {},
   "outputs": [
    {
     "data": {
      "text/plain": [
       "142703"
      ]
     },
     "execution_count": 6,
     "metadata": {},
     "output_type": "execute_result"
    }
   ],
   "source": [
    "lenBadWords = 0\n",
    "indexList = []\n",
    "for i,ele in enumerate(dataEncoding):\n",
    "    if len(ele) > 16:\n",
    "        lenBadWords += 1\n",
    "        indexList.append(i)\n",
    "lenBadWords"
   ]
  },
  {
   "cell_type": "code",
   "execution_count": 7,
   "id": "d5b3690d",
   "metadata": {},
   "outputs": [
    {
     "data": {
      "text/plain": [
       "(1646352, 2)"
      ]
     },
     "execution_count": 7,
     "metadata": {},
     "output_type": "execute_result"
    }
   ],
   "source": [
    "#Deleting bad Data\n",
    "AllData.drop(AllData.index[indexList],inplace=True)\n",
    "AllData.shape"
   ]
  },
  {
   "cell_type": "markdown",
   "id": "622122cc",
   "metadata": {},
   "source": [
    "### Splitting the Dataset"
   ]
  },
  {
   "cell_type": "code",
   "execution_count": 8,
   "id": "5c614193",
   "metadata": {},
   "outputs": [
    {
     "data": {
      "text/html": [
       "<div>\n",
       "<style scoped>\n",
       "    .dataframe tbody tr th:only-of-type {\n",
       "        vertical-align: middle;\n",
       "    }\n",
       "\n",
       "    .dataframe tbody tr th {\n",
       "        vertical-align: top;\n",
       "    }\n",
       "\n",
       "    .dataframe thead th {\n",
       "        text-align: right;\n",
       "    }\n",
       "</style>\n",
       "<table border=\"1\" class=\"dataframe\">\n",
       "  <thead>\n",
       "    <tr style=\"text-align: right;\">\n",
       "      <th></th>\n",
       "      <th>X</th>\n",
       "      <th>Y</th>\n",
       "      <th>Y_Dec</th>\n",
       "    </tr>\n",
       "  </thead>\n",
       "  <tbody>\n",
       "    <tr>\n",
       "      <th>1</th>\n",
       "      <td>we need the two gas</td>\n",
       "      <td>agreements to get it all nailed down</td>\n",
       "      <td>agreements to get it all nailed down</td>\n",
       "    </tr>\n",
       "    <tr>\n",
       "      <th>2</th>\n",
       "      <td>the generators say</td>\n",
       "      <td>their prices were fair based on market conditions</td>\n",
       "      <td>their prices were fair based on market conditions</td>\n",
       "    </tr>\n",
       "  </tbody>\n",
       "</table>\n",
       "</div>"
      ],
      "text/plain": [
       "                     X                                                  Y  \\\n",
       "1  we need the two gas               agreements to get it all nailed down   \n",
       "2   the generators say  their prices were fair based on market conditions   \n",
       "\n",
       "                                               Y_Dec  \n",
       "1               agreements to get it all nailed down  \n",
       "2  their prices were fair based on market conditions  "
      ]
     },
     "execution_count": 8,
     "metadata": {},
     "output_type": "execute_result"
    }
   ],
   "source": [
    "#Creating New Decoder Column as Y_Dec\n",
    "AllData['Y_Dec'] = AllData['Y'].copy()\n",
    "AllData.head(2)"
   ]
  },
  {
   "cell_type": "code",
   "execution_count": 9,
   "id": "07c4e83a",
   "metadata": {},
   "outputs": [],
   "source": [
    "encInput = np.array(AllData['X'])\n",
    "decInput = np.array(AllData['Y'])\n",
    "decOutput = np.array(AllData['Y_Dec'])"
   ]
  },
  {
   "cell_type": "code",
   "execution_count": 10,
   "id": "7ff02757",
   "metadata": {},
   "outputs": [],
   "source": [
    "encInpTrain, encInpTest, decInpTrain, decInpTest, decOutTrain, decOutTest = train_test_split(encInput, decInput,decOutput, test_size=0.3,random_state=42)"
   ]
  },
  {
   "cell_type": "code",
   "execution_count": 30,
   "id": "076ccd53",
   "metadata": {},
   "outputs": [],
   "source": [
    "encInpTrainText, encInpTestText, decInpTrainText, decInpTestText, decOutTrainText, decOutTestText = train_test_split(encInput, decInput,decOutput, test_size=0.3,random_state=42)"
   ]
  },
  {
   "cell_type": "code",
   "execution_count": 11,
   "id": "fd56c594",
   "metadata": {},
   "outputs": [
    {
     "name": "stdout",
     "output_type": "stream",
     "text": [
      "----- Training Data Length -----\n",
      "1152446      1152446      1152446\n",
      "\n",
      " ----- Testing Data Length -----\n",
      "493906      493906      493906\n"
     ]
    }
   ],
   "source": [
    "#Lengths\n",
    "print('-'*5,'Training Data Length','-'*5)\n",
    "print(len(encInpTrain),'    ',len(decInpTrain),'    ',len(decOutTrain))\n",
    "print('\\n','-'*5,'Testing Data Length','-'*5)\n",
    "print(len(encInpTest),'    ',len(decInpTest),'    ',len(decOutTest))"
   ]
  },
  {
   "cell_type": "markdown",
   "id": "016741e0",
   "metadata": {},
   "source": [
    "### Text Encoding"
   ]
  },
  {
   "cell_type": "code",
   "execution_count": 17,
   "id": "40ac9242",
   "metadata": {},
   "outputs": [],
   "source": [
    "#Freeing some space\n",
    "del AllData\n",
    "del DfTrain\n",
    "del DfVal\n",
    "del DfTest"
   ]
  },
  {
   "cell_type": "code",
   "execution_count": 12,
   "id": "4d94b7a0",
   "metadata": {},
   "outputs": [
    {
     "name": "stdout",
     "output_type": "stream",
     "text": [
      "----- Encoding Completed for Encoder input data -----\n",
      "----- Encoding Completed for Decoder input data -----\n",
      "----- Encoding Completed for Decoder output data -----\n",
      "Enco Done\n",
      "max length Encoder 15\n",
      "max length Decoder 13\n",
      "max  15\n",
      "----- Padding Completed for encoder data -----\n",
      "----- Encoding Completed for Decoder data -----\n"
     ]
    }
   ],
   "source": [
    "encInpTrain = bpemb_en.encode_ids_with_bos_eos(encInpTrain)\n",
    "encInpTest = bpemb_en.encode_ids_with_bos_eos(encInpTest)\n",
    "print('-'*5,'Encoding Completed for Encoder input data','-'*5)\n",
    "\n",
    "decInpTrain = bpemb_en.encode_ids_with_bos_eos(decInpTrain)\n",
    "decInpTest = bpemb_en.encode_ids_with_bos_eos(decInpTest)\n",
    "print('-'*5,'Encoding Completed for Decoder input data','-'*5)\n",
    "\n",
    "decOutTrain = bpemb_en.encode_ids_with_eos(decOutTrain)\n",
    "decOutTest = bpemb_en.encode_ids_with_eos(decOutTest)\n",
    "print('-'*5,'Encoding Completed for Decoder output data','-'*5)\n",
    "\n",
    "print('Enco Done')\n",
    "def max_length(t):\n",
    "    return max(len(i) for i in t)\n",
    "\n",
    "max_length_in = max_length(encInpTrain)\n",
    "max_length_out = max_length(decInpTrain)\n",
    "ultra_max = max(max_length_in,max_length_out)\n",
    "print('max length Encoder',max_length_in)\n",
    "print('max length Decoder',max_length_out)\n",
    "#Taking only 1 max value so we dont run into problem of same output in concat layer\n",
    "print('max ',ultra_max)\n",
    "\n",
    "encInpTrain = pad_sequences(encInpTrain, maxlen=ultra_max, padding=\"post\")\n",
    "decInpTrain = pad_sequences(decInpTrain, maxlen=ultra_max, padding=\"post\")\n",
    "decOutTrain = pad_sequences(decOutTrain, maxlen=ultra_max, padding=\"post\")\n",
    "print('-'*5,'Padding Completed for encoder data','-'*5)\n",
    "\n",
    "encInpTest = pad_sequences(encInpTest, maxlen=ultra_max, padding=\"post\")\n",
    "decInpTest = pad_sequences(decInpTest, maxlen=ultra_max, padding=\"post\")\n",
    "decOutTest = pad_sequences(decOutTest, maxlen=ultra_max, padding=\"post\")\n",
    "print('-'*5,'Encoding Completed for Decoder data','-'*5)\n"
   ]
  },
  {
   "cell_type": "markdown",
   "id": "76f4a957",
   "metadata": {},
   "source": [
    "### Training Model without Attention"
   ]
  },
  {
   "cell_type": "code",
   "execution_count": 93,
   "id": "9c5b9c4b",
   "metadata": {},
   "outputs": [],
   "source": [
    "inputEncoder = Input(shape = (ultra_max,))\n",
    "embedding_encoder = Embedding(bpemb_en.vectors.shape[0],100,embeddings_initializer = tf.keras.initializers.Constant(bpemb_en.vectors), input_length=ultra_max,trainable=False)\n",
    "gru_en = GRU(units = 64, return_sequences = True, return_state = True)\n",
    "gru_bi_encoder = Bidirectional(gru_en)\n",
    "\n",
    "#Decoder\n",
    "inputDecoder = Input(shape=(None,))\n",
    "embedding_decoder = Embedding(bpemb_en.vectors.shape[0],100,embeddings_initializer = tf.keras.initializers.Constant(bpemb_en.vectors), input_length=ultra_max,trainable=False)\n",
    "gru_de = GRU(units = 128, return_sequences = True, return_state = True)\n",
    "\n",
    "#create model flow\n",
    "#encoder flow\n",
    "input_en = inputEncoder\n",
    "embEnc = embedding_encoder(input_en)\n",
    "encoder_out, forward_state, backward_state = gru_bi_encoder(embEnc)\n",
    "state_h = tf.keras.layers.Concatenate()([forward_state, backward_state])\n",
    "\n",
    "#decoder flow\n",
    "input_de = inputDecoder\n",
    "embDec = embedding_decoder(input_de)\n",
    "decoder_out, _ = gru_de(embDec, initial_state=state_h)\n",
    "\n",
    "dropout = Dropout(0.3)(decoder_out)\n",
    "dense = tf.keras.layers.Dense(32, activation=\"relu\",kernel_initializer = tf.keras.initializers.HeNormal())(dropout)\n",
    "dropout = Dropout(0.3)(dense)\n",
    "\n",
    "decoderOutput = tf.keras.layers.Dense(bpemb_en.vectors.shape[0], activation=\"softmax\")(dropout)"
   ]
  },
  {
   "cell_type": "code",
   "execution_count": 94,
   "id": "b9eb653c",
   "metadata": {},
   "outputs": [],
   "source": [
    "filepath=\"model2_save/weights-{epoch:02d}-{val_perplexity:.4f}.hdf5\"\n",
    "checkpoint = ModelCheckpoint(filepath=filepath, monitor='val_perplexity', save_best_only=True, mode='min')\n",
    "\n",
    "earlystop = EarlyStopping(monitor='val_perplexity', patience=10,min_delta=0.001,mode='min')\n",
    "reduce_lr = tf.keras.callbacks.ReduceLROnPlateau(monitor='loss', factor=0.01, patience=3, min_lr=0.001)\n",
    "callbacks_list = [checkpoint,earlystop,reduce_lr]"
   ]
  },
  {
   "cell_type": "code",
   "execution_count": 13,
   "id": "19fcf43c",
   "metadata": {},
   "outputs": [],
   "source": [
    "def perplexity(y_true, y_pred):\n",
    "    '''\n",
    "    Returns Perplexity\n",
    "    '''\n",
    "    SparseCrossEnt = tf.keras.backend.sparse_categorical_crossentropy(y_true, y_pred)\n",
    "    return tf.keras.backend.exp(tf.keras.backend.mean(SparseCrossEnt))"
   ]
  },
  {
   "cell_type": "code",
   "execution_count": 96,
   "id": "cf19ddb1",
   "metadata": {},
   "outputs": [
    {
     "name": "stdout",
     "output_type": "stream",
     "text": [
      "Model: \"model\"\n",
      "__________________________________________________________________________________________________\n",
      " Layer (type)                   Output Shape         Param #     Connected to                     \n",
      "==================================================================================================\n",
      " input_1 (InputLayer)           [(None, 15)]         0           []                               \n",
      "                                                                                                  \n",
      " embedding (Embedding)          (None, 15, 100)      5000000     ['input_1[0][0]']                \n",
      "                                                                                                  \n",
      " input_2 (InputLayer)           [(None, None)]       0           []                               \n",
      "                                                                                                  \n",
      " bidirectional (Bidirectional)  [(None, 15, 128),    63744       ['embedding[0][0]']              \n",
      "                                 (None, 64),                                                      \n",
      "                                 (None, 64)]                                                      \n",
      "                                                                                                  \n",
      " embedding_1 (Embedding)        (None, None, 100)    5000000     ['input_2[0][0]']                \n",
      "                                                                                                  \n",
      " concatenate (Concatenate)      (None, 128)          0           ['bidirectional[0][1]',          \n",
      "                                                                  'bidirectional[0][2]']          \n",
      "                                                                                                  \n",
      " gru_1 (GRU)                    [(None, None, 128),  88320       ['embedding_1[0][0]',            \n",
      "                                 (None, 128)]                     'concatenate[0][0]']            \n",
      "                                                                                                  \n",
      " dropout (Dropout)              (None, None, 128)    0           ['gru_1[0][0]']                  \n",
      "                                                                                                  \n",
      " dense (Dense)                  (None, None, 32)     4128        ['dropout[0][0]']                \n",
      "                                                                                                  \n",
      " dropout_1 (Dropout)            (None, None, 32)     0           ['dense[0][0]']                  \n",
      "                                                                                                  \n",
      " dense_1 (Dense)                (None, None, 50000)  1650000     ['dropout_1[0][0]']              \n",
      "                                                                                                  \n",
      "==================================================================================================\n",
      "Total params: 11,806,192\n",
      "Trainable params: 1,806,192\n",
      "Non-trainable params: 10,000,000\n",
      "__________________________________________________________________________________________________\n"
     ]
    }
   ],
   "source": [
    "# Define the model that uses the Encoder and the Decoder\n",
    "model = Model([inputEncoder, inputDecoder], decoderOutput)\n",
    "\n",
    "model.compile(optimizer='adam', loss=\"sparse_categorical_crossentropy\", metrics=['accuracy',perplexity])\n",
    "model.summary()"
   ]
  },
  {
   "cell_type": "code",
   "execution_count": 97,
   "id": "27462d82",
   "metadata": {},
   "outputs": [
    {
     "name": "stdout",
     "output_type": "stream",
     "text": [
      "Epoch 1/50\n",
      "13171/13171 [==============================] - 1236s 91ms/step - loss: 2.0038 - accuracy: 0.7246 - perplexity: 55.5026 - val_loss: 1.7955 - val_accuracy: 0.7349 - val_perplexity: 6.0745 - lr: 0.0010\n",
      "Epoch 2/50\n",
      "13171/13171 [==============================] - 1113s 84ms/step - loss: 1.8481 - accuracy: 0.7320 - perplexity: 6.4090 - val_loss: 1.7498 - val_accuracy: 0.7376 - val_perplexity: 5.8022 - lr: 0.0010\n",
      "Epoch 3/50\n",
      "13171/13171 [==============================] - 1106s 84ms/step - loss: 1.8184 - accuracy: 0.7336 - perplexity: 6.2182 - val_loss: 1.7306 - val_accuracy: 0.7389 - val_perplexity: 5.6910 - lr: 0.0010\n",
      "Epoch 4/50\n",
      "13171/13171 [==============================] - 1106s 84ms/step - loss: 1.8033 - accuracy: 0.7345 - perplexity: 6.1244 - val_loss: 1.7199 - val_accuracy: 0.7395 - val_perplexity: 5.6304 - lr: 0.0010\n",
      "Epoch 5/50\n",
      "13171/13171 [==============================] - 1107s 84ms/step - loss: 1.7939 - accuracy: 0.7351 - perplexity: 6.0671 - val_loss: 1.7139 - val_accuracy: 0.7401 - val_perplexity: 5.5966 - lr: 0.0010\n",
      "Epoch 6/50\n",
      "13171/13171 [==============================] - 1105s 84ms/step - loss: 1.7875 - accuracy: 0.7355 - perplexity: 6.0282 - val_loss: 1.7092 - val_accuracy: 0.7404 - val_perplexity: 5.5698 - lr: 0.0010\n",
      "Epoch 7/50\n",
      "13171/13171 [==============================] - 1106s 84ms/step - loss: 1.7826 - accuracy: 0.7359 - perplexity: 5.9979 - val_loss: 1.7031 - val_accuracy: 0.7413 - val_perplexity: 5.5360 - lr: 0.0010\n",
      "Epoch 8/50\n",
      "13171/13171 [==============================] - 1101s 84ms/step - loss: 1.7791 - accuracy: 0.7361 - perplexity: 5.9773 - val_loss: 1.7044 - val_accuracy: 0.7409 - val_perplexity: 5.5428 - lr: 0.0010\n",
      "Epoch 9/50\n",
      "13171/13171 [==============================] - 1106s 84ms/step - loss: 1.7758 - accuracy: 0.7363 - perplexity: 5.9570 - val_loss: 1.6971 - val_accuracy: 0.7415 - val_perplexity: 5.5025 - lr: 0.0010\n",
      "Epoch 10/50\n",
      "13171/13171 [==============================] - 1108s 84ms/step - loss: 1.7741 - accuracy: 0.7365 - perplexity: 5.9473 - val_loss: 1.6938 - val_accuracy: 0.7416 - val_perplexity: 5.4843 - lr: 0.0010\n",
      "Epoch 11/50\n",
      "13171/13171 [==============================] - 1102s 84ms/step - loss: 1.7714 - accuracy: 0.7366 - perplexity: 5.9307 - val_loss: 1.6943 - val_accuracy: 0.7417 - val_perplexity: 5.4872 - lr: 0.0010\n",
      "Epoch 12/50\n",
      "13171/13171 [==============================] - 1109s 84ms/step - loss: 1.7701 - accuracy: 0.7367 - perplexity: 5.9236 - val_loss: 1.6869 - val_accuracy: 0.7426 - val_perplexity: 5.4468 - lr: 0.0010\n",
      "Epoch 13/50\n",
      "13171/13171 [==============================] - 1104s 84ms/step - loss: 1.7686 - accuracy: 0.7369 - perplexity: 5.9150 - val_loss: 1.6912 - val_accuracy: 0.7421 - val_perplexity: 5.4698 - lr: 0.0010\n",
      "Epoch 14/50\n",
      "13171/13171 [==============================] - 1102s 84ms/step - loss: 1.7676 - accuracy: 0.7369 - perplexity: 5.9080 - val_loss: 1.6870 - val_accuracy: 0.7422 - val_perplexity: 5.4471 - lr: 0.0010\n",
      "Epoch 15/50\n",
      "13171/13171 [==============================] - 1110s 84ms/step - loss: 1.7664 - accuracy: 0.7370 - perplexity: 5.9022 - val_loss: 1.6843 - val_accuracy: 0.7425 - val_perplexity: 5.4328 - lr: 0.0010\n",
      "Epoch 16/50\n",
      "13171/13171 [==============================] - 1110s 84ms/step - loss: 1.7655 - accuracy: 0.7371 - perplexity: 5.8955 - val_loss: 1.6830 - val_accuracy: 0.7429 - val_perplexity: 5.4249 - lr: 0.0010\n",
      "Epoch 17/50\n",
      "13171/13171 [==============================] - 1111s 84ms/step - loss: 1.7646 - accuracy: 0.7371 - perplexity: 5.8910 - val_loss: 1.6823 - val_accuracy: 0.7426 - val_perplexity: 5.4217 - lr: 0.0010\n",
      "Epoch 18/50\n",
      "13171/13171 [==============================] - 1112s 84ms/step - loss: 1.7638 - accuracy: 0.7372 - perplexity: 5.8866 - val_loss: 1.6785 - val_accuracy: 0.7432 - val_perplexity: 5.4007 - lr: 0.0010\n",
      "Epoch 19/50\n",
      "13171/13171 [==============================] - 1107s 84ms/step - loss: 1.7628 - accuracy: 0.7373 - perplexity: 5.8811 - val_loss: 1.6808 - val_accuracy: 0.7428 - val_perplexity: 5.4134 - lr: 0.0010\n",
      "Epoch 20/50\n",
      "13171/13171 [==============================] - 1105s 84ms/step - loss: 1.7622 - accuracy: 0.7373 - perplexity: 5.8761 - val_loss: 1.6820 - val_accuracy: 0.7428 - val_perplexity: 5.4199 - lr: 0.0010\n",
      "Epoch 21/50\n",
      "13171/13171 [==============================] - 1105s 84ms/step - loss: 1.7618 - accuracy: 0.7374 - perplexity: 5.8749 - val_loss: 1.6807 - val_accuracy: 0.7430 - val_perplexity: 5.4127 - lr: 0.0010\n",
      "Epoch 22/50\n",
      "13171/13171 [==============================] - 1106s 84ms/step - loss: 1.7612 - accuracy: 0.7374 - perplexity: 5.8716 - val_loss: 1.6800 - val_accuracy: 0.7425 - val_perplexity: 5.4093 - lr: 0.0010\n",
      "Epoch 23/50\n",
      "13171/13171 [==============================] - 1142s 87ms/step - loss: 1.7605 - accuracy: 0.7375 - perplexity: 5.8676 - val_loss: 1.6787 - val_accuracy: 0.7429 - val_perplexity: 5.4022 - lr: 0.0010\n",
      "Epoch 24/50\n",
      "13171/13171 [==============================] - 1136s 86ms/step - loss: 1.7601 - accuracy: 0.7375 - perplexity: 5.8644 - val_loss: 1.6773 - val_accuracy: 0.7432 - val_perplexity: 5.3944 - lr: 0.0010\n",
      "Epoch 25/50\n",
      "13171/13171 [==============================] - ETA: 0s - loss: 1.7600 - accuracy: 0.7375 - perplexity: 5.8625"
     ]
    },
    {
     "ename": "RuntimeError",
     "evalue": "Can't decrement id ref count (memory allocation failed for on disk image buffer)",
     "output_type": "error",
     "traceback": [
      "\u001b[1;31m---------------------------------------------------------------------------\u001b[0m",
      "\u001b[1;31mRuntimeError\u001b[0m                              Traceback (most recent call last)",
      "Cell \u001b[1;32mIn [97], line 1\u001b[0m\n\u001b[1;32m----> 1\u001b[0m History \u001b[38;5;241m=\u001b[39m \u001b[43mmodel\u001b[49m\u001b[38;5;241;43m.\u001b[39;49m\u001b[43mfit\u001b[49m\u001b[43m(\u001b[49m\u001b[43m[\u001b[49m\u001b[43mencInpTrain\u001b[49m\u001b[43m,\u001b[49m\u001b[43m \u001b[49m\u001b[43mdecInpTrain\u001b[49m\u001b[43m]\u001b[49m\u001b[43m,\u001b[49m\u001b[43m \u001b[49m\u001b[43mdecOutTrain\u001b[49m\u001b[43m,\u001b[49m\u001b[43mbatch_size\u001b[49m\u001b[38;5;241;43m=\u001b[39;49m\u001b[38;5;241;43m70\u001b[39;49m\u001b[43m,\u001b[49m\u001b[43mepochs\u001b[49m\u001b[38;5;241;43m=\u001b[39;49m\u001b[38;5;241;43m50\u001b[39;49m\u001b[43m,\u001b[49m\u001b[43mvalidation_split\u001b[49m\u001b[38;5;241;43m=\u001b[39;49m\u001b[38;5;241;43m0.2\u001b[39;49m\u001b[43m,\u001b[49m\u001b[43mcallbacks\u001b[49m\u001b[43m \u001b[49m\u001b[38;5;241;43m=\u001b[39;49m\u001b[43m \u001b[49m\u001b[43mcallbacks_list\u001b[49m\u001b[43m)\u001b[49m\n",
      "File \u001b[1;32m~\\anaconda3\\envs\\tensorflow\\lib\\site-packages\\keras\\utils\\traceback_utils.py:70\u001b[0m, in \u001b[0;36mfilter_traceback.<locals>.error_handler\u001b[1;34m(*args, **kwargs)\u001b[0m\n\u001b[0;32m     67\u001b[0m     filtered_tb \u001b[38;5;241m=\u001b[39m _process_traceback_frames(e\u001b[38;5;241m.\u001b[39m__traceback__)\n\u001b[0;32m     68\u001b[0m     \u001b[38;5;66;03m# To get the full stack trace, call:\u001b[39;00m\n\u001b[0;32m     69\u001b[0m     \u001b[38;5;66;03m# `tf.debugging.disable_traceback_filtering()`\u001b[39;00m\n\u001b[1;32m---> 70\u001b[0m     \u001b[38;5;28;01mraise\u001b[39;00m e\u001b[38;5;241m.\u001b[39mwith_traceback(filtered_tb) \u001b[38;5;28;01mfrom\u001b[39;00m \u001b[38;5;28mNone\u001b[39m\n\u001b[0;32m     71\u001b[0m \u001b[38;5;28;01mfinally\u001b[39;00m:\n\u001b[0;32m     72\u001b[0m     \u001b[38;5;28;01mdel\u001b[39;00m filtered_tb\n",
      "File \u001b[1;32m~\\anaconda3\\envs\\tensorflow\\lib\\site-packages\\h5py\\_hl\\files.py:552\u001b[0m, in \u001b[0;36mFile.close\u001b[1;34m(self)\u001b[0m\n\u001b[0;32m    546\u001b[0m \u001b[38;5;28;01mif\u001b[39;00m \u001b[38;5;28mself\u001b[39m\u001b[38;5;241m.\u001b[39mid\u001b[38;5;241m.\u001b[39mvalid:\n\u001b[0;32m    547\u001b[0m     \u001b[38;5;66;03m# We have to explicitly murder all open objects related to the file\u001b[39;00m\n\u001b[0;32m    548\u001b[0m \n\u001b[0;32m    549\u001b[0m     \u001b[38;5;66;03m# Close file-resident objects first, then the files.\u001b[39;00m\n\u001b[0;32m    550\u001b[0m     \u001b[38;5;66;03m# Otherwise we get errors in MPI mode.\u001b[39;00m\n\u001b[0;32m    551\u001b[0m     \u001b[38;5;28mself\u001b[39m\u001b[38;5;241m.\u001b[39mid\u001b[38;5;241m.\u001b[39m_close_open_objects(h5f\u001b[38;5;241m.\u001b[39mOBJ_LOCAL \u001b[38;5;241m|\u001b[39m \u001b[38;5;241m~\u001b[39mh5f\u001b[38;5;241m.\u001b[39mOBJ_FILE)\n\u001b[1;32m--> 552\u001b[0m     \u001b[38;5;28mself\u001b[39m\u001b[38;5;241m.\u001b[39mid\u001b[38;5;241m.\u001b[39m_close_open_objects(h5f\u001b[38;5;241m.\u001b[39mOBJ_LOCAL \u001b[38;5;241m|\u001b[39m h5f\u001b[38;5;241m.\u001b[39mOBJ_FILE)\n\u001b[0;32m    554\u001b[0m     \u001b[38;5;28mself\u001b[39m\u001b[38;5;241m.\u001b[39mid\u001b[38;5;241m.\u001b[39mclose()\n\u001b[0;32m    555\u001b[0m     _objects\u001b[38;5;241m.\u001b[39mnonlocal_close()\n",
      "File \u001b[1;32mh5py\\_objects.pyx:54\u001b[0m, in \u001b[0;36mh5py._objects.with_phil.wrapper\u001b[1;34m()\u001b[0m\n",
      "File \u001b[1;32mh5py\\_objects.pyx:55\u001b[0m, in \u001b[0;36mh5py._objects.with_phil.wrapper\u001b[1;34m()\u001b[0m\n",
      "File \u001b[1;32mh5py\\h5f.pyx:360\u001b[0m, in \u001b[0;36mh5py.h5f.FileID._close_open_objects\u001b[1;34m()\u001b[0m\n",
      "\u001b[1;31mRuntimeError\u001b[0m: Can't decrement id ref count (memory allocation failed for on disk image buffer)"
     ]
    }
   ],
   "source": [
    "History = model.fit([encInpTrain, decInpTrain], decOutTrain,batch_size=70,epochs=50,validation_split=0.2,callbacks = callbacks_list)"
   ]
  },
  {
   "cell_type": "code",
   "execution_count": 106,
   "id": "03adad25",
   "metadata": {},
   "outputs": [],
   "source": [
    "TXXT ='''loss: 2.0038 - accuracy: 0.7246 - perplexity: 55.5026 - val_loss: 1.7955 - val_accuracy: 0.7349 - val_perplexity: 6.0745 - lr: 0.0010###\n",
    "loss: 1.8481 - accuracy: 0.7320 - perplexity: 6.4090 - val_loss: 1.7498 - val_accuracy: 0.7376 - val_perplexity: 5.8022 - lr: 0.0010###\n",
    "loss: 1.8184 - accuracy: 0.7336 - perplexity: 6.2182 - val_loss: 1.7306 - val_accuracy: 0.7389 - val_perplexity: 5.6910 - lr: 0.0010###\n",
    "loss: 1.8033 - accuracy: 0.7345 - perplexity: 6.1244 - val_loss: 1.7199 - val_accuracy: 0.7395 - val_perplexity: 5.6304 - lr: 0.0010###\n",
    "loss: 1.7939 - accuracy: 0.7351 - perplexity: 6.0671 - val_loss: 1.7139 - val_accuracy: 0.7401 - val_perplexity: 5.5966 - lr: 0.0010###\n",
    "loss: 1.7875 - accuracy: 0.7355 - perplexity: 6.0282 - val_loss: 1.7092 - val_accuracy: 0.7404 - val_perplexity: 5.5698 - lr: 0.0010###\n",
    "loss: 1.7826 - accuracy: 0.7359 - perplexity: 5.9979 - val_loss: 1.7031 - val_accuracy: 0.7413 - val_perplexity: 5.5360 - lr: 0.0010###\n",
    "loss: 1.7791 - accuracy: 0.7361 - perplexity: 5.9773 - val_loss: 1.7044 - val_accuracy: 0.7409 - val_perplexity: 5.5428 - lr: 0.0010###\n",
    "loss: 1.7758 - accuracy: 0.7363 - perplexity: 5.9570 - val_loss: 1.6971 - val_accuracy: 0.7415 - val_perplexity: 5.5025 - lr: 0.0010###\n",
    "loss: 1.7741 - accuracy: 0.7365 - perplexity: 5.9473 - val_loss: 1.6938 - val_accuracy: 0.7416 - val_perplexity: 5.4843 - lr: 0.0010###\n",
    "loss: 1.7714 - accuracy: 0.7366 - perplexity: 5.9307 - val_loss: 1.6943 - val_accuracy: 0.7417 - val_perplexity: 5.4872 - lr: 0.0010###\n",
    "loss: 1.7701 - accuracy: 0.7367 - perplexity: 5.9236 - val_loss: 1.6869 - val_accuracy: 0.7426 - val_perplexity: 5.4468 - lr: 0.0010###\n",
    "loss: 1.7686 - accuracy: 0.7369 - perplexity: 5.9150 - val_loss: 1.6912 - val_accuracy: 0.7421 - val_perplexity: 5.4698 - lr: 0.0010###\n",
    "loss: 1.7676 - accuracy: 0.7369 - perplexity: 5.9080 - val_loss: 1.6870 - val_accuracy: 0.7422 - val_perplexity: 5.4471 - lr: 0.0010###\n",
    "loss: 1.7664 - accuracy: 0.7370 - perplexity: 5.9022 - val_loss: 1.6843 - val_accuracy: 0.7425 - val_perplexity: 5.4328 - lr: 0.0010###\n",
    "loss: 1.7655 - accuracy: 0.7371 - perplexity: 5.8955 - val_loss: 1.6830 - val_accuracy: 0.7429 - val_perplexity: 5.4249 - lr: 0.0010###\n",
    "loss: 1.7646 - accuracy: 0.7371 - perplexity: 5.8910 - val_loss: 1.6823 - val_accuracy: 0.7426 - val_perplexity: 5.4217 - lr: 0.0010###\n",
    "loss: 1.7638 - accuracy: 0.7372 - perplexity: 5.8866 - val_loss: 1.6785 - val_accuracy: 0.7432 - val_perplexity: 5.4007 - lr: 0.0010###\n",
    "loss: 1.7628 - accuracy: 0.7373 - perplexity: 5.8811 - val_loss: 1.6808 - val_accuracy: 0.7428 - val_perplexity: 5.4134 - lr: 0.0010###\n",
    "loss: 1.7622 - accuracy: 0.7373 - perplexity: 5.8761 - val_loss: 1.6820 - val_accuracy: 0.7428 - val_perplexity: 5.4199 - lr: 0.0010###\n",
    "loss: 1.7618 - accuracy: 0.7374 - perplexity: 5.8749 - val_loss: 1.6807 - val_accuracy: 0.7430 - val_perplexity: 5.4127 - lr: 0.0010###\n",
    "loss: 1.7612 - accuracy: 0.7374 - perplexity: 5.8716 - val_loss: 1.6800 - val_accuracy: 0.7425 - val_perplexity: 5.4093 - lr: 0.0010###\n",
    "loss: 1.7605 - accuracy: 0.7375 - perplexity: 5.8676 - val_loss: 1.6787 - val_accuracy: 0.7429 - val_perplexity: 5.4022 - lr: 0.0010###\n",
    "loss: 1.7601 - accuracy: 0.7375 - perplexity: 5.8644 - val_loss: 1.6773 - val_accuracy: 0.7432 - val_perplexity: 5.3944 - lr: 0.0010\n",
    "'''"
   ]
  },
  {
   "cell_type": "code",
   "execution_count": 117,
   "id": "67bdc6f6",
   "metadata": {},
   "outputs": [],
   "source": [
    "columns_and_values = TXXT.split(\"###\")\n",
    "columns = ['loss', 'accuracy', 'perplexity', 'val_loss', 'val_accuracy', 'val_perplexity','lr']\n",
    "keyVals = {'loss':[], 'accuracy':[], 'perplexity':[], 'val_loss':[], 'val_accuracy':[], 'val_perplexity':[],'lr':[]}\n",
    "for column_and_value in columns_and_values:\n",
    "    vsla = column_and_value.split(' - ')\n",
    "    for metr,strsss in zip(columns,vsla):\n",
    "        keyVals[metr].append(float(strsss.split(': ')[1])) "
   ]
  },
  {
   "cell_type": "code",
   "execution_count": 118,
   "id": "cd3892b8",
   "metadata": {},
   "outputs": [],
   "source": [
    "import matplotlib.pyplot as plt"
   ]
  },
  {
   "cell_type": "code",
   "execution_count": 121,
   "id": "a9c4848a",
   "metadata": {},
   "outputs": [
    {
     "data": {
      "image/png": "[encoded data removed]",
      "text/plain": [
       "<Figure size 640x480 with 1 Axes>"
      ]
     },
     "metadata": {},
     "output_type": "display_data"
    }
   ],
   "source": [
    "plt.plot(keyVals['loss'])\n",
    "plt.plot(keyVals['val_loss'])\n",
    "plt.ylabel('loss')\n",
    "plt.xlabel('Epoch')\n",
    "plt.legend(['train loss', 'validation loss'])\n",
    "plt.show()"
   ]
  },
  {
   "cell_type": "code",
   "execution_count": 124,
   "id": "1d6a8643",
   "metadata": {
    "scrolled": true
   },
   "outputs": [
    {
     "data": {
      "image/png": "[encoded data removed]",
      "text/plain": [
       "<Figure size 640x480 with 1 Axes>"
      ]
     },
     "metadata": {},
     "output_type": "display_data"
    }
   ],
   "source": [
    "plt.plot(keyVals['perplexity'])\n",
    "plt.plot(keyVals['val_perplexity'])\n",
    "plt.ylabel('perplexity')\n",
    "plt.xlabel('Epoch')\n",
    "plt.legend(['train perplexity', 'validation perplexity'], loc='upper left')\n",
    "plt.show()"
   ]
  },
  {
   "cell_type": "code",
   "execution_count": 123,
   "id": "4b4abc9f",
   "metadata": {},
   "outputs": [
    {
     "data": {
      "image/png": "[encoded data removed]",
      "text/plain": [
       "<Figure size 640x480 with 1 Axes>"
      ]
     },
     "metadata": {},
     "output_type": "display_data"
    }
   ],
   "source": [
    "plt.plot(keyVals['accuracy'])\n",
    "plt.plot(keyVals['val_accuracy'])\n",
    "plt.ylabel('accuracy')\n",
    "plt.xlabel('Epoch')\n",
    "plt.legend(['train accuracy', 'validation accuracy'], loc='upper left')\n",
    "plt.show()"
   ]
  },
  {
   "cell_type": "markdown",
   "id": "a69281e1",
   "metadata": {},
   "source": [
    "### Loading Best Saved Model "
   ]
  },
  {
   "cell_type": "code",
   "execution_count": 14,
   "id": "94e9fd9b",
   "metadata": {},
   "outputs": [],
   "source": [
    "loadModel = tf.keras.models.load_model('model2_save/weights-24-5.3944.hdf5',custom_objects = {'perplexity':perplexity})"
   ]
  },
  {
   "cell_type": "code",
   "execution_count": 15,
   "id": "94a158e8",
   "metadata": {},
   "outputs": [],
   "source": [
    "def predictOutput(input_sentence):\n",
    "    '''\n",
    "    This Method returns the output sentence for given input sentence\n",
    "    In this method we pass input sentence through all the layers in the model\n",
    "    '''\n",
    "    #Tokenizing input sentence\n",
    "    enCode = bpemb_en.encode_ids_with_bos_eos(input_sentence)\n",
    "    deSentence = [[1]]\n",
    "    encInpTrain = pad_sequences([enCode], maxlen=15, padding=\"post\")\n",
    "    decoder_input_train = np.array(deSentence)\n",
    "    embEncoder = loadModel.layers[1](encInpTrain)\n",
    "    encOp,stateF,stateB=loadModel.layers[3](embEncoder)\n",
    "    concatenated = loadModel.layers[5]([stateF,stateB])\n",
    "    outputSentenceList = []\n",
    "    for i in range(0,15):\n",
    "        embeddingDec = loadModel.layers[4](decoder_input_train)\n",
    "        output,state = loadModel.layers[6](embeddingDec, initial_state = concatenated)\n",
    "        dense = loadModel.layers[8](output)\n",
    "        dense1 = loadModel.layers[10](dense)\n",
    "        index = np.argmax(dense1[0][0])\n",
    "        deSentence = [[int(index)]]\n",
    "        decoder_input_train = np.array(deSentence)\n",
    "        outputSentenceList.append(int(index))\n",
    "        concatenated = state\n",
    "        if(index == 0):\n",
    "              break\n",
    "    return outputSentenceList"
   ]
  },
  {
   "cell_type": "code",
   "execution_count": 44,
   "id": "74baa91f",
   "metadata": {},
   "outputs": [
    {
     "name": "stderr",
     "output_type": "stream",
     "text": [
      "100%|████████████████████████████████████████████████████████████████████████████████████| 7/7 [00:00<00:00, 22.46it/s]\n"
     ]
    },
    {
     "data": {
      "text/plain": [
       "['is a copy of the agreement  ',\n",
       " 'is a  ',\n",
       " 'to get a copy of the attached  ',\n",
       " 'help  ',\n",
       " 'you are not  ',\n",
       " 'the office  ',\n",
       " 'be a good time  ']"
      ]
     },
     "execution_count": 44,
     "metadata": {},
     "output_type": "execute_result"
    }
   ],
   "source": [
    "def returnOutput(listData):\n",
    "    Predictions = []\n",
    "    Lst = []\n",
    "    for txt in tqdm(listData):\n",
    "        Lst = bpemb_en.decode_ids(predictOutput(txt))\n",
    "        Predictions.append(' '.join(Lst))\n",
    "    return Predictions\n",
    "\n",
    "returnOutput(['a copy of the ivaco','the forward price','paul should be able','thanks again for your','are you sure','here you go to','not the correct time to'])"
   ]
  },
  {
   "cell_type": "code",
   "execution_count": 16,
   "id": "02cbe832",
   "metadata": {},
   "outputs": [
    {
     "name": "stdout",
     "output_type": "stream",
     "text": [
      "15435/15435 [==============================] - 483s 30ms/step - loss: 1.6776 - accuracy: 0.7431 - perplexity: 5.4514\n",
      "Loss:    1.6775941848754883\n",
      "Accuracy:    0.7431058883666992\n",
      "Perplexity:    5.451447486877441\n"
     ]
    }
   ],
   "source": [
    "Loss,Accuracy,Perplexity = loadModel.evaluate([encInpTest, decInpTest], decOutTest)\n",
    "print('Loss:   ',Loss)\n",
    "print('Accuracy:   ',Accuracy)\n",
    "print('Perplexity:   ',Perplexity)"
   ]
  }
 ],
 "metadata": {
  "kernelspec": {
   "display_name": "Python 3.9 (TensorFlow)",
   "language": "python",
   "name": "tenorflow"
  },
  "language_info": {
   "codemirror_mode": {
    "name": "ipython",
    "version": 3
   },
   "file_extension": ".py",
   "mimetype": "text/x-python",
   "name": "python",
   "nbconvert_exporter": "python",
   "pygments_lexer": "ipython3",
   "version": "3.9.7"
  }
 },
 "nbformat": 4,
 "nbformat_minor": 5
}
